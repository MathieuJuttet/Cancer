{
 "metadata": {
  "language_info": {
   "codemirror_mode": {
    "name": "ipython",
    "version": 3
   },
   "file_extension": ".py",
   "mimetype": "text/x-python",
   "name": "python",
   "nbconvert_exporter": "python",
   "pygments_lexer": "ipython3",
   "version": "3.7.6-final"
  },
  "orig_nbformat": 2,
  "kernelspec": {
   "name": "python3",
   "display_name": "Python 3",
   "language": "python"
  }
 },
 "nbformat": 4,
 "nbformat_minor": 2,
 "cells": [
  {
   "source": [
    "# Cancer prediction - starting_kit\n",
    "This notebook can be consulted as an HTML page following this link.\n",
    "\n",
    "\n",
    "This notebook aims at defining the theoretical understanding of cancer prediction and its correlation with genes. \n",
    "\n",
    "In addition to the medical knowldege, the data set which will be used will also be presented and illustrated. \n",
    "\n",
    "Last, an initial machine learning example will be provided in order to initiate your contribution to the challenge by proving you with an basic working solution.\n",
    "\n",
    "\n"
   ],
   "cell_type": "markdown",
   "metadata": {}
  },
  {
   "source": [
    "In 2018 there have been 18million new cases of cancer and 10 millions death. About 20% of men will have a cancer and 17% of the woman. 1 man over 8 will die of cancer and 1 woman over 11.\n",
    "Living with a cancer five year after its diagnosis is called prevalence. 50 million in the world are in this case.\n",
    "\n",
    "The rise of cancer in our societies has multiple origins : demographic growth, the ageing of the population, social and economical factors. The type of cancers shifts with the development of countries from cancers linked to poverty to cancers associated with industrialized way of life. \n",
    "\n",
    "Europe concentrates 23.4% of the cancers and 20.3% of the death due to cancer even though it only represents 9% of the worldwide population. United States and Canada together count for 21% of the cancer cases, 14% of the death with 13.3% of the population. \n",
    "\n",
    "\n",
    "A cancer is caused by a mutation of the DNA, thus, the cell’s reproduction becomes out of control. Many mutation can have the same effect, resulting in many different types of cancer. That is why cancer cannot can be cured as simply as other pathologies. \n",
    "\n",
    "One of the major aspects of treating a cancer is detecting is, knowing which mutation of the DNA it is, what are the specific consequences of those mutations on the cells which then gives the doctor an indication about how to treat it. \n"
   ],
   "cell_type": "markdown",
   "metadata": {}
  },
  {
   "cell_type": "code",
   "execution_count": 86,
   "metadata": {},
   "outputs": [],
   "source": [
    "import pandas as pd"
   ]
  },
  {
   "cell_type": "code",
   "execution_count": 100,
   "metadata": {},
   "outputs": [],
   "source": [
    "df_case = pd.read_csv('/Users/mathieujuttet/Documents/99-Travail/4-M2 Data Science/3-P1/8-Data Camp/2-Projet en groupe/Cancer/data/case.tsv', sep='\\t')\n",
    "df_cnv = pd.read_csv('/Users/mathieujuttet/Documents/99-Travail/4-M2 Data Science/3-P1/8-Data Camp/2-Projet en groupe/Cancer/data/cnv.tsv', sep='\\t')\n",
    "df_gene = pd.read_csv('/Users/mathieujuttet/Documents/99-Travail/4-M2 Data Science/3-P1/8-Data Camp/2-Projet en groupe/Cancer/data/gene.tsv', sep='\\t')\n",
    "df_ssm = pd.read_csv('/Users/mathieujuttet/Documents/99-Travail/4-M2 Data Science/3-P1/8-Data Camp/2-Projet en groupe/Cancer/data/ssm.tsv', sep='\\t')"
   ]
  },
  {
   "source": [
    "### Data Frame: case\n",
    "\n",
    "Information on each case such as age, alcohol, tobacco, BMI (Body Mass Index), most of the values are not availale (NaN)\n",
    "\n",
    "36 columns and 9115 rows.\n",
    "\n",
    "Possible key: 'case_id' or 'id'"
   ],
   "cell_type": "markdown",
   "metadata": {}
  },
  {
   "cell_type": "code",
   "execution_count": 101,
   "metadata": {},
   "outputs": [
    {
     "output_type": "execute_result",
     "data": {
      "text/plain": [
       "     annotations.0.annotation_id annotations.0.case_id annotations.0.category  \\\n",
       "0                            NaN                   NaN                    NaN   \n",
       "1                            NaN                   NaN                    NaN   \n",
       "2                            NaN                   NaN                    NaN   \n",
       "3                            NaN                   NaN                    NaN   \n",
       "4                            NaN                   NaN                    NaN   \n",
       "...                          ...                   ...                    ...   \n",
       "9110                         NaN                   NaN                    NaN   \n",
       "9111                         NaN                   NaN                    NaN   \n",
       "9112                         NaN                   NaN                    NaN   \n",
       "9113                         NaN                   NaN                    NaN   \n",
       "9114                         NaN                   NaN                    NaN   \n",
       "\n",
       "     annotations.0.classification annotations.0.created_datetime  \\\n",
       "0                             NaN                            NaN   \n",
       "1                             NaN                            NaN   \n",
       "2                             NaN                            NaN   \n",
       "3                             NaN                            NaN   \n",
       "4                             NaN                            NaN   \n",
       "...                           ...                            ...   \n",
       "9110                          NaN                            NaN   \n",
       "9111                          NaN                            NaN   \n",
       "9112                          NaN                            NaN   \n",
       "9113                          NaN                            NaN   \n",
       "9114                          NaN                            NaN   \n",
       "\n",
       "     annotations.0.entity_id annotations.0.entity_submitter_id  \\\n",
       "0                        NaN                               NaN   \n",
       "1                        NaN                               NaN   \n",
       "2                        NaN                               NaN   \n",
       "3                        NaN                               NaN   \n",
       "4                        NaN                               NaN   \n",
       "...                      ...                               ...   \n",
       "9110                     NaN                               NaN   \n",
       "9111                     NaN                               NaN   \n",
       "9112                     NaN                               NaN   \n",
       "9113                     NaN                               NaN   \n",
       "9114                     NaN                               NaN   \n",
       "\n",
       "     annotations.0.entity_type annotations.0.notes annotations.0.state  ...  \\\n",
       "0                          NaN                 NaN                 NaN  ...   \n",
       "1                          NaN                 NaN                 NaN  ...   \n",
       "2                          NaN                 NaN                 NaN  ...   \n",
       "3                          NaN                 NaN                 NaN  ...   \n",
       "4                          NaN                 NaN                 NaN  ...   \n",
       "...                        ...                 ...                 ...  ...   \n",
       "9110                       NaN                 NaN                 NaN  ...   \n",
       "9111                       NaN                 NaN                 NaN  ...   \n",
       "9112                       NaN                 NaN                 NaN  ...   \n",
       "9113                       NaN                 NaN                 NaN  ...   \n",
       "9114                       NaN                 NaN                 NaN  ...   \n",
       "\n",
       "     samples.8.tumor_code  samples.8.tumor_code_id samples.8.tumor_descriptor  \\\n",
       "0                     NaN                      NaN                        NaN   \n",
       "1                     NaN                      NaN                        NaN   \n",
       "2                     NaN                      NaN                        NaN   \n",
       "3                     NaN                      NaN                        NaN   \n",
       "4                     NaN                      NaN                        NaN   \n",
       "...                   ...                      ...                        ...   \n",
       "9110                  NaN                      NaN                        NaN   \n",
       "9111                  NaN                      NaN                        NaN   \n",
       "9112                  NaN                      NaN                        NaN   \n",
       "9113                  NaN                      NaN                        NaN   \n",
       "9114                  NaN                      NaN                        NaN   \n",
       "\n",
       "     samples.8.updated_datetime       submitter_id tissue_source_site.bcr_id  \\\n",
       "0                           NaN             AD7074                       NaN   \n",
       "1                           NaN  GENIE-DFCI-002294                       NaN   \n",
       "2                           NaN  GENIE-DFCI-078832                       NaN   \n",
       "3                           NaN  GENIE-DFCI-037611                       NaN   \n",
       "4                           NaN  GENIE-DFCI-011493                       NaN   \n",
       "...                         ...                ...                       ...   \n",
       "9110                        NaN            AD11433                       NaN   \n",
       "9111                        NaN              AD559                       NaN   \n",
       "9112                        NaN            AD12450                       NaN   \n",
       "9113                        NaN            AD10611                       NaN   \n",
       "9114                        NaN             AD2577                       NaN   \n",
       "\n",
       "     tissue_source_site.code tissue_source_site.name  \\\n",
       "0                        NaN                     NaN   \n",
       "1                        NaN                     NaN   \n",
       "2                        NaN                     NaN   \n",
       "3                        NaN                     NaN   \n",
       "4                        NaN                     NaN   \n",
       "...                      ...                     ...   \n",
       "9110                     NaN                     NaN   \n",
       "9111                     NaN                     NaN   \n",
       "9112                     NaN                     NaN   \n",
       "9113                     NaN                     NaN   \n",
       "9114                     NaN                     NaN   \n",
       "\n",
       "     tissue_source_site.project tissue_source_site.tissue_source_site_id  \n",
       "0                           NaN                                      NaN  \n",
       "1                           NaN                                      NaN  \n",
       "2                           NaN                                      NaN  \n",
       "3                           NaN                                      NaN  \n",
       "4                           NaN                                      NaN  \n",
       "...                         ...                                      ...  \n",
       "9110                        NaN                                      NaN  \n",
       "9111                        NaN                                      NaN  \n",
       "9112                        NaN                                      NaN  \n",
       "9113                        NaN                                      NaN  \n",
       "9114                        NaN                                      NaN  \n",
       "\n",
       "[9115 rows x 539 columns]"
      ],
      "text/html": "<div>\n<style scoped>\n    .dataframe tbody tr th:only-of-type {\n        vertical-align: middle;\n    }\n\n    .dataframe tbody tr th {\n        vertical-align: top;\n    }\n\n    .dataframe thead th {\n        text-align: right;\n    }\n</style>\n<table border=\"1\" class=\"dataframe\">\n  <thead>\n    <tr style=\"text-align: right;\">\n      <th></th>\n      <th>annotations.0.annotation_id</th>\n      <th>annotations.0.case_id</th>\n      <th>annotations.0.category</th>\n      <th>annotations.0.classification</th>\n      <th>annotations.0.created_datetime</th>\n      <th>annotations.0.entity_id</th>\n      <th>annotations.0.entity_submitter_id</th>\n      <th>annotations.0.entity_type</th>\n      <th>annotations.0.notes</th>\n      <th>annotations.0.state</th>\n      <th>...</th>\n      <th>samples.8.tumor_code</th>\n      <th>samples.8.tumor_code_id</th>\n      <th>samples.8.tumor_descriptor</th>\n      <th>samples.8.updated_datetime</th>\n      <th>submitter_id</th>\n      <th>tissue_source_site.bcr_id</th>\n      <th>tissue_source_site.code</th>\n      <th>tissue_source_site.name</th>\n      <th>tissue_source_site.project</th>\n      <th>tissue_source_site.tissue_source_site_id</th>\n    </tr>\n  </thead>\n  <tbody>\n    <tr>\n      <th>0</th>\n      <td>NaN</td>\n      <td>NaN</td>\n      <td>NaN</td>\n      <td>NaN</td>\n      <td>NaN</td>\n      <td>NaN</td>\n      <td>NaN</td>\n      <td>NaN</td>\n      <td>NaN</td>\n      <td>NaN</td>\n      <td>...</td>\n      <td>NaN</td>\n      <td>NaN</td>\n      <td>NaN</td>\n      <td>NaN</td>\n      <td>AD7074</td>\n      <td>NaN</td>\n      <td>NaN</td>\n      <td>NaN</td>\n      <td>NaN</td>\n      <td>NaN</td>\n    </tr>\n    <tr>\n      <th>1</th>\n      <td>NaN</td>\n      <td>NaN</td>\n      <td>NaN</td>\n      <td>NaN</td>\n      <td>NaN</td>\n      <td>NaN</td>\n      <td>NaN</td>\n      <td>NaN</td>\n      <td>NaN</td>\n      <td>NaN</td>\n      <td>...</td>\n      <td>NaN</td>\n      <td>NaN</td>\n      <td>NaN</td>\n      <td>NaN</td>\n      <td>GENIE-DFCI-002294</td>\n      <td>NaN</td>\n      <td>NaN</td>\n      <td>NaN</td>\n      <td>NaN</td>\n      <td>NaN</td>\n    </tr>\n    <tr>\n      <th>2</th>\n      <td>NaN</td>\n      <td>NaN</td>\n      <td>NaN</td>\n      <td>NaN</td>\n      <td>NaN</td>\n      <td>NaN</td>\n      <td>NaN</td>\n      <td>NaN</td>\n      <td>NaN</td>\n      <td>NaN</td>\n      <td>...</td>\n      <td>NaN</td>\n      <td>NaN</td>\n      <td>NaN</td>\n      <td>NaN</td>\n      <td>GENIE-DFCI-078832</td>\n      <td>NaN</td>\n      <td>NaN</td>\n      <td>NaN</td>\n      <td>NaN</td>\n      <td>NaN</td>\n    </tr>\n    <tr>\n      <th>3</th>\n      <td>NaN</td>\n      <td>NaN</td>\n      <td>NaN</td>\n      <td>NaN</td>\n      <td>NaN</td>\n      <td>NaN</td>\n      <td>NaN</td>\n      <td>NaN</td>\n      <td>NaN</td>\n      <td>NaN</td>\n      <td>...</td>\n      <td>NaN</td>\n      <td>NaN</td>\n      <td>NaN</td>\n      <td>NaN</td>\n      <td>GENIE-DFCI-037611</td>\n      <td>NaN</td>\n      <td>NaN</td>\n      <td>NaN</td>\n      <td>NaN</td>\n      <td>NaN</td>\n    </tr>\n    <tr>\n      <th>4</th>\n      <td>NaN</td>\n      <td>NaN</td>\n      <td>NaN</td>\n      <td>NaN</td>\n      <td>NaN</td>\n      <td>NaN</td>\n      <td>NaN</td>\n      <td>NaN</td>\n      <td>NaN</td>\n      <td>NaN</td>\n      <td>...</td>\n      <td>NaN</td>\n      <td>NaN</td>\n      <td>NaN</td>\n      <td>NaN</td>\n      <td>GENIE-DFCI-011493</td>\n      <td>NaN</td>\n      <td>NaN</td>\n      <td>NaN</td>\n      <td>NaN</td>\n      <td>NaN</td>\n    </tr>\n    <tr>\n      <th>...</th>\n      <td>...</td>\n      <td>...</td>\n      <td>...</td>\n      <td>...</td>\n      <td>...</td>\n      <td>...</td>\n      <td>...</td>\n      <td>...</td>\n      <td>...</td>\n      <td>...</td>\n      <td>...</td>\n      <td>...</td>\n      <td>...</td>\n      <td>...</td>\n      <td>...</td>\n      <td>...</td>\n      <td>...</td>\n      <td>...</td>\n      <td>...</td>\n      <td>...</td>\n      <td>...</td>\n    </tr>\n    <tr>\n      <th>9110</th>\n      <td>NaN</td>\n      <td>NaN</td>\n      <td>NaN</td>\n      <td>NaN</td>\n      <td>NaN</td>\n      <td>NaN</td>\n      <td>NaN</td>\n      <td>NaN</td>\n      <td>NaN</td>\n      <td>NaN</td>\n      <td>...</td>\n      <td>NaN</td>\n      <td>NaN</td>\n      <td>NaN</td>\n      <td>NaN</td>\n      <td>AD11433</td>\n      <td>NaN</td>\n      <td>NaN</td>\n      <td>NaN</td>\n      <td>NaN</td>\n      <td>NaN</td>\n    </tr>\n    <tr>\n      <th>9111</th>\n      <td>NaN</td>\n      <td>NaN</td>\n      <td>NaN</td>\n      <td>NaN</td>\n      <td>NaN</td>\n      <td>NaN</td>\n      <td>NaN</td>\n      <td>NaN</td>\n      <td>NaN</td>\n      <td>NaN</td>\n      <td>...</td>\n      <td>NaN</td>\n      <td>NaN</td>\n      <td>NaN</td>\n      <td>NaN</td>\n      <td>AD559</td>\n      <td>NaN</td>\n      <td>NaN</td>\n      <td>NaN</td>\n      <td>NaN</td>\n      <td>NaN</td>\n    </tr>\n    <tr>\n      <th>9112</th>\n      <td>NaN</td>\n      <td>NaN</td>\n      <td>NaN</td>\n      <td>NaN</td>\n      <td>NaN</td>\n      <td>NaN</td>\n      <td>NaN</td>\n      <td>NaN</td>\n      <td>NaN</td>\n      <td>NaN</td>\n      <td>...</td>\n      <td>NaN</td>\n      <td>NaN</td>\n      <td>NaN</td>\n      <td>NaN</td>\n      <td>AD12450</td>\n      <td>NaN</td>\n      <td>NaN</td>\n      <td>NaN</td>\n      <td>NaN</td>\n      <td>NaN</td>\n    </tr>\n    <tr>\n      <th>9113</th>\n      <td>NaN</td>\n      <td>NaN</td>\n      <td>NaN</td>\n      <td>NaN</td>\n      <td>NaN</td>\n      <td>NaN</td>\n      <td>NaN</td>\n      <td>NaN</td>\n      <td>NaN</td>\n      <td>NaN</td>\n      <td>...</td>\n      <td>NaN</td>\n      <td>NaN</td>\n      <td>NaN</td>\n      <td>NaN</td>\n      <td>AD10611</td>\n      <td>NaN</td>\n      <td>NaN</td>\n      <td>NaN</td>\n      <td>NaN</td>\n      <td>NaN</td>\n    </tr>\n    <tr>\n      <th>9114</th>\n      <td>NaN</td>\n      <td>NaN</td>\n      <td>NaN</td>\n      <td>NaN</td>\n      <td>NaN</td>\n      <td>NaN</td>\n      <td>NaN</td>\n      <td>NaN</td>\n      <td>NaN</td>\n      <td>NaN</td>\n      <td>...</td>\n      <td>NaN</td>\n      <td>NaN</td>\n      <td>NaN</td>\n      <td>NaN</td>\n      <td>AD2577</td>\n      <td>NaN</td>\n      <td>NaN</td>\n      <td>NaN</td>\n      <td>NaN</td>\n      <td>NaN</td>\n    </tr>\n  </tbody>\n</table>\n<p>9115 rows × 539 columns</p>\n</div>"
     },
     "metadata": {},
     "execution_count": 101
    }
   ],
   "source": [
    "df_case"
   ]
  },
  {
   "cell_type": "code",
   "execution_count": 104,
   "metadata": {},
   "outputs": [
    {
     "output_type": "stream",
     "name": "stdout",
     "text": [
      "annotations.0.annotation_id\nannotations.0.case_id\nannotations.0.category\nannotations.0.classification\nannotations.0.created_datetime\nannotations.0.entity_id\nannotations.0.entity_submitter_id\nannotations.0.entity_type\nannotations.0.notes\nannotations.0.state\nannotations.0.status\nannotations.0.submitter_id\nannotations.0.updated_datetime\nannotations.1.annotation_id\nannotations.1.case_id\nannotations.1.category\nannotations.1.classification\nannotations.1.created_datetime\nannotations.1.entity_id\nannotations.1.entity_submitter_id\nannotations.1.entity_type\nannotations.1.notes\nannotations.1.state\nannotations.1.status\nannotations.1.submitter_id\nannotations.1.updated_datetime\ncase_id\ndemographic.age_at_index\ndemographic.age_is_obfuscated\ndemographic.cause_of_death\ndemographic.cause_of_death_source\ndemographic.country_of_residence_at_enrollment\ndemographic.created_datetime\ndemographic.days_to_birth\ndemographic.days_to_death\ndemographic.demographic_id\ndemographic.ethnicity\ndemographic.gender\ndemographic.occupation_duration_years\ndemographic.premature_at_birth\ndemographic.race\ndemographic.state\ndemographic.submitter_id\ndemographic.updated_datetime\ndemographic.vital_status\ndemographic.weeks_gestation_at_birth\ndemographic.year_of_birth\ndemographic.year_of_death\ndiagnoses.0.age_at_diagnosis\ndiagnoses.0.ajcc_clinical_m\ndiagnoses.0.ajcc_clinical_n\ndiagnoses.0.ajcc_clinical_stage\ndiagnoses.0.ajcc_clinical_t\ndiagnoses.0.ajcc_pathologic_m\ndiagnoses.0.ajcc_pathologic_n\ndiagnoses.0.ajcc_pathologic_stage\ndiagnoses.0.ajcc_pathologic_t\ndiagnoses.0.ajcc_staging_system_edition\ndiagnoses.0.anaplasia_present\ndiagnoses.0.anaplasia_present_type\ndiagnoses.0.ann_arbor_b_symptoms\ndiagnoses.0.ann_arbor_clinical_stage\ndiagnoses.0.ann_arbor_extranodal_involvement\ndiagnoses.0.ann_arbor_pathologic_stage\ndiagnoses.0.best_overall_response\ndiagnoses.0.breslow_thickness\ndiagnoses.0.burkitt_lymphoma_clinical_variant\ndiagnoses.0.child_pugh_classification\ndiagnoses.0.circumferential_resection_margin\ndiagnoses.0.classification_of_tumor\ndiagnoses.0.cog_liver_stage\ndiagnoses.0.cog_neuroblastoma_risk_group\ndiagnoses.0.cog_renal_stage\ndiagnoses.0.cog_rhabdomyosarcoma_risk_group\ndiagnoses.0.created_datetime\ndiagnoses.0.days_to_best_overall_response\ndiagnoses.0.days_to_diagnosis\ndiagnoses.0.days_to_last_follow_up\ndiagnoses.0.days_to_last_known_disease_status\ndiagnoses.0.days_to_recurrence\ndiagnoses.0.diagnosis_id\ndiagnoses.0.enneking_msts_grade\ndiagnoses.0.enneking_msts_metastasis\ndiagnoses.0.enneking_msts_stage\ndiagnoses.0.enneking_msts_tumor_site\ndiagnoses.0.esophageal_columnar_dysplasia_degree\ndiagnoses.0.esophageal_columnar_metaplasia_present\ndiagnoses.0.figo_stage\ndiagnoses.0.figo_staging_edition_year\ndiagnoses.0.first_symptom_prior_to_diagnosis\ndiagnoses.0.gastric_esophageal_junction_involvement\ndiagnoses.0.gleason_grade_group\ndiagnoses.0.gleason_grade_tertiary\ndiagnoses.0.gleason_patterns_percent\ndiagnoses.0.goblet_cells_columnar_mucosa_present\ndiagnoses.0.greatest_tumor_dimension\ndiagnoses.0.gross_tumor_weight\ndiagnoses.0.icd_10_code\ndiagnoses.0.igcccg_stage\ndiagnoses.0.inpc_grade\ndiagnoses.0.inpc_histologic_group\ndiagnoses.0.inrg_stage\ndiagnoses.0.inss_stage\ndiagnoses.0.international_prognostic_index\ndiagnoses.0.irs_group\ndiagnoses.0.irs_stage\ndiagnoses.0.ishak_fibrosis_score\ndiagnoses.0.iss_stage\ndiagnoses.0.largest_extrapelvic_peritoneal_focus\ndiagnoses.0.last_known_disease_status\ndiagnoses.0.laterality\ndiagnoses.0.lymph_node_involved_site\ndiagnoses.0.lymph_nodes_positive\ndiagnoses.0.lymph_nodes_tested\ndiagnoses.0.lymphatic_invasion_present\ndiagnoses.0.margin_distance\ndiagnoses.0.margins_involved_site\ndiagnoses.0.masaoka_stage\ndiagnoses.0.medulloblastoma_molecular_classification\ndiagnoses.0.metastasis_at_diagnosis\ndiagnoses.0.metastasis_at_diagnosis_site\ndiagnoses.0.method_of_diagnosis\ndiagnoses.0.micropapillary_features\ndiagnoses.0.mitosis_karyorrhexis_index\ndiagnoses.0.mitotic_count\ndiagnoses.0.morphology\ndiagnoses.0.non_nodal_regional_disease\ndiagnoses.0.non_nodal_tumor_deposits\ndiagnoses.0.ovarian_specimen_status\ndiagnoses.0.ovarian_surface_involvement\ndiagnoses.0.papillary_renal_cell_type\ndiagnoses.0.percent_tumor_invasion\ndiagnoses.0.perineural_invasion_present\ndiagnoses.0.peripancreatic_lymph_nodes_positive\ndiagnoses.0.peripancreatic_lymph_nodes_tested\ndiagnoses.0.peritoneal_fluid_cytological_status\ndiagnoses.0.pregnant_at_diagnosis\ndiagnoses.0.primary_diagnosis\ndiagnoses.0.primary_gleason_grade\ndiagnoses.0.prior_malignancy\ndiagnoses.0.prior_treatment\ndiagnoses.0.progression_or_recurrence\ndiagnoses.0.residual_disease\ndiagnoses.0.secondary_gleason_grade\ndiagnoses.0.site_of_resection_or_biopsy\ndiagnoses.0.state\ndiagnoses.0.submitter_id\ndiagnoses.0.supratentorial_localization\ndiagnoses.0.synchronous_malignancy\ndiagnoses.0.tissue_or_organ_of_origin\ndiagnoses.0.transglottic_extension\ndiagnoses.0.tumor_confined_to_organ_of_origin\ndiagnoses.0.tumor_depth\ndiagnoses.0.tumor_focality\ndiagnoses.0.tumor_grade\ndiagnoses.0.tumor_largest_dimension_diameter\ndiagnoses.0.tumor_regression_grade\ndiagnoses.0.tumor_stage\ndiagnoses.0.updated_datetime\ndiagnoses.0.vascular_invasion_present\ndiagnoses.0.vascular_invasion_type\ndiagnoses.0.weiss_assessment_score\ndiagnoses.0.wilms_tumor_histologic_subtype\ndiagnoses.0.year_of_diagnosis\nexposures.0.age_at_onset\nexposures.0.alcohol_days_per_week\nexposures.0.alcohol_drinks_per_day\nexposures.0.alcohol_history\nexposures.0.alcohol_intensity\nexposures.0.asbestos_exposure\nexposures.0.bmi\nexposures.0.cigarettes_per_day\nexposures.0.coal_dust_exposure\nexposures.0.created_datetime\nexposures.0.environmental_tobacco_smoke_exposure\nexposures.0.exposure_duration\nexposures.0.exposure_id\nexposures.0.exposure_type\nexposures.0.height\nexposures.0.marijuana_use_per_week\nexposures.0.pack_years_smoked\nexposures.0.radon_exposure\nexposures.0.respirable_crystalline_silica_exposure\nexposures.0.secondhand_smoke_as_child\nexposures.0.smoking_frequency\nexposures.0.state\nexposures.0.submitter_id\nexposures.0.time_between_waking_and_first_smoke\nexposures.0.tobacco_smoking_onset_year\nexposures.0.tobacco_smoking_quit_year\nexposures.0.tobacco_smoking_status\nexposures.0.tobacco_use_per_day\nexposures.0.type_of_smoke_exposure\nexposures.0.type_of_tobacco_used\nexposures.0.updated_datetime\nexposures.0.weight\nexposures.0.years_smoked\nfamily_histories.0.created_datetime\nfamily_histories.0.family_history_id\nfamily_histories.0.relationship_age_at_diagnosis\nfamily_histories.0.relationship_gender\nfamily_histories.0.relationship_primary_diagnosis\nfamily_histories.0.relationship_type\nfamily_histories.0.relative_with_cancer_history\nfamily_histories.0.relatives_with_cancer_history_count\nfamily_histories.0.state\nfamily_histories.0.submitter_id\nfamily_histories.0.updated_datetime\nid\nsamples.0.biospecimen_anatomic_site\nsamples.0.biospecimen_laterality\nsamples.0.catalog_reference\nsamples.0.composition\nsamples.0.created_datetime\nsamples.0.current_weight\nsamples.0.days_to_collection\nsamples.0.days_to_sample_procurement\nsamples.0.diagnosis_pathologically_confirmed\nsamples.0.distance_normal_to_tumor\nsamples.0.distributor_reference\nsamples.0.freezing_method\nsamples.0.growth_rate\nsamples.0.initial_weight\nsamples.0.intermediate_dimension\nsamples.0.is_ffpe\nsamples.0.longest_dimension\nsamples.0.method_of_sample_procurement\nsamples.0.oct_embedded\nsamples.0.passage_count\nsamples.0.pathology_report_uuid\nsamples.0.preservation_method\nsamples.0.sample_id\nsamples.0.sample_type\nsamples.0.sample_type_id\nsamples.0.shortest_dimension\nsamples.0.state\nsamples.0.submitter_id\nsamples.0.time_between_clamping_and_freezing\nsamples.0.time_between_excision_and_freezing\nsamples.0.tissue_collection_type\nsamples.0.tissue_type\nsamples.0.tumor_code\nsamples.0.tumor_code_id\nsamples.0.tumor_descriptor\nsamples.0.updated_datetime\nsamples.1.biospecimen_anatomic_site\nsamples.1.biospecimen_laterality\nsamples.1.catalog_reference\nsamples.1.composition\nsamples.1.created_datetime\nsamples.1.current_weight\nsamples.1.days_to_collection\nsamples.1.days_to_sample_procurement\nsamples.1.diagnosis_pathologically_confirmed\nsamples.1.distance_normal_to_tumor\nsamples.1.distributor_reference\nsamples.1.freezing_method\nsamples.1.growth_rate\nsamples.1.initial_weight\nsamples.1.intermediate_dimension\nsamples.1.is_ffpe\nsamples.1.longest_dimension\nsamples.1.method_of_sample_procurement\nsamples.1.oct_embedded\nsamples.1.passage_count\nsamples.1.pathology_report_uuid\nsamples.1.preservation_method\nsamples.1.sample_id\nsamples.1.sample_type\nsamples.1.sample_type_id\nsamples.1.shortest_dimension\nsamples.1.state\nsamples.1.submitter_id\nsamples.1.time_between_clamping_and_freezing\nsamples.1.time_between_excision_and_freezing\nsamples.1.tissue_collection_type\nsamples.1.tissue_type\nsamples.1.tumor_code\nsamples.1.tumor_code_id\nsamples.1.tumor_descriptor\nsamples.1.updated_datetime\nsamples.2.biospecimen_anatomic_site\nsamples.2.biospecimen_laterality\nsamples.2.catalog_reference\nsamples.2.composition\nsamples.2.created_datetime\nsamples.2.current_weight\nsamples.2.days_to_collection\nsamples.2.days_to_sample_procurement\nsamples.2.diagnosis_pathologically_confirmed\nsamples.2.distance_normal_to_tumor\nsamples.2.distributor_reference\nsamples.2.freezing_method\nsamples.2.growth_rate\nsamples.2.initial_weight\nsamples.2.intermediate_dimension\nsamples.2.is_ffpe\nsamples.2.longest_dimension\nsamples.2.method_of_sample_procurement\nsamples.2.oct_embedded\nsamples.2.passage_count\nsamples.2.pathology_report_uuid\nsamples.2.preservation_method\nsamples.2.sample_id\nsamples.2.sample_type\nsamples.2.sample_type_id\nsamples.2.shortest_dimension\nsamples.2.state\nsamples.2.submitter_id\nsamples.2.time_between_clamping_and_freezing\nsamples.2.time_between_excision_and_freezing\nsamples.2.tissue_collection_type\nsamples.2.tissue_type\nsamples.2.tumor_code\nsamples.2.tumor_code_id\nsamples.2.tumor_descriptor\nsamples.2.updated_datetime\nsamples.3.biospecimen_anatomic_site\nsamples.3.biospecimen_laterality\nsamples.3.catalog_reference\nsamples.3.composition\nsamples.3.created_datetime\nsamples.3.current_weight\nsamples.3.days_to_collection\nsamples.3.days_to_sample_procurement\nsamples.3.diagnosis_pathologically_confirmed\nsamples.3.distance_normal_to_tumor\nsamples.3.distributor_reference\nsamples.3.freezing_method\nsamples.3.growth_rate\nsamples.3.initial_weight\nsamples.3.intermediate_dimension\nsamples.3.is_ffpe\nsamples.3.longest_dimension\nsamples.3.method_of_sample_procurement\nsamples.3.oct_embedded\nsamples.3.passage_count\nsamples.3.pathology_report_uuid\nsamples.3.preservation_method\nsamples.3.sample_id\nsamples.3.sample_type\nsamples.3.sample_type_id\nsamples.3.shortest_dimension\nsamples.3.state\nsamples.3.submitter_id\nsamples.3.time_between_clamping_and_freezing\nsamples.3.time_between_excision_and_freezing\nsamples.3.tissue_collection_type\nsamples.3.tissue_type\nsamples.3.tumor_code\nsamples.3.tumor_code_id\nsamples.3.tumor_descriptor\nsamples.3.updated_datetime\nsamples.4.biospecimen_anatomic_site\nsamples.4.biospecimen_laterality\nsamples.4.catalog_reference\nsamples.4.composition\nsamples.4.created_datetime\nsamples.4.current_weight\nsamples.4.days_to_collection\nsamples.4.days_to_sample_procurement\nsamples.4.diagnosis_pathologically_confirmed\nsamples.4.distance_normal_to_tumor\nsamples.4.distributor_reference\nsamples.4.freezing_method\nsamples.4.growth_rate\nsamples.4.initial_weight\nsamples.4.intermediate_dimension\nsamples.4.is_ffpe\nsamples.4.longest_dimension\nsamples.4.method_of_sample_procurement\nsamples.4.oct_embedded\nsamples.4.passage_count\nsamples.4.pathology_report_uuid\nsamples.4.preservation_method\nsamples.4.sample_id\nsamples.4.sample_type\nsamples.4.sample_type_id\nsamples.4.shortest_dimension\nsamples.4.state\nsamples.4.submitter_id\nsamples.4.time_between_clamping_and_freezing\nsamples.4.time_between_excision_and_freezing\nsamples.4.tissue_collection_type\nsamples.4.tissue_type\nsamples.4.tumor_code\nsamples.4.tumor_code_id\nsamples.4.tumor_descriptor\nsamples.4.updated_datetime\nsamples.5.biospecimen_anatomic_site\nsamples.5.biospecimen_laterality\nsamples.5.catalog_reference\nsamples.5.composition\nsamples.5.created_datetime\nsamples.5.current_weight\nsamples.5.days_to_collection\nsamples.5.days_to_sample_procurement\nsamples.5.diagnosis_pathologically_confirmed\nsamples.5.distance_normal_to_tumor\nsamples.5.distributor_reference\nsamples.5.freezing_method\nsamples.5.growth_rate\nsamples.5.initial_weight\nsamples.5.intermediate_dimension\nsamples.5.is_ffpe\nsamples.5.longest_dimension\nsamples.5.method_of_sample_procurement\nsamples.5.oct_embedded\nsamples.5.passage_count\nsamples.5.pathology_report_uuid\nsamples.5.preservation_method\nsamples.5.sample_id\nsamples.5.sample_type\nsamples.5.sample_type_id\nsamples.5.shortest_dimension\nsamples.5.state\nsamples.5.submitter_id\nsamples.5.time_between_clamping_and_freezing\nsamples.5.time_between_excision_and_freezing\nsamples.5.tissue_collection_type\nsamples.5.tissue_type\nsamples.5.tumor_code\nsamples.5.tumor_code_id\nsamples.5.tumor_descriptor\nsamples.5.updated_datetime\nsamples.6.biospecimen_anatomic_site\nsamples.6.biospecimen_laterality\nsamples.6.catalog_reference\nsamples.6.composition\nsamples.6.created_datetime\nsamples.6.current_weight\nsamples.6.days_to_collection\nsamples.6.days_to_sample_procurement\nsamples.6.diagnosis_pathologically_confirmed\nsamples.6.distance_normal_to_tumor\nsamples.6.distributor_reference\nsamples.6.freezing_method\nsamples.6.growth_rate\nsamples.6.initial_weight\nsamples.6.intermediate_dimension\nsamples.6.is_ffpe\nsamples.6.longest_dimension\nsamples.6.method_of_sample_procurement\nsamples.6.oct_embedded\nsamples.6.passage_count\nsamples.6.pathology_report_uuid\nsamples.6.preservation_method\nsamples.6.sample_id\nsamples.6.sample_type\nsamples.6.sample_type_id\nsamples.6.shortest_dimension\nsamples.6.state\nsamples.6.submitter_id\nsamples.6.time_between_clamping_and_freezing\nsamples.6.time_between_excision_and_freezing\nsamples.6.tissue_collection_type\nsamples.6.tissue_type\nsamples.6.tumor_code\nsamples.6.tumor_code_id\nsamples.6.tumor_descriptor\nsamples.6.updated_datetime\nsamples.7.biospecimen_anatomic_site\nsamples.7.biospecimen_laterality\nsamples.7.catalog_reference\nsamples.7.composition\nsamples.7.created_datetime\nsamples.7.current_weight\nsamples.7.days_to_collection\nsamples.7.days_to_sample_procurement\nsamples.7.diagnosis_pathologically_confirmed\nsamples.7.distance_normal_to_tumor\nsamples.7.distributor_reference\nsamples.7.freezing_method\nsamples.7.growth_rate\nsamples.7.initial_weight\nsamples.7.intermediate_dimension\nsamples.7.is_ffpe\nsamples.7.longest_dimension\nsamples.7.method_of_sample_procurement\nsamples.7.oct_embedded\nsamples.7.passage_count\nsamples.7.pathology_report_uuid\nsamples.7.preservation_method\nsamples.7.sample_id\nsamples.7.sample_type\nsamples.7.sample_type_id\nsamples.7.shortest_dimension\nsamples.7.state\nsamples.7.submitter_id\nsamples.7.time_between_clamping_and_freezing\nsamples.7.time_between_excision_and_freezing\nsamples.7.tissue_collection_type\nsamples.7.tissue_type\nsamples.7.tumor_code\nsamples.7.tumor_code_id\nsamples.7.tumor_descriptor\nsamples.7.updated_datetime\nsamples.8.biospecimen_anatomic_site\nsamples.8.biospecimen_laterality\nsamples.8.catalog_reference\nsamples.8.composition\nsamples.8.created_datetime\nsamples.8.current_weight\nsamples.8.days_to_collection\nsamples.8.days_to_sample_procurement\nsamples.8.diagnosis_pathologically_confirmed\nsamples.8.distance_normal_to_tumor\nsamples.8.distributor_reference\nsamples.8.freezing_method\nsamples.8.growth_rate\nsamples.8.initial_weight\nsamples.8.intermediate_dimension\nsamples.8.is_ffpe\nsamples.8.longest_dimension\nsamples.8.method_of_sample_procurement\nsamples.8.oct_embedded\nsamples.8.passage_count\nsamples.8.pathology_report_uuid\nsamples.8.preservation_method\nsamples.8.sample_id\nsamples.8.sample_type\nsamples.8.sample_type_id\nsamples.8.shortest_dimension\nsamples.8.state\nsamples.8.submitter_id\nsamples.8.time_between_clamping_and_freezing\nsamples.8.time_between_excision_and_freezing\nsamples.8.tissue_collection_type\nsamples.8.tissue_type\nsamples.8.tumor_code\nsamples.8.tumor_code_id\nsamples.8.tumor_descriptor\nsamples.8.updated_datetime\nsubmitter_id\ntissue_source_site.bcr_id\ntissue_source_site.code\ntissue_source_site.name\ntissue_source_site.project\ntissue_source_site.tissue_source_site_id\n"
     ]
    }
   ],
   "source": [
    "df_case.dtypes\n",
    "for col in df_case.columns: \n",
    "    print(col)"
   ]
  },
  {
   "cell_type": "code",
   "execution_count": 115,
   "metadata": {
    "tags": []
   },
   "outputs": [
    {
     "output_type": "stream",
     "name": "stdout",
     "text": [
      "annotations.0.annotation_id \t 0.003181568842567197\nannotations.0.case_id \t 0.003181568842567197\nannotations.0.category \t 0.003181568842567197\nannotations.0.classification \t 0.003181568842567197\nannotations.0.created_datetime \t 0.003181568842567197\nannotations.0.entity_id \t 0.003181568842567197\nannotations.0.entity_submitter_id \t 0.003181568842567197\nannotations.0.entity_type \t 0.003181568842567197\nannotations.0.notes \t 0.003181568842567197\nannotations.0.state \t 0.003181568842567197\nannotations.0.status \t 0.003181568842567197\nannotations.0.submitter_id \t 0.003181568842567197\nannotations.0.updated_datetime \t 0.003181568842567197\nannotations.1.annotation_id \t 0.0006582556226001097\nannotations.1.case_id \t 0.0006582556226001097\nannotations.1.category \t 0.0006582556226001097\nannotations.1.classification \t 0.0006582556226001097\nannotations.1.created_datetime \t 0.0006582556226001097\nannotations.1.entity_id \t 0.0006582556226001097\nannotations.1.entity_submitter_id \t 0.0006582556226001097\nannotations.1.entity_type \t 0.0006582556226001097\nannotations.1.notes \t 0.0006582556226001097\nannotations.1.state \t 0.0006582556226001097\nannotations.1.status \t 0.0006582556226001097\nannotations.1.submitter_id \t 0.0006582556226001097\nannotations.1.updated_datetime \t 0.0006582556226001097\ncase_id \t 1.0\ndemographic.age_at_index \t 0.6760285244103127\ndemographic.age_is_obfuscated \t 0.00010970927043335162\ndemographic.cause_of_death \t 0.00010970927043335162\ndemographic.cause_of_death_source \t 0.0\ndemographic.country_of_residence_at_enrollment \t 0.0\ndemographic.created_datetime \t 0.8794295117937466\ndemographic.days_to_birth \t 0.6744925946242457\ndemographic.days_to_death \t 0.016675809105869445\ndemographic.demographic_id \t 0.9998902907295667\ndemographic.ethnicity \t 0.9998902907295667\ndemographic.gender \t 0.9998902907295667\ndemographic.occupation_duration_years \t 0.0\ndemographic.premature_at_birth \t 0.0\ndemographic.race \t 0.9998902907295667\ndemographic.state \t 0.9998902907295667\ndemographic.submitter_id \t 0.9998902907295667\ndemographic.updated_datetime \t 0.9998902907295667\ndemographic.vital_status \t 0.9998902907295667\ndemographic.weeks_gestation_at_birth \t 0.0\ndemographic.year_of_birth \t 0.12024136039495337\ndemographic.year_of_death \t 0.011409764125068568\ndiagnoses.0.age_at_diagnosis \t 0.4365331870543061\ndiagnoses.0.ajcc_clinical_m \t 0.0\ndiagnoses.0.ajcc_clinical_n \t 0.0\ndiagnoses.0.ajcc_clinical_stage \t 0.00010970927043335162\ndiagnoses.0.ajcc_clinical_t \t 0.0\ndiagnoses.0.ajcc_pathologic_m \t 0.12046077893582008\ndiagnoses.0.ajcc_pathologic_n \t 0.12046077893582008\ndiagnoses.0.ajcc_pathologic_stage \t 0.13395501919912234\ndiagnoses.0.ajcc_pathologic_t \t 0.12046077893582008\ndiagnoses.0.ajcc_staging_system_edition \t 0.1049917718047175\ndiagnoses.0.anaplasia_present \t 0.0\ndiagnoses.0.anaplasia_present_type \t 0.0\ndiagnoses.0.ann_arbor_b_symptoms \t 0.00010970927043335162\ndiagnoses.0.ann_arbor_clinical_stage \t 0.00010970927043335162\ndiagnoses.0.ann_arbor_extranodal_involvement \t 0.00010970927043335162\ndiagnoses.0.ann_arbor_pathologic_stage \t 0.0\ndiagnoses.0.best_overall_response \t 0.0\ndiagnoses.0.breslow_thickness \t 0.0\ndiagnoses.0.burkitt_lymphoma_clinical_variant \t 0.0\ndiagnoses.0.child_pugh_classification \t 0.0\ndiagnoses.0.circumferential_resection_margin \t 0.0\ndiagnoses.0.classification_of_tumor \t 0.4185408667032364\ndiagnoses.0.cog_liver_stage \t 0.0\ndiagnoses.0.cog_neuroblastoma_risk_group \t 0.0\ndiagnoses.0.cog_renal_stage \t 0.0\ndiagnoses.0.cog_rhabdomyosarcoma_risk_group \t 0.0\ndiagnoses.0.created_datetime \t 0.8794295117937466\ndiagnoses.0.days_to_best_overall_response \t 0.0\ndiagnoses.0.days_to_diagnosis \t 0.12057048820625343\ndiagnoses.0.days_to_last_follow_up \t 0.10905101481075151\ndiagnoses.0.days_to_last_known_disease_status \t 0.0\ndiagnoses.0.days_to_recurrence \t 0.0\ndiagnoses.0.diagnosis_id \t 0.9998902907295667\ndiagnoses.0.enneking_msts_grade \t 0.0\ndiagnoses.0.enneking_msts_metastasis \t 0.0\ndiagnoses.0.enneking_msts_stage \t 0.0\ndiagnoses.0.enneking_msts_tumor_site \t 0.0\ndiagnoses.0.esophageal_columnar_dysplasia_degree \t 0.0\ndiagnoses.0.esophageal_columnar_metaplasia_present \t 0.0\ndiagnoses.0.figo_stage \t 0.014701042238069117\ndiagnoses.0.figo_staging_edition_year \t 0.0\ndiagnoses.0.first_symptom_prior_to_diagnosis \t 0.0\ndiagnoses.0.gastric_esophageal_junction_involvement \t 0.0\ndiagnoses.0.gleason_grade_group \t 0.0\ndiagnoses.0.gleason_grade_tertiary \t 0.0\ndiagnoses.0.gleason_patterns_percent \t 0.0\ndiagnoses.0.goblet_cells_columnar_mucosa_present \t 0.0\ndiagnoses.0.greatest_tumor_dimension \t 0.0\ndiagnoses.0.gross_tumor_weight \t 0.0\ndiagnoses.0.icd_10_code \t 0.12057048820625343\ndiagnoses.0.igcccg_stage \t 0.0\ndiagnoses.0.inpc_grade \t 0.0\ndiagnoses.0.inpc_histologic_group \t 0.0\ndiagnoses.0.inrg_stage \t 0.0\ndiagnoses.0.inss_stage \t 0.0\ndiagnoses.0.international_prognostic_index \t 0.0\ndiagnoses.0.irs_group \t 0.0\ndiagnoses.0.irs_stage \t 0.0\ndiagnoses.0.ishak_fibrosis_score \t 0.0\ndiagnoses.0.iss_stage \t 0.0\ndiagnoses.0.largest_extrapelvic_peritoneal_focus \t 0.0\ndiagnoses.0.last_known_disease_status \t 0.975973669775096\ndiagnoses.0.laterality \t 0.0\ndiagnoses.0.lymph_node_involved_site \t 0.0\ndiagnoses.0.lymph_nodes_positive \t 0.0\ndiagnoses.0.lymph_nodes_tested \t 0.0\ndiagnoses.0.lymphatic_invasion_present \t 0.0\ndiagnoses.0.margin_distance \t 0.0\ndiagnoses.0.margins_involved_site \t 0.0\ndiagnoses.0.masaoka_stage \t 0.0\ndiagnoses.0.medulloblastoma_molecular_classification \t 0.0\ndiagnoses.0.metastasis_at_diagnosis \t 0.00010970927043335162\ndiagnoses.0.metastasis_at_diagnosis_site \t 0.0\ndiagnoses.0.method_of_diagnosis \t 0.0\ndiagnoses.0.micropapillary_features \t 0.0\ndiagnoses.0.mitosis_karyorrhexis_index \t 0.0\ndiagnoses.0.mitotic_count \t 0.0\ndiagnoses.0.morphology \t 0.9998902907295667\ndiagnoses.0.non_nodal_regional_disease \t 0.0\ndiagnoses.0.non_nodal_tumor_deposits \t 0.0\ndiagnoses.0.ovarian_specimen_status \t 0.0\ndiagnoses.0.ovarian_surface_involvement \t 0.0\ndiagnoses.0.papillary_renal_cell_type \t 0.0\ndiagnoses.0.percent_tumor_invasion \t 0.0\ndiagnoses.0.perineural_invasion_present \t 0.0\ndiagnoses.0.peripancreatic_lymph_nodes_positive \t 0.0\ndiagnoses.0.peripancreatic_lymph_nodes_tested \t 0.0\ndiagnoses.0.peritoneal_fluid_cytological_status \t 0.0\ndiagnoses.0.pregnant_at_diagnosis \t 0.0\ndiagnoses.0.primary_diagnosis \t 0.9998902907295667\ndiagnoses.0.primary_gleason_grade \t 0.0\ndiagnoses.0.prior_malignancy \t 0.13395501919912234\ndiagnoses.0.prior_treatment \t 0.12057048820625343\ndiagnoses.0.progression_or_recurrence \t 0.975973669775096\ndiagnoses.0.residual_disease \t 0.0\ndiagnoses.0.secondary_gleason_grade \t 0.0\ndiagnoses.0.site_of_resection_or_biopsy \t 0.9998902907295667\ndiagnoses.0.state \t 0.9998902907295667\ndiagnoses.0.submitter_id \t 0.9998902907295667\ndiagnoses.0.supratentorial_localization \t 0.0\ndiagnoses.0.synchronous_malignancy \t 0.12046077893582008\ndiagnoses.0.tissue_or_organ_of_origin \t 0.9998902907295667\ndiagnoses.0.transglottic_extension \t 0.0\ndiagnoses.0.tumor_confined_to_organ_of_origin \t 0.0\ndiagnoses.0.tumor_depth \t 0.0\ndiagnoses.0.tumor_focality \t 0.0\ndiagnoses.0.tumor_grade \t 0.9760833790455293\ndiagnoses.0.tumor_largest_dimension_diameter \t 0.0\ndiagnoses.0.tumor_regression_grade \t 0.0\ndiagnoses.0.tumor_stage \t 0.975973669775096\ndiagnoses.0.updated_datetime \t 0.9998902907295667\ndiagnoses.0.vascular_invasion_present \t 0.0\ndiagnoses.0.vascular_invasion_type \t 0.0\ndiagnoses.0.weiss_assessment_score \t 0.0\ndiagnoses.0.wilms_tumor_histologic_subtype \t 0.0\ndiagnoses.0.year_of_diagnosis \t 0.12024136039495337\nexposures.0.age_at_onset \t 0.0\nexposures.0.alcohol_days_per_week \t 0.0\nexposures.0.alcohol_drinks_per_day \t 0.0\nexposures.0.alcohol_history \t 0.12046077893582008\nexposures.0.alcohol_intensity \t 0.0\nexposures.0.asbestos_exposure \t 0.0\nexposures.0.bmi \t 0.00010970927043335162\nexposures.0.cigarettes_per_day \t 0.0\nexposures.0.coal_dust_exposure \t 0.0\nexposures.0.created_datetime \t 0.00010970927043335162\nexposures.0.environmental_tobacco_smoke_exposure \t 0.0\nexposures.0.exposure_duration \t 0.0\nexposures.0.exposure_id \t 0.12057048820625343\nexposures.0.exposure_type \t 0.0\nexposures.0.height \t 0.00010970927043335162\nexposures.0.marijuana_use_per_week \t 0.0\nexposures.0.pack_years_smoked \t 0.0\nexposures.0.radon_exposure \t 0.0\nexposures.0.respirable_crystalline_silica_exposure \t 0.0\nexposures.0.secondhand_smoke_as_child \t 0.0\nexposures.0.smoking_frequency \t 0.0\nexposures.0.state \t 0.12057048820625343\nexposures.0.submitter_id \t 0.12057048820625343\nexposures.0.time_between_waking_and_first_smoke \t 0.0\nexposures.0.tobacco_smoking_onset_year \t 0.0\nexposures.0.tobacco_smoking_quit_year \t 0.0\nexposures.0.tobacco_smoking_status \t 0.00010970927043335162\nexposures.0.tobacco_use_per_day \t 0.0\nexposures.0.type_of_smoke_exposure \t 0.0\nexposures.0.type_of_tobacco_used \t 0.0\nexposures.0.updated_datetime \t 0.12057048820625343\nexposures.0.weight \t 0.00010970927043335162\nexposures.0.years_smoked \t 0.0\nfamily_histories.0.created_datetime \t 0.00010970927043335162\nfamily_histories.0.family_history_id \t 0.00010970927043335162\nfamily_histories.0.relationship_age_at_diagnosis \t 0.0\nfamily_histories.0.relationship_gender \t 0.0\nfamily_histories.0.relationship_primary_diagnosis \t 0.00010970927043335162\nfamily_histories.0.relationship_type \t 0.0\nfamily_histories.0.relative_with_cancer_history \t 0.00010970927043335162\nfamily_histories.0.relatives_with_cancer_history_count \t 0.0\nfamily_histories.0.state \t 0.00010970927043335162\nfamily_histories.0.submitter_id \t 0.00010970927043335162\nfamily_histories.0.updated_datetime \t 0.00010970927043335162\nid \t 1.0\nsamples.0.biospecimen_anatomic_site \t 0.023806911684037303\nsamples.0.biospecimen_laterality \t 0.0\nsamples.0.catalog_reference \t 0.0\nsamples.0.composition \t 0.007021393307734504\nsamples.0.created_datetime \t 0.9190345584201866\nsamples.0.current_weight \t 0.0\nsamples.0.days_to_collection \t 0.08107515085024684\nsamples.0.days_to_sample_procurement \t 0.03982446516730664\nsamples.0.diagnosis_pathologically_confirmed \t 0.0\nsamples.0.distance_normal_to_tumor \t 0.0\nsamples.0.distributor_reference \t 0.0\nsamples.0.freezing_method \t 0.0\nsamples.0.growth_rate \t 0.0\nsamples.0.initial_weight \t 0.04256719692814043\nsamples.0.intermediate_dimension \t 0.0\nsamples.0.is_ffpe \t 0.14448710916072408\nsamples.0.longest_dimension \t 0.0\nsamples.0.method_of_sample_procurement \t 0.0\nsamples.0.oct_embedded \t 0.12068019747668678\nsamples.0.passage_count \t 0.0\nsamples.0.pathology_report_uuid \t 0.03817882611080636\nsamples.0.preservation_method \t 0.03982446516730664\nsamples.0.sample_id \t 1.0\nsamples.0.sample_type \t 1.0\nsamples.0.sample_type_id \t 0.1353812397147559\nsamples.0.shortest_dimension \t 0.0\nsamples.0.state \t 1.0\nsamples.0.submitter_id \t 1.0\nsamples.0.time_between_clamping_and_freezing \t 0.0\nsamples.0.time_between_excision_and_freezing \t 0.0\nsamples.0.tissue_collection_type \t 0.0\nsamples.0.tissue_type \t 1.0\nsamples.0.tumor_code \t 0.0\nsamples.0.tumor_code_id \t 0.0\nsamples.0.tumor_descriptor \t 0.28337904552934723\nsamples.0.updated_datetime \t 1.0\nsamples.1.biospecimen_anatomic_site \t 0.022270981897970377\nsamples.1.biospecimen_laterality \t 0.0\nsamples.1.catalog_reference \t 0.0\nsamples.1.composition \t 0.007679648930334613\nsamples.1.created_datetime \t 0.07383433900164564\nsamples.1.current_weight \t 0.0\nsamples.1.days_to_collection \t 0.08381788261108064\nsamples.1.days_to_sample_procurement \t 0.03664289632473944\nsamples.1.diagnosis_pathologically_confirmed \t 0.0\nsamples.1.distance_normal_to_tumor \t 0.0\nsamples.1.distributor_reference \t 0.0\nsamples.1.freezing_method \t 0.0\nsamples.1.growth_rate \t 0.0\nsamples.1.initial_weight \t 0.05013713658804169\nsamples.1.intermediate_dimension \t 0.0\nsamples.1.is_ffpe \t 0.1428414701042238\nsamples.1.longest_dimension \t 0.0\nsamples.1.method_of_sample_procurement \t 0.0\nsamples.1.oct_embedded \t 0.12057048820625343\nsamples.1.passage_count \t 0.0\nsamples.1.pathology_report_uuid \t 0.04509051014810751\nsamples.1.preservation_method \t 0.03664289632473944\nsamples.1.sample_id \t 0.15765222161272627\nsamples.1.sample_type \t 0.15765222161272627\nsamples.1.sample_type_id \t 0.1353812397147559\nsamples.1.shortest_dimension \t 0.0\nsamples.1.state \t 0.15765222161272627\nsamples.1.submitter_id \t 0.15765222161272627\nsamples.1.time_between_clamping_and_freezing \t 0.0\nsamples.1.time_between_excision_and_freezing \t 0.0\nsamples.1.tissue_collection_type \t 0.0\nsamples.1.tissue_type \t 0.15765222161272627\nsamples.1.tumor_code \t 0.0\nsamples.1.tumor_code_id \t 0.0\nsamples.1.tumor_descriptor \t 0.0\nsamples.1.updated_datetime \t 0.15765222161272627\nsamples.2.biospecimen_anatomic_site \t 0.01634668129456939\nsamples.2.biospecimen_laterality \t 0.0\nsamples.2.catalog_reference \t 0.0\nsamples.2.composition \t 0.004388370817334065\nsamples.2.created_datetime \t 0.05573230938014262\nsamples.2.current_weight \t 0.0\nsamples.2.days_to_collection \t 0.07931980252331322\nsamples.2.days_to_sample_procurement \t 0.036752605595172794\nsamples.2.diagnosis_pathologically_confirmed \t 0.0\nsamples.2.distance_normal_to_tumor \t 0.0\nsamples.2.distributor_reference \t 0.0\nsamples.2.freezing_method \t 0.0\nsamples.2.growth_rate \t 0.0\nsamples.2.initial_weight \t 0.04201865057597367\nsamples.2.intermediate_dimension \t 0.0\nsamples.2.is_ffpe \t 0.13274821722435545\nsamples.2.longest_dimension \t 0.0\nsamples.2.method_of_sample_procurement \t 0.0\nsamples.2.oct_embedded \t 0.11640153592978607\nsamples.2.passage_count \t 0.0\nsamples.2.pathology_report_uuid \t 0.03708173340647285\nsamples.2.preservation_method \t 0.036752605595172794\nsamples.2.sample_id \t 0.13527153044432255\nsamples.2.sample_type \t 0.13527153044432255\nsamples.2.sample_type_id \t 0.11892484914975315\nsamples.2.shortest_dimension \t 0.0\nsamples.2.state \t 0.13527153044432255\nsamples.2.submitter_id \t 0.13527153044432255\nsamples.2.time_between_clamping_and_freezing \t 0.0\nsamples.2.time_between_excision_and_freezing \t 0.0\nsamples.2.tissue_collection_type \t 0.0\nsamples.2.tissue_type \t 0.13527153044432255\nsamples.2.tumor_code \t 0.0\nsamples.2.tumor_code_id \t 0.0\nsamples.2.tumor_descriptor \t 0.0\nsamples.2.updated_datetime \t 0.13527153044432255\nsamples.3.biospecimen_anatomic_site \t 0.006253428414701042\nsamples.3.biospecimen_laterality \t 0.0\nsamples.3.catalog_reference \t 0.0\nsamples.3.composition \t 0.0012068019747668679\nsamples.3.created_datetime \t 0.009654415798134943\nsamples.3.current_weight \t 0.0\nsamples.3.days_to_collection \t 0.0072408118486012064\nsamples.3.days_to_sample_procurement \t 0.0034009873834339004\nsamples.3.diagnosis_pathologically_confirmed \t 0.0\nsamples.3.distance_normal_to_tumor \t 0.0\nsamples.3.distributor_reference \t 0.0\nsamples.3.freezing_method \t 0.0\nsamples.3.growth_rate \t 0.0\nsamples.3.initial_weight \t 0.004388370817334065\nsamples.3.intermediate_dimension \t 0.0\nsamples.3.is_ffpe \t 0.01689522764673615\nsamples.3.longest_dimension \t 0.0\nsamples.3.method_of_sample_procurement \t 0.0\nsamples.3.oct_embedded \t 0.010641799232035107\nsamples.3.passage_count \t 0.0\nsamples.3.pathology_report_uuid \t 0.002523313219967087\nsamples.3.preservation_method \t 0.0034009873834339004\nsamples.3.sample_id \t 0.01689522764673615\nsamples.3.sample_type \t 0.01689522764673615\nsamples.3.sample_type_id \t 0.010641799232035107\nsamples.3.shortest_dimension \t 0.0\nsamples.3.state \t 0.01689522764673615\nsamples.3.submitter_id \t 0.01689522764673615\nsamples.3.time_between_clamping_and_freezing \t 0.0\nsamples.3.time_between_excision_and_freezing \t 0.0\nsamples.3.tissue_collection_type \t 0.0\nsamples.3.tissue_type \t 0.01689522764673615\nsamples.3.tumor_code \t 0.0\nsamples.3.tumor_code_id \t 0.0\nsamples.3.tumor_descriptor \t 0.0\nsamples.3.updated_datetime \t 0.01689522764673615\nsamples.4.biospecimen_anatomic_site \t 0.004168952276467361\nsamples.4.biospecimen_laterality \t 0.0\nsamples.4.catalog_reference \t 0.0\nsamples.4.composition \t 0.0007679648930334613\nsamples.4.created_datetime \t 0.004168952276467361\nsamples.4.current_weight \t 0.0\nsamples.4.days_to_collection \t 0.0004388370817334065\nsamples.4.days_to_sample_procurement \t 0.0\nsamples.4.diagnosis_pathologically_confirmed \t 0.0\nsamples.4.distance_normal_to_tumor \t 0.0\nsamples.4.distributor_reference \t 0.0\nsamples.4.freezing_method \t 0.0\nsamples.4.growth_rate \t 0.0\nsamples.4.initial_weight \t 0.00021941854086670324\nsamples.4.intermediate_dimension \t 0.0\nsamples.4.is_ffpe \t 0.004607789358200768\nsamples.4.longest_dimension \t 0.0\nsamples.4.method_of_sample_procurement \t 0.0\nsamples.4.oct_embedded \t 0.0004388370817334065\nsamples.4.passage_count \t 0.0\nsamples.4.pathology_report_uuid \t 0.00021941854086670324\nsamples.4.preservation_method \t 0.0\nsamples.4.sample_id \t 0.004607789358200768\nsamples.4.sample_type \t 0.004607789358200768\nsamples.4.sample_type_id \t 0.0004388370817334065\nsamples.4.shortest_dimension \t 0.0\nsamples.4.state \t 0.004607789358200768\nsamples.4.submitter_id \t 0.004607789358200768\nsamples.4.time_between_clamping_and_freezing \t 0.0\nsamples.4.time_between_excision_and_freezing \t 0.0\nsamples.4.tissue_collection_type \t 0.0\nsamples.4.tissue_type \t 0.004607789358200768\nsamples.4.tumor_code \t 0.0\nsamples.4.tumor_code_id \t 0.0\nsamples.4.tumor_descriptor \t 0.0\nsamples.4.updated_datetime \t 0.004607789358200768\nsamples.5.biospecimen_anatomic_site \t 0.0015359297860669226\nsamples.5.biospecimen_laterality \t 0.0\nsamples.5.catalog_reference \t 0.0\nsamples.5.composition \t 0.0006582556226001097\nsamples.5.created_datetime \t 0.0015359297860669226\nsamples.5.current_weight \t 0.0\nsamples.5.days_to_collection \t 0.0\nsamples.5.days_to_sample_procurement \t 0.0\nsamples.5.diagnosis_pathologically_confirmed \t 0.0\nsamples.5.distance_normal_to_tumor \t 0.0\nsamples.5.distributor_reference \t 0.0\nsamples.5.freezing_method \t 0.0\nsamples.5.growth_rate \t 0.0\nsamples.5.initial_weight \t 0.0\nsamples.5.intermediate_dimension \t 0.0\nsamples.5.is_ffpe \t 0.0015359297860669226\nsamples.5.longest_dimension \t 0.0\nsamples.5.method_of_sample_procurement \t 0.0\nsamples.5.oct_embedded \t 0.0\nsamples.5.passage_count \t 0.0\nsamples.5.pathology_report_uuid \t 0.0\nsamples.5.preservation_method \t 0.0\nsamples.5.sample_id \t 0.0015359297860669226\nsamples.5.sample_type \t 0.0015359297860669226\nsamples.5.sample_type_id \t 0.0\nsamples.5.shortest_dimension \t 0.0\nsamples.5.state \t 0.0015359297860669226\nsamples.5.submitter_id \t 0.0015359297860669226\nsamples.5.time_between_clamping_and_freezing \t 0.0\nsamples.5.time_between_excision_and_freezing \t 0.0\nsamples.5.tissue_collection_type \t 0.0\nsamples.5.tissue_type \t 0.0015359297860669226\nsamples.5.tumor_code \t 0.0\nsamples.5.tumor_code_id \t 0.0\nsamples.5.tumor_descriptor \t 0.0\nsamples.5.updated_datetime \t 0.0015359297860669226\nsamples.6.biospecimen_anatomic_site \t 0.0009873834339001646\nsamples.6.biospecimen_laterality \t 0.0\nsamples.6.catalog_reference \t 0.0\nsamples.6.composition \t 0.0\nsamples.6.created_datetime \t 0.0009873834339001646\nsamples.6.current_weight \t 0.0\nsamples.6.days_to_collection \t 0.0\nsamples.6.days_to_sample_procurement \t 0.0\nsamples.6.diagnosis_pathologically_confirmed \t 0.0\nsamples.6.distance_normal_to_tumor \t 0.0\nsamples.6.distributor_reference \t 0.0\nsamples.6.freezing_method \t 0.0\nsamples.6.growth_rate \t 0.0\nsamples.6.initial_weight \t 0.0\nsamples.6.intermediate_dimension \t 0.0\nsamples.6.is_ffpe \t 0.0009873834339001646\nsamples.6.longest_dimension \t 0.0\nsamples.6.method_of_sample_procurement \t 0.0\nsamples.6.oct_embedded \t 0.0\nsamples.6.passage_count \t 0.0\nsamples.6.pathology_report_uuid \t 0.0\nsamples.6.preservation_method \t 0.0\nsamples.6.sample_id \t 0.0009873834339001646\nsamples.6.sample_type \t 0.0009873834339001646\nsamples.6.sample_type_id \t 0.0\nsamples.6.shortest_dimension \t 0.0\nsamples.6.state \t 0.0009873834339001646\nsamples.6.submitter_id \t 0.0009873834339001646\nsamples.6.time_between_clamping_and_freezing \t 0.0\nsamples.6.time_between_excision_and_freezing \t 0.0\nsamples.6.tissue_collection_type \t 0.0\nsamples.6.tissue_type \t 0.0009873834339001646\nsamples.6.tumor_code \t 0.0\nsamples.6.tumor_code_id \t 0.0\nsamples.6.tumor_descriptor \t 0.0\nsamples.6.updated_datetime \t 0.0009873834339001646\nsamples.7.biospecimen_anatomic_site \t 0.00032912781130005483\nsamples.7.biospecimen_laterality \t 0.0\nsamples.7.catalog_reference \t 0.0\nsamples.7.composition \t 0.00010970927043335162\nsamples.7.created_datetime \t 0.00032912781130005483\nsamples.7.current_weight \t 0.0\nsamples.7.days_to_collection \t 0.0\nsamples.7.days_to_sample_procurement \t 0.0\nsamples.7.diagnosis_pathologically_confirmed \t 0.0\nsamples.7.distance_normal_to_tumor \t 0.0\nsamples.7.distributor_reference \t 0.0\nsamples.7.freezing_method \t 0.0\nsamples.7.growth_rate \t 0.0\nsamples.7.initial_weight \t 0.0\nsamples.7.intermediate_dimension \t 0.0\nsamples.7.is_ffpe \t 0.00032912781130005483\nsamples.7.longest_dimension \t 0.0\nsamples.7.method_of_sample_procurement \t 0.0\nsamples.7.oct_embedded \t 0.0\nsamples.7.passage_count \t 0.0\nsamples.7.pathology_report_uuid \t 0.0\nsamples.7.preservation_method \t 0.0\nsamples.7.sample_id \t 0.00032912781130005483\nsamples.7.sample_type \t 0.00032912781130005483\nsamples.7.sample_type_id \t 0.0\nsamples.7.shortest_dimension \t 0.0\nsamples.7.state \t 0.00032912781130005483\nsamples.7.submitter_id \t 0.00032912781130005483\nsamples.7.time_between_clamping_and_freezing \t 0.0\nsamples.7.time_between_excision_and_freezing \t 0.0\nsamples.7.tissue_collection_type \t 0.0\nsamples.7.tissue_type \t 0.00032912781130005483\nsamples.7.tumor_code \t 0.0\nsamples.7.tumor_code_id \t 0.0\nsamples.7.tumor_descriptor \t 0.0\nsamples.7.updated_datetime \t 0.00032912781130005483\nsamples.8.biospecimen_anatomic_site \t 0.00010970927043335162\nsamples.8.biospecimen_laterality \t 0.0\nsamples.8.catalog_reference \t 0.0\nsamples.8.composition \t 0.00010970927043335162\nsamples.8.created_datetime \t 0.00010970927043335162\nsamples.8.current_weight \t 0.0\nsamples.8.days_to_collection \t 0.0\nsamples.8.days_to_sample_procurement \t 0.0\nsamples.8.diagnosis_pathologically_confirmed \t 0.0\nsamples.8.distance_normal_to_tumor \t 0.0\nsamples.8.distributor_reference \t 0.0\nsamples.8.freezing_method \t 0.0\nsamples.8.growth_rate \t 0.0\nsamples.8.initial_weight \t 0.0\nsamples.8.intermediate_dimension \t 0.0\nsamples.8.is_ffpe \t 0.00010970927043335162\nsamples.8.longest_dimension \t 0.0\nsamples.8.method_of_sample_procurement \t 0.0\nsamples.8.oct_embedded \t 0.0\nsamples.8.passage_count \t 0.0\nsamples.8.pathology_report_uuid \t 0.0\nsamples.8.preservation_method \t 0.0\nsamples.8.sample_id \t 0.00010970927043335162\nsamples.8.sample_type \t 0.00010970927043335162\nsamples.8.sample_type_id \t 0.0\nsamples.8.shortest_dimension \t 0.0\nsamples.8.state \t 0.00010970927043335162\nsamples.8.submitter_id \t 0.00010970927043335162\nsamples.8.time_between_clamping_and_freezing \t 0.0\nsamples.8.time_between_excision_and_freezing \t 0.0\nsamples.8.tissue_collection_type \t 0.0\nsamples.8.tissue_type \t 0.00010970927043335162\nsamples.8.tumor_code \t 0.0\nsamples.8.tumor_code_id \t 0.0\nsamples.8.tumor_descriptor \t 0.0\nsamples.8.updated_datetime \t 0.00010970927043335162\nsubmitter_id \t 1.0\ntissue_source_site.bcr_id \t 0.12057048820625343\ntissue_source_site.code \t 0.12057048820625343\ntissue_source_site.name \t 0.12057048820625343\ntissue_source_site.project \t 0.12057048820625343\ntissue_source_site.tissue_source_site_id \t 0.12057048820625343\n"
     ]
    }
   ],
   "source": [
    "# The value on the right is the percentage of non null value par column.\n",
    "# As a consequence, this dataframe presents no real interest.\n",
    "serie = df_case.notnull().mean()\n",
    "\n",
    "for name,val in zip(serie.index,serie): \n",
    "    print(name,'\\t',val)"
   ]
  },
  {
   "source": [
    "### Data Frame: cnv\n",
    "Information on the nature of the gene mutation. Most of the value are strings.\n",
    "\n",
    "12 columns and 1000 rows.\n",
    "\n",
    "Possible key: 'case.case_id' \n",
    "\n",
    "Possible link with other dataframe: 'cnv.consequence.0.gene.symbol' "
   ],
   "cell_type": "markdown",
   "metadata": {}
  },
  {
   "cell_type": "code",
   "execution_count": 91,
   "metadata": {},
   "outputs": [
    {
     "output_type": "execute_result",
     "data": {
      "text/plain": [
       "                               case.case_id  cnv.chromosome cnv.cnv_change  \\\n",
       "0      c5891c7a-fd24-4891-8f51-373967e4a6dd              17           Loss   \n",
       "1      d5f2b85a-94a9-4168-bbe8-149ec71342b0              17           Gain   \n",
       "2      eafa45a4-2fd1-4fa3-860c-9d52ed382b7d              11           Gain   \n",
       "3      dd0f8e5a-383d-4f03-bb71-0e115d4e442c              11           Gain   \n",
       "4      233b02f3-c4f0-4a67-9db5-e68d5cdaccb6               8           Gain   \n",
       "...                                     ...             ...            ...   \n",
       "12881  9d876f05-5080-4c4e-9bf5-45f631d381e5              11           Gain   \n",
       "12882  70fc011c-0f22-4026-9d72-87351126203a              11           Gain   \n",
       "12883  34a74805-300c-4773-ab59-2085fcc2e6cc              17           Gain   \n",
       "12884  182c4bdf-2c58-4303-b034-459da86b9d90               8           Loss   \n",
       "12885  1111fb30-46ce-4722-98da-ec9ba2323d90               8           Gain   \n",
       "\n",
       "                                 cnv.cnv_id  \\\n",
       "0      0e18bd24-e7dc-5e6e-a3ba-a23fd41ac529   \n",
       "1      73eb64c1-82ef-5f05-9946-a35b8a041148   \n",
       "2      10bfced2-6df4-5613-96b3-a5d70afde19c   \n",
       "3      de0d6322-4040-570e-b9c3-94b6d565750f   \n",
       "4      f0d7c53c-76e0-590c-b0ac-1aa316fe5c50   \n",
       "...                                     ...   \n",
       "12881  19789f70-ea63-5a82-ad08-469017dbf293   \n",
       "12882  c087432c-f23a-5af7-9c4a-65232ad5f8f4   \n",
       "12883  5c298dcd-bba0-511f-8892-2b77adb83519   \n",
       "12884  e8db3c78-9d17-5f8f-9af2-3180c214220f   \n",
       "12885  8c6a983e-f375-52a1-bc9e-e992a9ea9e75   \n",
       "\n",
       "           cnv.consequence.0.consequence_id cnv.consequence.0.gene.symbol  \\\n",
       "0      99c68f83-9514-5628-9623-0ba6095dd90f                         BCAS3   \n",
       "1      a7e6f054-f5a1-5e7f-a0c0-8daa7373a434                         ABCA8   \n",
       "2      924c27ca-11cf-5b13-95b9-cf518abb142d                        ORAOV1   \n",
       "3      00461981-a326-573d-a9a1-ad82872a1aea                        SHANK2   \n",
       "4      c6208422-2c76-553a-b0eb-4472e816381f                           MYC   \n",
       "...                                     ...                           ...   \n",
       "12881  73eca1c7-6502-5756-9186-e54bfc497ec0                       IGHMBP2   \n",
       "12882  1363e460-9715-538b-9a24-4902ed9eec58                        MRGPRD   \n",
       "12883  bf1e861e-56b5-5fc0-b925-69ea2100d6ad                         NOL11   \n",
       "12884  d73b85af-17b7-5243-ac0d-d9c43d434619                            TG   \n",
       "12885  5b568709-21d9-5dbe-8f1e-b9127fb0f3fd                         TRPS1   \n",
       "\n",
       "       cnv.end_position  cnv.gene_level_cn cnv.ncbi_build  cnv.start_position  \\\n",
       "0              61392838               True         GRCh38            60677453   \n",
       "1              68955392               True         GRCh38            68867292   \n",
       "2              69675416               True         GRCh38            69653076   \n",
       "3              71252577               True         GRCh38            70467856   \n",
       "4             127741434               True         GRCh38           127735434   \n",
       "...                 ...                ...            ...                 ...   \n",
       "12881          68940602               True         GRCh38            68903842   \n",
       "12882          68980986               True         GRCh38            68980021   \n",
       "12883          67744531               True         GRCh38            67717833   \n",
       "12884         133134903               True         GRCh38           132866958   \n",
       "12885         115809673               True         GRCh38           115408496   \n",
       "\n",
       "      cnv.variant_status                                    id  \n",
       "0             Tumor only  034993b7-98a2-57df-b741-761080debf14  \n",
       "1             Tumor only  309d1772-5c76-52d3-b384-32d00130c801  \n",
       "2             Tumor only  51a42266-c861-523b-92b6-313f5ad92b72  \n",
       "3             Tumor only  61d42790-c539-5f6d-867b-c24bd9bb6cd6  \n",
       "4             Tumor only  69cd805c-29ed-56dd-aa11-92f11956b814  \n",
       "...                  ...                                   ...  \n",
       "12881         Tumor only  b6d34700-7e29-5725-b935-a1de0e86b0b1  \n",
       "12882         Tumor only  af6c90d0-332a-5b33-80e2-577cb0ce44b7  \n",
       "12883         Tumor only  81268525-9ba9-59c5-9490-81b49b887839  \n",
       "12884         Tumor only  48198d94-3924-5f2d-89db-eaf34c1f945a  \n",
       "12885         Tumor only  62154787-056d-5ac1-a64d-b21c7970c7f9  \n",
       "\n",
       "[12886 rows x 12 columns]"
      ],
      "text/html": "<div>\n<style scoped>\n    .dataframe tbody tr th:only-of-type {\n        vertical-align: middle;\n    }\n\n    .dataframe tbody tr th {\n        vertical-align: top;\n    }\n\n    .dataframe thead th {\n        text-align: right;\n    }\n</style>\n<table border=\"1\" class=\"dataframe\">\n  <thead>\n    <tr style=\"text-align: right;\">\n      <th></th>\n      <th>case.case_id</th>\n      <th>cnv.chromosome</th>\n      <th>cnv.cnv_change</th>\n      <th>cnv.cnv_id</th>\n      <th>cnv.consequence.0.consequence_id</th>\n      <th>cnv.consequence.0.gene.symbol</th>\n      <th>cnv.end_position</th>\n      <th>cnv.gene_level_cn</th>\n      <th>cnv.ncbi_build</th>\n      <th>cnv.start_position</th>\n      <th>cnv.variant_status</th>\n      <th>id</th>\n    </tr>\n  </thead>\n  <tbody>\n    <tr>\n      <th>0</th>\n      <td>c5891c7a-fd24-4891-8f51-373967e4a6dd</td>\n      <td>17</td>\n      <td>Loss</td>\n      <td>0e18bd24-e7dc-5e6e-a3ba-a23fd41ac529</td>\n      <td>99c68f83-9514-5628-9623-0ba6095dd90f</td>\n      <td>BCAS3</td>\n      <td>61392838</td>\n      <td>True</td>\n      <td>GRCh38</td>\n      <td>60677453</td>\n      <td>Tumor only</td>\n      <td>034993b7-98a2-57df-b741-761080debf14</td>\n    </tr>\n    <tr>\n      <th>1</th>\n      <td>d5f2b85a-94a9-4168-bbe8-149ec71342b0</td>\n      <td>17</td>\n      <td>Gain</td>\n      <td>73eb64c1-82ef-5f05-9946-a35b8a041148</td>\n      <td>a7e6f054-f5a1-5e7f-a0c0-8daa7373a434</td>\n      <td>ABCA8</td>\n      <td>68955392</td>\n      <td>True</td>\n      <td>GRCh38</td>\n      <td>68867292</td>\n      <td>Tumor only</td>\n      <td>309d1772-5c76-52d3-b384-32d00130c801</td>\n    </tr>\n    <tr>\n      <th>2</th>\n      <td>eafa45a4-2fd1-4fa3-860c-9d52ed382b7d</td>\n      <td>11</td>\n      <td>Gain</td>\n      <td>10bfced2-6df4-5613-96b3-a5d70afde19c</td>\n      <td>924c27ca-11cf-5b13-95b9-cf518abb142d</td>\n      <td>ORAOV1</td>\n      <td>69675416</td>\n      <td>True</td>\n      <td>GRCh38</td>\n      <td>69653076</td>\n      <td>Tumor only</td>\n      <td>51a42266-c861-523b-92b6-313f5ad92b72</td>\n    </tr>\n    <tr>\n      <th>3</th>\n      <td>dd0f8e5a-383d-4f03-bb71-0e115d4e442c</td>\n      <td>11</td>\n      <td>Gain</td>\n      <td>de0d6322-4040-570e-b9c3-94b6d565750f</td>\n      <td>00461981-a326-573d-a9a1-ad82872a1aea</td>\n      <td>SHANK2</td>\n      <td>71252577</td>\n      <td>True</td>\n      <td>GRCh38</td>\n      <td>70467856</td>\n      <td>Tumor only</td>\n      <td>61d42790-c539-5f6d-867b-c24bd9bb6cd6</td>\n    </tr>\n    <tr>\n      <th>4</th>\n      <td>233b02f3-c4f0-4a67-9db5-e68d5cdaccb6</td>\n      <td>8</td>\n      <td>Gain</td>\n      <td>f0d7c53c-76e0-590c-b0ac-1aa316fe5c50</td>\n      <td>c6208422-2c76-553a-b0eb-4472e816381f</td>\n      <td>MYC</td>\n      <td>127741434</td>\n      <td>True</td>\n      <td>GRCh38</td>\n      <td>127735434</td>\n      <td>Tumor only</td>\n      <td>69cd805c-29ed-56dd-aa11-92f11956b814</td>\n    </tr>\n    <tr>\n      <th>...</th>\n      <td>...</td>\n      <td>...</td>\n      <td>...</td>\n      <td>...</td>\n      <td>...</td>\n      <td>...</td>\n      <td>...</td>\n      <td>...</td>\n      <td>...</td>\n      <td>...</td>\n      <td>...</td>\n      <td>...</td>\n    </tr>\n    <tr>\n      <th>12881</th>\n      <td>9d876f05-5080-4c4e-9bf5-45f631d381e5</td>\n      <td>11</td>\n      <td>Gain</td>\n      <td>19789f70-ea63-5a82-ad08-469017dbf293</td>\n      <td>73eca1c7-6502-5756-9186-e54bfc497ec0</td>\n      <td>IGHMBP2</td>\n      <td>68940602</td>\n      <td>True</td>\n      <td>GRCh38</td>\n      <td>68903842</td>\n      <td>Tumor only</td>\n      <td>b6d34700-7e29-5725-b935-a1de0e86b0b1</td>\n    </tr>\n    <tr>\n      <th>12882</th>\n      <td>70fc011c-0f22-4026-9d72-87351126203a</td>\n      <td>11</td>\n      <td>Gain</td>\n      <td>c087432c-f23a-5af7-9c4a-65232ad5f8f4</td>\n      <td>1363e460-9715-538b-9a24-4902ed9eec58</td>\n      <td>MRGPRD</td>\n      <td>68980986</td>\n      <td>True</td>\n      <td>GRCh38</td>\n      <td>68980021</td>\n      <td>Tumor only</td>\n      <td>af6c90d0-332a-5b33-80e2-577cb0ce44b7</td>\n    </tr>\n    <tr>\n      <th>12883</th>\n      <td>34a74805-300c-4773-ab59-2085fcc2e6cc</td>\n      <td>17</td>\n      <td>Gain</td>\n      <td>5c298dcd-bba0-511f-8892-2b77adb83519</td>\n      <td>bf1e861e-56b5-5fc0-b925-69ea2100d6ad</td>\n      <td>NOL11</td>\n      <td>67744531</td>\n      <td>True</td>\n      <td>GRCh38</td>\n      <td>67717833</td>\n      <td>Tumor only</td>\n      <td>81268525-9ba9-59c5-9490-81b49b887839</td>\n    </tr>\n    <tr>\n      <th>12884</th>\n      <td>182c4bdf-2c58-4303-b034-459da86b9d90</td>\n      <td>8</td>\n      <td>Loss</td>\n      <td>e8db3c78-9d17-5f8f-9af2-3180c214220f</td>\n      <td>d73b85af-17b7-5243-ac0d-d9c43d434619</td>\n      <td>TG</td>\n      <td>133134903</td>\n      <td>True</td>\n      <td>GRCh38</td>\n      <td>132866958</td>\n      <td>Tumor only</td>\n      <td>48198d94-3924-5f2d-89db-eaf34c1f945a</td>\n    </tr>\n    <tr>\n      <th>12885</th>\n      <td>1111fb30-46ce-4722-98da-ec9ba2323d90</td>\n      <td>8</td>\n      <td>Gain</td>\n      <td>8c6a983e-f375-52a1-bc9e-e992a9ea9e75</td>\n      <td>5b568709-21d9-5dbe-8f1e-b9127fb0f3fd</td>\n      <td>TRPS1</td>\n      <td>115809673</td>\n      <td>True</td>\n      <td>GRCh38</td>\n      <td>115408496</td>\n      <td>Tumor only</td>\n      <td>62154787-056d-5ac1-a64d-b21c7970c7f9</td>\n    </tr>\n  </tbody>\n</table>\n<p>12886 rows × 12 columns</p>\n</div>"
     },
     "metadata": {},
     "execution_count": 91
    }
   ],
   "source": [
    "df_cnv"
   ]
  },
  {
   "cell_type": "code",
   "execution_count": 92,
   "metadata": {},
   "outputs": [
    {
     "output_type": "execute_result",
     "data": {
      "text/plain": [
       "case.case_id                        object\n",
       "cnv.chromosome                       int64\n",
       "cnv.cnv_change                      object\n",
       "cnv.cnv_id                          object\n",
       "cnv.consequence.0.consequence_id    object\n",
       "cnv.consequence.0.gene.symbol       object\n",
       "cnv.end_position                     int64\n",
       "cnv.gene_level_cn                     bool\n",
       "cnv.ncbi_build                      object\n",
       "cnv.start_position                   int64\n",
       "cnv.variant_status                  object\n",
       "id                                  object\n",
       "dtype: object"
      ]
     },
     "metadata": {},
     "execution_count": 92
    }
   ],
   "source": [
    "df_cnv.dtypes"
   ]
  },
  {
   "cell_type": "code",
   "execution_count": 93,
   "metadata": {},
   "outputs": [
    {
     "output_type": "execute_result",
     "data": {
      "text/plain": [
       "case.case_id                        1.0\n",
       "cnv.chromosome                      1.0\n",
       "cnv.cnv_change                      1.0\n",
       "cnv.cnv_id                          1.0\n",
       "cnv.consequence.0.consequence_id    1.0\n",
       "cnv.consequence.0.gene.symbol       1.0\n",
       "cnv.end_position                    1.0\n",
       "cnv.gene_level_cn                   1.0\n",
       "cnv.ncbi_build                      1.0\n",
       "cnv.start_position                  1.0\n",
       "cnv.variant_status                  1.0\n",
       "id                                  1.0\n",
       "dtype: float64"
      ]
     },
     "metadata": {},
     "execution_count": 93
    }
   ],
   "source": [
    "df_cnv.notnull().mean()"
   ]
  },
  {
   "source": [
    "### Data Frame: gene\n",
    "\n",
    "Information on top 50 genes to studied. Most of the value are strings.\n",
    "\n",
    "2 columns and 50 rows.\n",
    "\n",
    "Possible key: 'symbol'\n",
    "\n",
    "What is 'score' ?"
   ],
   "cell_type": "markdown",
   "metadata": {}
  },
  {
   "cell_type": "code",
   "execution_count": 94,
   "metadata": {},
   "outputs": [
    {
     "output_type": "execute_result",
     "data": {
      "text/plain": [
       "    _score      symbol\n",
       "0    451.0      PIK3CA\n",
       "1    404.0        TP53\n",
       "2    322.0        MUC4\n",
       "3    320.0      SHANK2\n",
       "4    318.0        ANO1\n",
       "5    316.0      ORAOV1\n",
       "6    314.0       CCND1\n",
       "7    314.0  AP001888.1\n",
       "8    310.0       FGF19\n",
       "9    310.0      PPFIA1\n",
       "10   309.0        FGF3\n",
       "11   308.0        FGF4\n",
       "12   303.0        FADD\n",
       "13   301.0        CTTN\n",
       "14   299.0       MYEOV\n",
       "15   291.0         TTN\n",
       "16   287.0       TPCN2\n",
       "17   280.0        BPTF\n",
       "18   277.0        FNTA\n",
       "19   276.0      MRGPRF\n",
       "20   275.0       TANC2\n",
       "21   275.0        RYR2\n",
       "22   275.0      RNF213\n",
       "23   274.0       TRPS1\n",
       "24   273.0       ABCA8\n",
       "25   271.0         MYC\n",
       "26   270.0      DNAH17\n",
       "27   270.0        ARSG\n",
       "28   270.0      MRGPRD\n",
       "29   269.0     IGHMBP2\n",
       "30   269.0       KPNA2\n",
       "31   269.0     SLC16A6\n",
       "32   269.0        AMZ2\n",
       "33   268.0      NOTCH2\n",
       "34   268.0     POU5F1B\n",
       "35   268.0      ABCA10\n",
       "36   267.0       BCAS3\n",
       "37   267.0       ABCA6\n",
       "38   266.0        HELZ\n",
       "39   266.0       CSMD3\n",
       "40   266.0     PITPNC1\n",
       "41   266.0      CEP112\n",
       "42   265.0        SDK2\n",
       "43   265.0       CPT1A\n",
       "44   264.0       ABCA9\n",
       "45   264.0       NOL11\n",
       "46   264.0       PRKCA\n",
       "47   264.0  AC108925.1\n",
       "48   264.0     PRKAR1A\n",
       "49   263.0          TG"
      ],
      "text/html": "<div>\n<style scoped>\n    .dataframe tbody tr th:only-of-type {\n        vertical-align: middle;\n    }\n\n    .dataframe tbody tr th {\n        vertical-align: top;\n    }\n\n    .dataframe thead th {\n        text-align: right;\n    }\n</style>\n<table border=\"1\" class=\"dataframe\">\n  <thead>\n    <tr style=\"text-align: right;\">\n      <th></th>\n      <th>_score</th>\n      <th>symbol</th>\n    </tr>\n  </thead>\n  <tbody>\n    <tr>\n      <th>0</th>\n      <td>451.0</td>\n      <td>PIK3CA</td>\n    </tr>\n    <tr>\n      <th>1</th>\n      <td>404.0</td>\n      <td>TP53</td>\n    </tr>\n    <tr>\n      <th>2</th>\n      <td>322.0</td>\n      <td>MUC4</td>\n    </tr>\n    <tr>\n      <th>3</th>\n      <td>320.0</td>\n      <td>SHANK2</td>\n    </tr>\n    <tr>\n      <th>4</th>\n      <td>318.0</td>\n      <td>ANO1</td>\n    </tr>\n    <tr>\n      <th>5</th>\n      <td>316.0</td>\n      <td>ORAOV1</td>\n    </tr>\n    <tr>\n      <th>6</th>\n      <td>314.0</td>\n      <td>CCND1</td>\n    </tr>\n    <tr>\n      <th>7</th>\n      <td>314.0</td>\n      <td>AP001888.1</td>\n    </tr>\n    <tr>\n      <th>8</th>\n      <td>310.0</td>\n      <td>FGF19</td>\n    </tr>\n    <tr>\n      <th>9</th>\n      <td>310.0</td>\n      <td>PPFIA1</td>\n    </tr>\n    <tr>\n      <th>10</th>\n      <td>309.0</td>\n      <td>FGF3</td>\n    </tr>\n    <tr>\n      <th>11</th>\n      <td>308.0</td>\n      <td>FGF4</td>\n    </tr>\n    <tr>\n      <th>12</th>\n      <td>303.0</td>\n      <td>FADD</td>\n    </tr>\n    <tr>\n      <th>13</th>\n      <td>301.0</td>\n      <td>CTTN</td>\n    </tr>\n    <tr>\n      <th>14</th>\n      <td>299.0</td>\n      <td>MYEOV</td>\n    </tr>\n    <tr>\n      <th>15</th>\n      <td>291.0</td>\n      <td>TTN</td>\n    </tr>\n    <tr>\n      <th>16</th>\n      <td>287.0</td>\n      <td>TPCN2</td>\n    </tr>\n    <tr>\n      <th>17</th>\n      <td>280.0</td>\n      <td>BPTF</td>\n    </tr>\n    <tr>\n      <th>18</th>\n      <td>277.0</td>\n      <td>FNTA</td>\n    </tr>\n    <tr>\n      <th>19</th>\n      <td>276.0</td>\n      <td>MRGPRF</td>\n    </tr>\n    <tr>\n      <th>20</th>\n      <td>275.0</td>\n      <td>TANC2</td>\n    </tr>\n    <tr>\n      <th>21</th>\n      <td>275.0</td>\n      <td>RYR2</td>\n    </tr>\n    <tr>\n      <th>22</th>\n      <td>275.0</td>\n      <td>RNF213</td>\n    </tr>\n    <tr>\n      <th>23</th>\n      <td>274.0</td>\n      <td>TRPS1</td>\n    </tr>\n    <tr>\n      <th>24</th>\n      <td>273.0</td>\n      <td>ABCA8</td>\n    </tr>\n    <tr>\n      <th>25</th>\n      <td>271.0</td>\n      <td>MYC</td>\n    </tr>\n    <tr>\n      <th>26</th>\n      <td>270.0</td>\n      <td>DNAH17</td>\n    </tr>\n    <tr>\n      <th>27</th>\n      <td>270.0</td>\n      <td>ARSG</td>\n    </tr>\n    <tr>\n      <th>28</th>\n      <td>270.0</td>\n      <td>MRGPRD</td>\n    </tr>\n    <tr>\n      <th>29</th>\n      <td>269.0</td>\n      <td>IGHMBP2</td>\n    </tr>\n    <tr>\n      <th>30</th>\n      <td>269.0</td>\n      <td>KPNA2</td>\n    </tr>\n    <tr>\n      <th>31</th>\n      <td>269.0</td>\n      <td>SLC16A6</td>\n    </tr>\n    <tr>\n      <th>32</th>\n      <td>269.0</td>\n      <td>AMZ2</td>\n    </tr>\n    <tr>\n      <th>33</th>\n      <td>268.0</td>\n      <td>NOTCH2</td>\n    </tr>\n    <tr>\n      <th>34</th>\n      <td>268.0</td>\n      <td>POU5F1B</td>\n    </tr>\n    <tr>\n      <th>35</th>\n      <td>268.0</td>\n      <td>ABCA10</td>\n    </tr>\n    <tr>\n      <th>36</th>\n      <td>267.0</td>\n      <td>BCAS3</td>\n    </tr>\n    <tr>\n      <th>37</th>\n      <td>267.0</td>\n      <td>ABCA6</td>\n    </tr>\n    <tr>\n      <th>38</th>\n      <td>266.0</td>\n      <td>HELZ</td>\n    </tr>\n    <tr>\n      <th>39</th>\n      <td>266.0</td>\n      <td>CSMD3</td>\n    </tr>\n    <tr>\n      <th>40</th>\n      <td>266.0</td>\n      <td>PITPNC1</td>\n    </tr>\n    <tr>\n      <th>41</th>\n      <td>266.0</td>\n      <td>CEP112</td>\n    </tr>\n    <tr>\n      <th>42</th>\n      <td>265.0</td>\n      <td>SDK2</td>\n    </tr>\n    <tr>\n      <th>43</th>\n      <td>265.0</td>\n      <td>CPT1A</td>\n    </tr>\n    <tr>\n      <th>44</th>\n      <td>264.0</td>\n      <td>ABCA9</td>\n    </tr>\n    <tr>\n      <th>45</th>\n      <td>264.0</td>\n      <td>NOL11</td>\n    </tr>\n    <tr>\n      <th>46</th>\n      <td>264.0</td>\n      <td>PRKCA</td>\n    </tr>\n    <tr>\n      <th>47</th>\n      <td>264.0</td>\n      <td>AC108925.1</td>\n    </tr>\n    <tr>\n      <th>48</th>\n      <td>264.0</td>\n      <td>PRKAR1A</td>\n    </tr>\n    <tr>\n      <th>49</th>\n      <td>263.0</td>\n      <td>TG</td>\n    </tr>\n  </tbody>\n</table>\n</div>"
     },
     "metadata": {},
     "execution_count": 94
    }
   ],
   "source": [
    "df_gene"
   ]
  },
  {
   "cell_type": "code",
   "execution_count": 95,
   "metadata": {},
   "outputs": [
    {
     "output_type": "execute_result",
     "data": {
      "text/plain": [
       "_score    float64\n",
       "symbol     object\n",
       "dtype: object"
      ]
     },
     "metadata": {},
     "execution_count": 95
    }
   ],
   "source": [
    "df_gene.dtypes"
   ]
  },
  {
   "source": [
    "### Data Frame: ssm\n",
    "\n",
    "Information on \n",
    "\n",
    "74 columns and 1000 rows.\n",
    "\n",
    "Possible key: 'case.case_id', 'id', \n",
    "\n",
    "Most of the values are string."
   ],
   "cell_type": "markdown",
   "metadata": {}
  },
  {
   "cell_type": "code",
   "execution_count": 96,
   "metadata": {},
   "outputs": [
    {
     "output_type": "execute_result",
     "data": {
      "text/plain": [
       "                              case.case_id  \\\n",
       "0     d2694b09-7844-4496-865c-5d3d8cd03330   \n",
       "1     17baef7c-d97d-4b98-ab53-503ef856523d   \n",
       "2     d3d545b3-457f-4389-821f-704cb24aff7f   \n",
       "3     55262fcb-1b01-4480-b322-36570430c917   \n",
       "4     91b09291-5944-4691-a0d8-7d1ccc649b9b   \n",
       "...                                    ...   \n",
       "2342  14b95463-2108-4921-afc2-e29eef52b18f   \n",
       "2343  8c7e74e0-71ef-49b8-9217-94b8ef740ef9   \n",
       "2344  05af737d-89aa-49b6-97b2-28b8ac8bd2cf   \n",
       "2345  ad0fa961-c085-4f38-b3db-5fc0cbf6b64f   \n",
       "2346  08da7c4c-3067-4bcf-9d7a-78566df72e69   \n",
       "\n",
       "                                        id ssm.chromosome  \\\n",
       "0     b3244051-86aa-5e7b-8ba0-f274c9727a15           chr3   \n",
       "1     aba11501-070d-5cef-aae3-076a502489fb           chr3   \n",
       "2     64231c12-2355-5bcb-a382-ca48e06d1006          chr17   \n",
       "3     7c07038d-df18-51b1-b2d7-7b35ffab50b1          chr17   \n",
       "4     0b8d9e3c-248a-5813-949b-2b5b8787ef39           chr3   \n",
       "...                                    ...            ...   \n",
       "2342  4e629c1f-8092-5378-b656-61ee8369e18e          chr17   \n",
       "2343  c4ea5e66-260b-5ad7-b2a0-c41c27c53fc7          chr17   \n",
       "2344  e26b90e5-e3fc-576c-8043-e382bc18bb22          chr17   \n",
       "2345  bcd16ca5-1766-530f-a0b2-0335356eddda           chr3   \n",
       "2346  219fcf53-df80-57c5-bef5-9d2ba0941943           chr1   \n",
       "\n",
       "          ssm.consequence.0.consequence_id  \\\n",
       "0     804da0aa-da6b-590e-8733-2ac736d42f9c   \n",
       "1     4a574530-38c9-5378-970c-68681c574704   \n",
       "2     641bea5c-640b-5d23-9cac-f4d17ae8b2f3   \n",
       "3     e9afc75e-121a-52c1-904f-151d7db55cbe   \n",
       "4     a1470875-9e4b-5ffb-b4b4-c30bd7148b8b   \n",
       "...                                    ...   \n",
       "2342  8452100c-2c8f-512d-8d41-f47c2fe9ded2   \n",
       "2343  cf88e418-8755-5f92-90c8-2f395501b384   \n",
       "2344  4e3067d5-2011-5fc7-9089-280b5d853c36   \n",
       "2345  ce5e92f8-7945-5e04-9b6f-40e31e3be7f9   \n",
       "2346  523f03f1-f552-541e-8235-cd8cf7a18391   \n",
       "\n",
       "     ssm.consequence.0.transcript.gene.symbol  \\\n",
       "0                                        MUC4   \n",
       "1                                      PIK3CA   \n",
       "2                                        TP53   \n",
       "3                                       ABCA8   \n",
       "4                                        MUC4   \n",
       "...                                       ...   \n",
       "2342                                     TP53   \n",
       "2343                                     TP53   \n",
       "2344                                    NOL11   \n",
       "2345                                   PIK3CA   \n",
       "2346                                   NOTCH2   \n",
       "\n",
       "          ssm.consequence.1.consequence_id  \\\n",
       "0     779d457a-eba8-5e2a-8952-1b69b5d8ac92   \n",
       "1     3e210ff4-1c08-5a79-be1c-de66ff811543   \n",
       "2     b9b12ef5-9e7e-5ddf-8bff-ee3a8c2a873c   \n",
       "3     1e5a9dce-edb4-5d01-b916-a9e957562414   \n",
       "4     48245c83-639e-567c-b150-a5d5135a3f36   \n",
       "...                                    ...   \n",
       "2342  d360c722-e094-531e-b6ac-212313d99f7e   \n",
       "2343  6f18d0e5-347c-5f98-891a-8bb434964f21   \n",
       "2344  dad3ba92-408d-5d65-ae01-47258dcf8676   \n",
       "2345  774cd0e4-0ea2-5621-9e34-a127aaa60c43   \n",
       "2346                                   NaN   \n",
       "\n",
       "     ssm.consequence.1.transcript.gene.symbol  \\\n",
       "0                                        MUC4   \n",
       "1                                      PIK3CA   \n",
       "2                                        TP53   \n",
       "3                                       ABCA8   \n",
       "4                                        MUC4   \n",
       "...                                       ...   \n",
       "2342                                     TP53   \n",
       "2343                                     TP53   \n",
       "2344                                    NOL11   \n",
       "2345                                   PIK3CA   \n",
       "2346                                      NaN   \n",
       "\n",
       "         ssm.consequence.10.consequence_id  \\\n",
       "0     c5e4b93b-d19b-5125-ada4-e35d12ff0eb3   \n",
       "1                                      NaN   \n",
       "2     6fd39f3b-dd6d-5e43-82c8-92ff6fdb445d   \n",
       "3                                      NaN   \n",
       "4     305073a2-9685-536a-b73a-7677c64729c9   \n",
       "...                                    ...   \n",
       "2342  4f64e2b7-2a91-522f-a05c-fb7c50e569a2   \n",
       "2343  07076e34-66a2-557a-93d9-4a6ed8d9a8e3   \n",
       "2344                                   NaN   \n",
       "2345                                   NaN   \n",
       "2346                                   NaN   \n",
       "\n",
       "     ssm.consequence.10.transcript.gene.symbol  \\\n",
       "0                                         MUC4   \n",
       "1                                          NaN   \n",
       "2                                         TP53   \n",
       "3                                          NaN   \n",
       "4                                         MUC4   \n",
       "...                                        ...   \n",
       "2342                                      TP53   \n",
       "2343                                      TP53   \n",
       "2344                                       NaN   \n",
       "2345                                       NaN   \n",
       "2346                                       NaN   \n",
       "\n",
       "         ssm.consequence.11.consequence_id  ... ssm.cosmic_id.7  \\\n",
       "0     5dbb4aab-8068-5bcb-9aa9-5b612667493a  ...             NaN   \n",
       "1                                      NaN  ...             NaN   \n",
       "2     65cd6ec8-5527-5940-ab71-0183769bf30b  ...             NaN   \n",
       "3                                      NaN  ...             NaN   \n",
       "4     e9c831f8-a79f-5258-a9df-f3d627dc3265  ...             NaN   \n",
       "...                                    ...  ...             ...   \n",
       "2342  1dc5c8ba-7b0c-5a8f-a371-15cc08d2f6d5  ...             NaN   \n",
       "2343  9257978a-72bd-5d28-8bdd-60a5ce7010dd  ...             NaN   \n",
       "2344                                   NaN  ...             NaN   \n",
       "2345                                   NaN  ...             NaN   \n",
       "2346                                   NaN  ...             NaN   \n",
       "\n",
       "     ssm.end_position                  ssm.genomic_dna_change  \\\n",
       "0           195780168                     chr3:g.195780168A>T   \n",
       "1           179203764                     chr3:g.179203764A>C   \n",
       "2             7676042            chr17:g.7676041_7676042insGA   \n",
       "3            68883820                     chr17:g.68883820C>G   \n",
       "4           195782578                     chr3:g.195782578G>A   \n",
       "...               ...                                     ...   \n",
       "2342          7674199                      chr17:g.7674199A>C   \n",
       "2343          7676141  chr17:g.7676122delCCGGTGTAGGAGCTGCTGGT   \n",
       "2344         67726551                     chr17:g.67726551G>A   \n",
       "2345        179218229                     chr3:g.179218229A>T   \n",
       "2346        119915832                    chr1:g.119915832delG   \n",
       "\n",
       "          ssm.mutation_subtype        ssm.mutation_type ssm.ncbi_build  \\\n",
       "0     Single base substitution  Simple Somatic Mutation         GRCh38   \n",
       "1     Single base substitution  Simple Somatic Mutation         GRCh38   \n",
       "2              Small insertion  Simple Somatic Mutation         GRCh38   \n",
       "3     Single base substitution  Simple Somatic Mutation         GRCh38   \n",
       "4     Single base substitution  Simple Somatic Mutation         GRCh38   \n",
       "...                        ...                      ...            ...   \n",
       "2342  Single base substitution  Simple Somatic Mutation         GRCh38   \n",
       "2343            Small deletion  Simple Somatic Mutation         GRCh38   \n",
       "2344  Single base substitution  Simple Somatic Mutation         GRCh38   \n",
       "2345  Single base substitution  Simple Somatic Mutation         GRCh38   \n",
       "2346            Small deletion  Simple Somatic Mutation         GRCh38   \n",
       "\n",
       "      ssm.reference_allele                            ssm.ssm_id  \\\n",
       "0                        A  92dded19-d0ce-5c34-9d99-169342f9bc37   \n",
       "1                        A  7ea2ecba-9bbc-5d84-8a58-2ed20f13bdf3   \n",
       "2                       '-  1c4dad33-40cc-58d0-9d8c-4d808cb33401   \n",
       "3                        C  905a9d14-3a2e-5fb8-994e-48a2e5a1fa54   \n",
       "4                        G  eb5acb6d-ebcc-50fc-9dc0-9a7ac5b85fc4   \n",
       "...                    ...                                   ...   \n",
       "2342                     A  2342df35-bfcc-5acf-abea-becd3c9b4855   \n",
       "2343  CCGGTGTAGGAGCTGCTGGT  b6543fb7-682e-50d8-adc8-6f869f3533a8   \n",
       "2344                     G  bbea61a1-0ee9-5b0f-b36d-9ffa69bf2771   \n",
       "2345                     A  1eca39a2-6e5b-51fd-95ca-e26c5fcc796c   \n",
       "2346                     G  2faa57f5-a118-555a-a614-e8da583e1b35   \n",
       "\n",
       "     ssm.start_position ssm.tumor_allele  \n",
       "0             195780168                T  \n",
       "1             179203764                C  \n",
       "2               7676041               GA  \n",
       "3              68883820                G  \n",
       "4             195782578                A  \n",
       "...                 ...              ...  \n",
       "2342            7674199                C  \n",
       "2343            7676122               '-  \n",
       "2344           67726551                A  \n",
       "2345          179218229                T  \n",
       "2346          119915832               '-  \n",
       "\n",
       "[2347 rows x 74 columns]"
      ],
      "text/html": "<div>\n<style scoped>\n    .dataframe tbody tr th:only-of-type {\n        vertical-align: middle;\n    }\n\n    .dataframe tbody tr th {\n        vertical-align: top;\n    }\n\n    .dataframe thead th {\n        text-align: right;\n    }\n</style>\n<table border=\"1\" class=\"dataframe\">\n  <thead>\n    <tr style=\"text-align: right;\">\n      <th></th>\n      <th>case.case_id</th>\n      <th>id</th>\n      <th>ssm.chromosome</th>\n      <th>ssm.consequence.0.consequence_id</th>\n      <th>ssm.consequence.0.transcript.gene.symbol</th>\n      <th>ssm.consequence.1.consequence_id</th>\n      <th>ssm.consequence.1.transcript.gene.symbol</th>\n      <th>ssm.consequence.10.consequence_id</th>\n      <th>ssm.consequence.10.transcript.gene.symbol</th>\n      <th>ssm.consequence.11.consequence_id</th>\n      <th>...</th>\n      <th>ssm.cosmic_id.7</th>\n      <th>ssm.end_position</th>\n      <th>ssm.genomic_dna_change</th>\n      <th>ssm.mutation_subtype</th>\n      <th>ssm.mutation_type</th>\n      <th>ssm.ncbi_build</th>\n      <th>ssm.reference_allele</th>\n      <th>ssm.ssm_id</th>\n      <th>ssm.start_position</th>\n      <th>ssm.tumor_allele</th>\n    </tr>\n  </thead>\n  <tbody>\n    <tr>\n      <th>0</th>\n      <td>d2694b09-7844-4496-865c-5d3d8cd03330</td>\n      <td>b3244051-86aa-5e7b-8ba0-f274c9727a15</td>\n      <td>chr3</td>\n      <td>804da0aa-da6b-590e-8733-2ac736d42f9c</td>\n      <td>MUC4</td>\n      <td>779d457a-eba8-5e2a-8952-1b69b5d8ac92</td>\n      <td>MUC4</td>\n      <td>c5e4b93b-d19b-5125-ada4-e35d12ff0eb3</td>\n      <td>MUC4</td>\n      <td>5dbb4aab-8068-5bcb-9aa9-5b612667493a</td>\n      <td>...</td>\n      <td>NaN</td>\n      <td>195780168</td>\n      <td>chr3:g.195780168A&gt;T</td>\n      <td>Single base substitution</td>\n      <td>Simple Somatic Mutation</td>\n      <td>GRCh38</td>\n      <td>A</td>\n      <td>92dded19-d0ce-5c34-9d99-169342f9bc37</td>\n      <td>195780168</td>\n      <td>T</td>\n    </tr>\n    <tr>\n      <th>1</th>\n      <td>17baef7c-d97d-4b98-ab53-503ef856523d</td>\n      <td>aba11501-070d-5cef-aae3-076a502489fb</td>\n      <td>chr3</td>\n      <td>4a574530-38c9-5378-970c-68681c574704</td>\n      <td>PIK3CA</td>\n      <td>3e210ff4-1c08-5a79-be1c-de66ff811543</td>\n      <td>PIK3CA</td>\n      <td>NaN</td>\n      <td>NaN</td>\n      <td>NaN</td>\n      <td>...</td>\n      <td>NaN</td>\n      <td>179203764</td>\n      <td>chr3:g.179203764A&gt;C</td>\n      <td>Single base substitution</td>\n      <td>Simple Somatic Mutation</td>\n      <td>GRCh38</td>\n      <td>A</td>\n      <td>7ea2ecba-9bbc-5d84-8a58-2ed20f13bdf3</td>\n      <td>179203764</td>\n      <td>C</td>\n    </tr>\n    <tr>\n      <th>2</th>\n      <td>d3d545b3-457f-4389-821f-704cb24aff7f</td>\n      <td>64231c12-2355-5bcb-a382-ca48e06d1006</td>\n      <td>chr17</td>\n      <td>641bea5c-640b-5d23-9cac-f4d17ae8b2f3</td>\n      <td>TP53</td>\n      <td>b9b12ef5-9e7e-5ddf-8bff-ee3a8c2a873c</td>\n      <td>TP53</td>\n      <td>6fd39f3b-dd6d-5e43-82c8-92ff6fdb445d</td>\n      <td>TP53</td>\n      <td>65cd6ec8-5527-5940-ab71-0183769bf30b</td>\n      <td>...</td>\n      <td>NaN</td>\n      <td>7676042</td>\n      <td>chr17:g.7676041_7676042insGA</td>\n      <td>Small insertion</td>\n      <td>Simple Somatic Mutation</td>\n      <td>GRCh38</td>\n      <td>'-</td>\n      <td>1c4dad33-40cc-58d0-9d8c-4d808cb33401</td>\n      <td>7676041</td>\n      <td>GA</td>\n    </tr>\n    <tr>\n      <th>3</th>\n      <td>55262fcb-1b01-4480-b322-36570430c917</td>\n      <td>7c07038d-df18-51b1-b2d7-7b35ffab50b1</td>\n      <td>chr17</td>\n      <td>e9afc75e-121a-52c1-904f-151d7db55cbe</td>\n      <td>ABCA8</td>\n      <td>1e5a9dce-edb4-5d01-b916-a9e957562414</td>\n      <td>ABCA8</td>\n      <td>NaN</td>\n      <td>NaN</td>\n      <td>NaN</td>\n      <td>...</td>\n      <td>NaN</td>\n      <td>68883820</td>\n      <td>chr17:g.68883820C&gt;G</td>\n      <td>Single base substitution</td>\n      <td>Simple Somatic Mutation</td>\n      <td>GRCh38</td>\n      <td>C</td>\n      <td>905a9d14-3a2e-5fb8-994e-48a2e5a1fa54</td>\n      <td>68883820</td>\n      <td>G</td>\n    </tr>\n    <tr>\n      <th>4</th>\n      <td>91b09291-5944-4691-a0d8-7d1ccc649b9b</td>\n      <td>0b8d9e3c-248a-5813-949b-2b5b8787ef39</td>\n      <td>chr3</td>\n      <td>a1470875-9e4b-5ffb-b4b4-c30bd7148b8b</td>\n      <td>MUC4</td>\n      <td>48245c83-639e-567c-b150-a5d5135a3f36</td>\n      <td>MUC4</td>\n      <td>305073a2-9685-536a-b73a-7677c64729c9</td>\n      <td>MUC4</td>\n      <td>e9c831f8-a79f-5258-a9df-f3d627dc3265</td>\n      <td>...</td>\n      <td>NaN</td>\n      <td>195782578</td>\n      <td>chr3:g.195782578G&gt;A</td>\n      <td>Single base substitution</td>\n      <td>Simple Somatic Mutation</td>\n      <td>GRCh38</td>\n      <td>G</td>\n      <td>eb5acb6d-ebcc-50fc-9dc0-9a7ac5b85fc4</td>\n      <td>195782578</td>\n      <td>A</td>\n    </tr>\n    <tr>\n      <th>...</th>\n      <td>...</td>\n      <td>...</td>\n      <td>...</td>\n      <td>...</td>\n      <td>...</td>\n      <td>...</td>\n      <td>...</td>\n      <td>...</td>\n      <td>...</td>\n      <td>...</td>\n      <td>...</td>\n      <td>...</td>\n      <td>...</td>\n      <td>...</td>\n      <td>...</td>\n      <td>...</td>\n      <td>...</td>\n      <td>...</td>\n      <td>...</td>\n      <td>...</td>\n      <td>...</td>\n    </tr>\n    <tr>\n      <th>2342</th>\n      <td>14b95463-2108-4921-afc2-e29eef52b18f</td>\n      <td>4e629c1f-8092-5378-b656-61ee8369e18e</td>\n      <td>chr17</td>\n      <td>8452100c-2c8f-512d-8d41-f47c2fe9ded2</td>\n      <td>TP53</td>\n      <td>d360c722-e094-531e-b6ac-212313d99f7e</td>\n      <td>TP53</td>\n      <td>4f64e2b7-2a91-522f-a05c-fb7c50e569a2</td>\n      <td>TP53</td>\n      <td>1dc5c8ba-7b0c-5a8f-a371-15cc08d2f6d5</td>\n      <td>...</td>\n      <td>NaN</td>\n      <td>7674199</td>\n      <td>chr17:g.7674199A&gt;C</td>\n      <td>Single base substitution</td>\n      <td>Simple Somatic Mutation</td>\n      <td>GRCh38</td>\n      <td>A</td>\n      <td>2342df35-bfcc-5acf-abea-becd3c9b4855</td>\n      <td>7674199</td>\n      <td>C</td>\n    </tr>\n    <tr>\n      <th>2343</th>\n      <td>8c7e74e0-71ef-49b8-9217-94b8ef740ef9</td>\n      <td>c4ea5e66-260b-5ad7-b2a0-c41c27c53fc7</td>\n      <td>chr17</td>\n      <td>cf88e418-8755-5f92-90c8-2f395501b384</td>\n      <td>TP53</td>\n      <td>6f18d0e5-347c-5f98-891a-8bb434964f21</td>\n      <td>TP53</td>\n      <td>07076e34-66a2-557a-93d9-4a6ed8d9a8e3</td>\n      <td>TP53</td>\n      <td>9257978a-72bd-5d28-8bdd-60a5ce7010dd</td>\n      <td>...</td>\n      <td>NaN</td>\n      <td>7676141</td>\n      <td>chr17:g.7676122delCCGGTGTAGGAGCTGCTGGT</td>\n      <td>Small deletion</td>\n      <td>Simple Somatic Mutation</td>\n      <td>GRCh38</td>\n      <td>CCGGTGTAGGAGCTGCTGGT</td>\n      <td>b6543fb7-682e-50d8-adc8-6f869f3533a8</td>\n      <td>7676122</td>\n      <td>'-</td>\n    </tr>\n    <tr>\n      <th>2344</th>\n      <td>05af737d-89aa-49b6-97b2-28b8ac8bd2cf</td>\n      <td>e26b90e5-e3fc-576c-8043-e382bc18bb22</td>\n      <td>chr17</td>\n      <td>4e3067d5-2011-5fc7-9089-280b5d853c36</td>\n      <td>NOL11</td>\n      <td>dad3ba92-408d-5d65-ae01-47258dcf8676</td>\n      <td>NOL11</td>\n      <td>NaN</td>\n      <td>NaN</td>\n      <td>NaN</td>\n      <td>...</td>\n      <td>NaN</td>\n      <td>67726551</td>\n      <td>chr17:g.67726551G&gt;A</td>\n      <td>Single base substitution</td>\n      <td>Simple Somatic Mutation</td>\n      <td>GRCh38</td>\n      <td>G</td>\n      <td>bbea61a1-0ee9-5b0f-b36d-9ffa69bf2771</td>\n      <td>67726551</td>\n      <td>A</td>\n    </tr>\n    <tr>\n      <th>2345</th>\n      <td>ad0fa961-c085-4f38-b3db-5fc0cbf6b64f</td>\n      <td>bcd16ca5-1766-530f-a0b2-0335356eddda</td>\n      <td>chr3</td>\n      <td>ce5e92f8-7945-5e04-9b6f-40e31e3be7f9</td>\n      <td>PIK3CA</td>\n      <td>774cd0e4-0ea2-5621-9e34-a127aaa60c43</td>\n      <td>PIK3CA</td>\n      <td>NaN</td>\n      <td>NaN</td>\n      <td>NaN</td>\n      <td>...</td>\n      <td>NaN</td>\n      <td>179218229</td>\n      <td>chr3:g.179218229A&gt;T</td>\n      <td>Single base substitution</td>\n      <td>Simple Somatic Mutation</td>\n      <td>GRCh38</td>\n      <td>A</td>\n      <td>1eca39a2-6e5b-51fd-95ca-e26c5fcc796c</td>\n      <td>179218229</td>\n      <td>T</td>\n    </tr>\n    <tr>\n      <th>2346</th>\n      <td>08da7c4c-3067-4bcf-9d7a-78566df72e69</td>\n      <td>219fcf53-df80-57c5-bef5-9d2ba0941943</td>\n      <td>chr1</td>\n      <td>523f03f1-f552-541e-8235-cd8cf7a18391</td>\n      <td>NOTCH2</td>\n      <td>NaN</td>\n      <td>NaN</td>\n      <td>NaN</td>\n      <td>NaN</td>\n      <td>NaN</td>\n      <td>...</td>\n      <td>NaN</td>\n      <td>119915832</td>\n      <td>chr1:g.119915832delG</td>\n      <td>Small deletion</td>\n      <td>Simple Somatic Mutation</td>\n      <td>GRCh38</td>\n      <td>G</td>\n      <td>2faa57f5-a118-555a-a614-e8da583e1b35</td>\n      <td>119915832</td>\n      <td>'-</td>\n    </tr>\n  </tbody>\n</table>\n<p>2347 rows × 74 columns</p>\n</div>"
     },
     "metadata": {},
     "execution_count": 96
    }
   ],
   "source": [
    "df_ssm"
   ]
  },
  {
   "cell_type": "code",
   "execution_count": 97,
   "metadata": {},
   "outputs": [
    {
     "output_type": "stream",
     "name": "stdout",
     "text": [
      "case.case_id\nid\nssm.chromosome\nssm.consequence.0.consequence_id\nssm.consequence.0.transcript.gene.symbol\nssm.consequence.1.consequence_id\nssm.consequence.1.transcript.gene.symbol\nssm.consequence.10.consequence_id\nssm.consequence.10.transcript.gene.symbol\nssm.consequence.11.consequence_id\nssm.consequence.11.transcript.gene.symbol\nssm.consequence.12.consequence_id\nssm.consequence.12.transcript.gene.symbol\nssm.consequence.13.consequence_id\nssm.consequence.13.transcript.gene.symbol\nssm.consequence.14.consequence_id\nssm.consequence.14.transcript.gene.symbol\nssm.consequence.15.consequence_id\nssm.consequence.15.transcript.gene.symbol\nssm.consequence.16.consequence_id\nssm.consequence.16.transcript.gene.symbol\nssm.consequence.17.consequence_id\nssm.consequence.17.transcript.gene.symbol\nssm.consequence.18.consequence_id\nssm.consequence.18.transcript.gene.symbol\nssm.consequence.19.consequence_id\nssm.consequence.19.transcript.gene.symbol\nssm.consequence.2.consequence_id\nssm.consequence.2.transcript.gene.symbol\nssm.consequence.20.consequence_id\nssm.consequence.20.transcript.gene.symbol\nssm.consequence.21.consequence_id\nssm.consequence.21.transcript.gene.symbol\nssm.consequence.22.consequence_id\nssm.consequence.22.transcript.gene.symbol\nssm.consequence.23.consequence_id\nssm.consequence.23.transcript.gene.symbol\nssm.consequence.24.consequence_id\nssm.consequence.24.transcript.gene.symbol\nssm.consequence.25.consequence_id\nssm.consequence.25.transcript.gene.symbol\nssm.consequence.26.consequence_id\nssm.consequence.26.transcript.gene.symbol\nssm.consequence.3.consequence_id\nssm.consequence.3.transcript.gene.symbol\nssm.consequence.4.consequence_id\nssm.consequence.4.transcript.gene.symbol\nssm.consequence.5.consequence_id\nssm.consequence.5.transcript.gene.symbol\nssm.consequence.6.consequence_id\nssm.consequence.6.transcript.gene.symbol\nssm.consequence.7.consequence_id\nssm.consequence.7.transcript.gene.symbol\nssm.consequence.8.consequence_id\nssm.consequence.8.transcript.gene.symbol\nssm.consequence.9.consequence_id\nssm.consequence.9.transcript.gene.symbol\nssm.cosmic_id.0\nssm.cosmic_id.1\nssm.cosmic_id.2\nssm.cosmic_id.3\nssm.cosmic_id.4\nssm.cosmic_id.5\nssm.cosmic_id.6\nssm.cosmic_id.7\nssm.end_position\nssm.genomic_dna_change\nssm.mutation_subtype\nssm.mutation_type\nssm.ncbi_build\nssm.reference_allele\nssm.ssm_id\nssm.start_position\nssm.tumor_allele\n"
     ]
    }
   ],
   "source": [
    "df_ssm.dtypes\n",
    "for col in df_ssm.columns: \n",
    "    print(col)"
   ]
  },
  {
   "cell_type": "code",
   "execution_count": 85,
   "metadata": {},
   "outputs": [
    {
     "output_type": "execute_result",
     "data": {
      "text/plain": [
       "case.case_id                                1.0\n",
       "id                                          1.0\n",
       "ssm.chromosome                              1.0\n",
       "ssm.consequence.0.consequence_id            1.0\n",
       "ssm.consequence.0.transcript.gene.symbol    1.0\n",
       "                                           ... \n",
       "ssm.ncbi_build                              1.0\n",
       "ssm.reference_allele                        1.0\n",
       "ssm.ssm_id                                  1.0\n",
       "ssm.start_position                          1.0\n",
       "ssm.tumor_allele                            1.0\n",
       "Length: 74, dtype: float64"
      ]
     },
     "metadata": {},
     "execution_count": 85
    }
   ],
   "source": [
    "df_ssm.notnull().mean()"
   ]
  },
  {
   "cell_type": "code",
   "execution_count": null,
   "metadata": {},
   "outputs": [],
   "source": []
  }
 ]
}
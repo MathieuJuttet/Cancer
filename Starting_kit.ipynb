{
 "metadata": {
  "language_info": {
   "codemirror_mode": {
    "name": "ipython",
    "version": 3
   },
   "file_extension": ".py",
   "mimetype": "text/x-python",
   "name": "python",
   "nbconvert_exporter": "python",
   "pygments_lexer": "ipython3",
   "version": "3.7.6-final"
  },
  "orig_nbformat": 2,
  "kernelspec": {
   "name": "python3",
   "display_name": "Python 3",
   "language": "python"
  }
 },
 "nbformat": 4,
 "nbformat_minor": 2,
 "cells": [
  {
   "source": [
    "# Cancer prediction - starting_kit\n",
    "This notebook can be consulted as an HTML page following this link.\n",
    "\n",
    "\n",
    "This notebook aims at defining the theoretical understanding of cancer prediction and its correlation with genes. \n",
    "\n",
    "In addition to the medical knowldege, the data set which will be used will also be presented and illustrated. \n",
    "\n",
    "Last, an initial machine learning example will be provided in order to initiate your contribution to the challenge by proving you with an basic working solution.\n",
    "\n",
    "\n"
   ],
   "cell_type": "markdown",
   "metadata": {}
  },
  {
   "source": [
    "In 2018 there have been 18million new cases of cancer and 10 millions death. About 20% of men will have a cancer and 17% of the woman. 1 man over 8 will die of cancer and 1 woman over 11.\n",
    "Living with a cancer five year after its diagnosis is called prevalence. 50 million in the world are in this case.\n",
    "\n",
    "The rise of cancer in our societies has multiple origins : demographic growth, the ageing of the population, social and economical factors. The type of cancers shifts with the development of countries from cancers linked to poverty to cancers associated with industrialized way of life. \n",
    "\n",
    "Europe concentrates 23.4% of the cancers and 20.3% of the death due to cancer even though it only represents 9% of the worldwide population. United States and Canada together count for 21% of the cancer cases, 14% of the death with 13.3% of the population. \n",
    "\n",
    "\n",
    "A cancer is caused by a mutation of the DNA, thus, the cell’s reproduction becomes out of control. Many mutation can have the same effect, resulting in many different types of cancer. That is why cancer cannot can be cured as simply as other pathologies. \n",
    "\n",
    "One of the major aspects of treating a cancer is detecting is, knowing which mutation of the DNA it is, what are the specific consequences of those mutations on the cells which then gives the doctor an indication about how to treat it. \n"
   ],
   "cell_type": "markdown",
   "metadata": {}
  },
  {
   "cell_type": "code",
   "execution_count": 5,
   "metadata": {},
   "outputs": [],
   "source": [
    "import pandas as pd"
   ]
  },
  {
   "cell_type": "code",
   "execution_count": 7,
   "metadata": {},
   "outputs": [],
   "source": [
    "df_case = pd.read_csv('/Users/mathieujuttet/Documents/99-Travail/4-M2 Data Science/3-P1/8-Data Camp/2-Projet en groupe/Cancer/data/case.tsv', sep='\\t')\n",
    "df_cnv = pd.read_csv('/Users/mathieujuttet/Documents/99-Travail/4-M2 Data Science/3-P1/8-Data Camp/2-Projet en groupe/Cancer/data/cnv.tsv', sep='\\t')\n",
    "df_gene = pd.read_csv('/Users/mathieujuttet/Documents/99-Travail/4-M2 Data Science/3-P1/8-Data Camp/2-Projet en groupe/Cancer/data/gene.tsv', sep='\\t')\n",
    "df_ssm = pd.read_csv('/Users/mathieujuttet/Documents/99-Travail/4-M2 Data Science/3-P1/8-Data Camp/2-Projet en groupe/Cancer/data/ssm.tsv', sep='\\t')"
   ]
  },
  {
   "source": [
    "### Data Frame: case\n",
    "\n",
    "Information on each case such as age, alcohol, tobacco, BMI (Body Mass Index), most of the values are not availale (NaN)\n",
    "\n",
    "36 columns and 9115 rows.\n",
    "\n",
    "Possible key: 'case_id' or 'id'"
   ],
   "cell_type": "markdown",
   "metadata": {}
  },
  {
   "cell_type": "code",
   "execution_count": 36,
   "metadata": {},
   "outputs": [
    {
     "output_type": "execute_result",
     "data": {
      "text/plain": [
       "                                case_id  exposures.0.age_at_onset  \\\n",
       "0  e479200e-a6dc-4973-b326-8ae7eab5bc88                       NaN   \n",
       "1  0532931f-a727-42d8-877f-3e4a20e2ee44                       NaN   \n",
       "2  b30a070d-e090-40cc-8277-33fdc66a7700                       NaN   \n",
       "3  017a3a78-249c-48e0-a758-f48351ba5734                       NaN   \n",
       "4  1a38613b-e8f8-4ac9-b86d-cae0738d6625                       NaN   \n",
       "\n",
       "   exposures.0.alcohol_days_per_week  exposures.0.alcohol_drinks_per_day  \\\n",
       "0                                NaN                                 NaN   \n",
       "1                                NaN                                 NaN   \n",
       "2                                NaN                                 NaN   \n",
       "3                                NaN                                 NaN   \n",
       "4                                NaN                                 NaN   \n",
       "\n",
       "  exposures.0.alcohol_history  exposures.0.alcohol_intensity  \\\n",
       "0                         NaN                            NaN   \n",
       "1                         NaN                            NaN   \n",
       "2                         NaN                            NaN   \n",
       "3                         NaN                            NaN   \n",
       "4                         NaN                            NaN   \n",
       "\n",
       "   exposures.0.asbestos_exposure  exposures.0.bmi  \\\n",
       "0                            NaN              NaN   \n",
       "1                            NaN              NaN   \n",
       "2                            NaN              NaN   \n",
       "3                            NaN              NaN   \n",
       "4                            NaN              NaN   \n",
       "\n",
       "   exposures.0.cigarettes_per_day  exposures.0.coal_dust_exposure  ...  \\\n",
       "0                             NaN                             NaN  ...   \n",
       "1                             NaN                             NaN  ...   \n",
       "2                             NaN                             NaN  ...   \n",
       "3                             NaN                             NaN  ...   \n",
       "4                             NaN                             NaN  ...   \n",
       "\n",
       "  exposures.0.tobacco_smoking_quit_year  exposures.0.tobacco_smoking_status  \\\n",
       "0                                   NaN                                 NaN   \n",
       "1                                   NaN                                 NaN   \n",
       "2                                   NaN                                 NaN   \n",
       "3                                   NaN                                 NaN   \n",
       "4                                   NaN                                 NaN   \n",
       "\n",
       "   exposures.0.tobacco_use_per_day exposures.0.type_of_smoke_exposure  \\\n",
       "0                              NaN                                NaN   \n",
       "1                              NaN                                NaN   \n",
       "2                              NaN                                NaN   \n",
       "3                              NaN                                NaN   \n",
       "4                              NaN                                NaN   \n",
       "\n",
       "   exposures.0.type_of_tobacco_used  exposures.0.updated_datetime  \\\n",
       "0                               NaN                           NaN   \n",
       "1                               NaN                           NaN   \n",
       "2                               NaN                           NaN   \n",
       "3                               NaN                           NaN   \n",
       "4                               NaN                           NaN   \n",
       "\n",
       "   exposures.0.weight  exposures.0.years_smoked  \\\n",
       "0                 NaN                       NaN   \n",
       "1                 NaN                       NaN   \n",
       "2                 NaN                       NaN   \n",
       "3                 NaN                       NaN   \n",
       "4                 NaN                       NaN   \n",
       "\n",
       "                                     id       submitter_id  \n",
       "0  e479200e-a6dc-4973-b326-8ae7eab5bc88             AD7074  \n",
       "1  0532931f-a727-42d8-877f-3e4a20e2ee44  GENIE-DFCI-002294  \n",
       "2  b30a070d-e090-40cc-8277-33fdc66a7700  GENIE-DFCI-078832  \n",
       "3  017a3a78-249c-48e0-a758-f48351ba5734  GENIE-DFCI-037611  \n",
       "4  1a38613b-e8f8-4ac9-b86d-cae0738d6625  GENIE-DFCI-011493  \n",
       "\n",
       "[5 rows x 36 columns]"
      ],
      "text/html": "<div>\n<style scoped>\n    .dataframe tbody tr th:only-of-type {\n        vertical-align: middle;\n    }\n\n    .dataframe tbody tr th {\n        vertical-align: top;\n    }\n\n    .dataframe thead th {\n        text-align: right;\n    }\n</style>\n<table border=\"1\" class=\"dataframe\">\n  <thead>\n    <tr style=\"text-align: right;\">\n      <th></th>\n      <th>case_id</th>\n      <th>exposures.0.age_at_onset</th>\n      <th>exposures.0.alcohol_days_per_week</th>\n      <th>exposures.0.alcohol_drinks_per_day</th>\n      <th>exposures.0.alcohol_history</th>\n      <th>exposures.0.alcohol_intensity</th>\n      <th>exposures.0.asbestos_exposure</th>\n      <th>exposures.0.bmi</th>\n      <th>exposures.0.cigarettes_per_day</th>\n      <th>exposures.0.coal_dust_exposure</th>\n      <th>...</th>\n      <th>exposures.0.tobacco_smoking_quit_year</th>\n      <th>exposures.0.tobacco_smoking_status</th>\n      <th>exposures.0.tobacco_use_per_day</th>\n      <th>exposures.0.type_of_smoke_exposure</th>\n      <th>exposures.0.type_of_tobacco_used</th>\n      <th>exposures.0.updated_datetime</th>\n      <th>exposures.0.weight</th>\n      <th>exposures.0.years_smoked</th>\n      <th>id</th>\n      <th>submitter_id</th>\n    </tr>\n  </thead>\n  <tbody>\n    <tr>\n      <th>0</th>\n      <td>e479200e-a6dc-4973-b326-8ae7eab5bc88</td>\n      <td>NaN</td>\n      <td>NaN</td>\n      <td>NaN</td>\n      <td>NaN</td>\n      <td>NaN</td>\n      <td>NaN</td>\n      <td>NaN</td>\n      <td>NaN</td>\n      <td>NaN</td>\n      <td>...</td>\n      <td>NaN</td>\n      <td>NaN</td>\n      <td>NaN</td>\n      <td>NaN</td>\n      <td>NaN</td>\n      <td>NaN</td>\n      <td>NaN</td>\n      <td>NaN</td>\n      <td>e479200e-a6dc-4973-b326-8ae7eab5bc88</td>\n      <td>AD7074</td>\n    </tr>\n    <tr>\n      <th>1</th>\n      <td>0532931f-a727-42d8-877f-3e4a20e2ee44</td>\n      <td>NaN</td>\n      <td>NaN</td>\n      <td>NaN</td>\n      <td>NaN</td>\n      <td>NaN</td>\n      <td>NaN</td>\n      <td>NaN</td>\n      <td>NaN</td>\n      <td>NaN</td>\n      <td>...</td>\n      <td>NaN</td>\n      <td>NaN</td>\n      <td>NaN</td>\n      <td>NaN</td>\n      <td>NaN</td>\n      <td>NaN</td>\n      <td>NaN</td>\n      <td>NaN</td>\n      <td>0532931f-a727-42d8-877f-3e4a20e2ee44</td>\n      <td>GENIE-DFCI-002294</td>\n    </tr>\n    <tr>\n      <th>2</th>\n      <td>b30a070d-e090-40cc-8277-33fdc66a7700</td>\n      <td>NaN</td>\n      <td>NaN</td>\n      <td>NaN</td>\n      <td>NaN</td>\n      <td>NaN</td>\n      <td>NaN</td>\n      <td>NaN</td>\n      <td>NaN</td>\n      <td>NaN</td>\n      <td>...</td>\n      <td>NaN</td>\n      <td>NaN</td>\n      <td>NaN</td>\n      <td>NaN</td>\n      <td>NaN</td>\n      <td>NaN</td>\n      <td>NaN</td>\n      <td>NaN</td>\n      <td>b30a070d-e090-40cc-8277-33fdc66a7700</td>\n      <td>GENIE-DFCI-078832</td>\n    </tr>\n    <tr>\n      <th>3</th>\n      <td>017a3a78-249c-48e0-a758-f48351ba5734</td>\n      <td>NaN</td>\n      <td>NaN</td>\n      <td>NaN</td>\n      <td>NaN</td>\n      <td>NaN</td>\n      <td>NaN</td>\n      <td>NaN</td>\n      <td>NaN</td>\n      <td>NaN</td>\n      <td>...</td>\n      <td>NaN</td>\n      <td>NaN</td>\n      <td>NaN</td>\n      <td>NaN</td>\n      <td>NaN</td>\n      <td>NaN</td>\n      <td>NaN</td>\n      <td>NaN</td>\n      <td>017a3a78-249c-48e0-a758-f48351ba5734</td>\n      <td>GENIE-DFCI-037611</td>\n    </tr>\n    <tr>\n      <th>4</th>\n      <td>1a38613b-e8f8-4ac9-b86d-cae0738d6625</td>\n      <td>NaN</td>\n      <td>NaN</td>\n      <td>NaN</td>\n      <td>NaN</td>\n      <td>NaN</td>\n      <td>NaN</td>\n      <td>NaN</td>\n      <td>NaN</td>\n      <td>NaN</td>\n      <td>...</td>\n      <td>NaN</td>\n      <td>NaN</td>\n      <td>NaN</td>\n      <td>NaN</td>\n      <td>NaN</td>\n      <td>NaN</td>\n      <td>NaN</td>\n      <td>NaN</td>\n      <td>1a38613b-e8f8-4ac9-b86d-cae0738d6625</td>\n      <td>GENIE-DFCI-011493</td>\n    </tr>\n  </tbody>\n</table>\n<p>5 rows × 36 columns</p>\n</div>"
     },
     "metadata": {},
     "execution_count": 36
    }
   ],
   "source": [
    "df_case.head()"
   ]
  },
  {
   "cell_type": "code",
   "execution_count": 54,
   "metadata": {},
   "outputs": [
    {
     "output_type": "execute_result",
     "data": {
      "text/plain": [
       "case_id                                                object\n",
       "exposures.0.age_at_onset                              float64\n",
       "exposures.0.alcohol_days_per_week                     float64\n",
       "exposures.0.alcohol_drinks_per_day                    float64\n",
       "exposures.0.alcohol_history                            object\n",
       "exposures.0.alcohol_intensity                         float64\n",
       "exposures.0.asbestos_exposure                         float64\n",
       "exposures.0.bmi                                       float64\n",
       "exposures.0.cigarettes_per_day                        float64\n",
       "exposures.0.coal_dust_exposure                        float64\n",
       "exposures.0.created_datetime                           object\n",
       "exposures.0.environmental_tobacco_smoke_exposure      float64\n",
       "exposures.0.exposure_duration                         float64\n",
       "exposures.0.exposure_id                                object\n",
       "exposures.0.exposure_type                             float64\n",
       "exposures.0.height                                    float64\n",
       "exposures.0.marijuana_use_per_week                    float64\n",
       "exposures.0.pack_years_smoked                         float64\n",
       "exposures.0.radon_exposure                            float64\n",
       "exposures.0.respirable_crystalline_silica_exposure    float64\n",
       "exposures.0.secondhand_smoke_as_child                 float64\n",
       "exposures.0.smoking_frequency                         float64\n",
       "exposures.0.state                                      object\n",
       "exposures.0.submitter_id                               object\n",
       "exposures.0.time_between_waking_and_first_smoke       float64\n",
       "exposures.0.tobacco_smoking_onset_year                float64\n",
       "exposures.0.tobacco_smoking_quit_year                 float64\n",
       "exposures.0.tobacco_smoking_status                    float64\n",
       "exposures.0.tobacco_use_per_day                       float64\n",
       "exposures.0.type_of_smoke_exposure                    float64\n",
       "exposures.0.type_of_tobacco_used                      float64\n",
       "exposures.0.updated_datetime                           object\n",
       "exposures.0.weight                                    float64\n",
       "exposures.0.years_smoked                              float64\n",
       "id                                                     object\n",
       "submitter_id                                           object\n",
       "dtype: object"
      ]
     },
     "metadata": {},
     "execution_count": 54
    }
   ],
   "source": [
    "df_case.dtypes"
   ]
  },
  {
   "cell_type": "code",
   "execution_count": 57,
   "metadata": {},
   "outputs": [
    {
     "output_type": "execute_result",
     "data": {
      "text/plain": [
       "case_id                                               1.000000\n",
       "exposures.0.age_at_onset                              0.000000\n",
       "exposures.0.alcohol_days_per_week                     0.000000\n",
       "exposures.0.alcohol_drinks_per_day                    0.000000\n",
       "exposures.0.alcohol_history                           0.120461\n",
       "exposures.0.alcohol_intensity                         0.000000\n",
       "exposures.0.asbestos_exposure                         0.000000\n",
       "exposures.0.bmi                                       0.000110\n",
       "exposures.0.cigarettes_per_day                        0.000000\n",
       "exposures.0.coal_dust_exposure                        0.000000\n",
       "exposures.0.created_datetime                          0.000110\n",
       "exposures.0.environmental_tobacco_smoke_exposure      0.000000\n",
       "exposures.0.exposure_duration                         0.000000\n",
       "exposures.0.exposure_id                               0.120570\n",
       "exposures.0.exposure_type                             0.000000\n",
       "exposures.0.height                                    0.000110\n",
       "exposures.0.marijuana_use_per_week                    0.000000\n",
       "exposures.0.pack_years_smoked                         0.000000\n",
       "exposures.0.radon_exposure                            0.000000\n",
       "exposures.0.respirable_crystalline_silica_exposure    0.000000\n",
       "exposures.0.secondhand_smoke_as_child                 0.000000\n",
       "exposures.0.smoking_frequency                         0.000000\n",
       "exposures.0.state                                     0.120570\n",
       "exposures.0.submitter_id                              0.120570\n",
       "exposures.0.time_between_waking_and_first_smoke       0.000000\n",
       "exposures.0.tobacco_smoking_onset_year                0.000000\n",
       "exposures.0.tobacco_smoking_quit_year                 0.000000\n",
       "exposures.0.tobacco_smoking_status                    0.000110\n",
       "exposures.0.tobacco_use_per_day                       0.000000\n",
       "exposures.0.type_of_smoke_exposure                    0.000000\n",
       "exposures.0.type_of_tobacco_used                      0.000000\n",
       "exposures.0.updated_datetime                          0.120570\n",
       "exposures.0.weight                                    0.000110\n",
       "exposures.0.years_smoked                              0.000000\n",
       "id                                                    1.000000\n",
       "submitter_id                                          1.000000\n",
       "dtype: float64"
      ]
     },
     "metadata": {},
     "execution_count": 57
    }
   ],
   "source": [
    "# The value on the right is the percentage of non null value par column.\n",
    "# As a consequence, this dataframe presents no real interest.\n",
    "df_case.notnull().mean()"
   ]
  },
  {
   "source": [
    "### Data Frame: cnv\n",
    "Information on the nature of the gene mutation. Most of the value are strings.\n",
    "\n",
    "12 columns and 1000 rows.\n",
    "\n",
    "Possible key: 'case.case_id' \n",
    "\n",
    "Possible link with other dataframe: 'cnv.consequence.0.gene.symbol' "
   ],
   "cell_type": "markdown",
   "metadata": {}
  },
  {
   "cell_type": "code",
   "execution_count": 41,
   "metadata": {},
   "outputs": [
    {
     "output_type": "execute_result",
     "data": {
      "text/plain": [
       "                           case.case_id  cnv.chromosome cnv.cnv_change  \\\n",
       "0  c5891c7a-fd24-4891-8f51-373967e4a6dd              17           Loss   \n",
       "1  d5f2b85a-94a9-4168-bbe8-149ec71342b0              17           Gain   \n",
       "2  eafa45a4-2fd1-4fa3-860c-9d52ed382b7d              11           Gain   \n",
       "3  dd0f8e5a-383d-4f03-bb71-0e115d4e442c              11           Gain   \n",
       "4  233b02f3-c4f0-4a67-9db5-e68d5cdaccb6               8           Gain   \n",
       "\n",
       "                             cnv.cnv_id      cnv.consequence.0.consequence_id  \\\n",
       "0  0e18bd24-e7dc-5e6e-a3ba-a23fd41ac529  99c68f83-9514-5628-9623-0ba6095dd90f   \n",
       "1  73eb64c1-82ef-5f05-9946-a35b8a041148  a7e6f054-f5a1-5e7f-a0c0-8daa7373a434   \n",
       "2  10bfced2-6df4-5613-96b3-a5d70afde19c  924c27ca-11cf-5b13-95b9-cf518abb142d   \n",
       "3  de0d6322-4040-570e-b9c3-94b6d565750f  00461981-a326-573d-a9a1-ad82872a1aea   \n",
       "4  f0d7c53c-76e0-590c-b0ac-1aa316fe5c50  c6208422-2c76-553a-b0eb-4472e816381f   \n",
       "\n",
       "  cnv.consequence.0.gene.symbol  cnv.end_position  cnv.gene_level_cn  \\\n",
       "0                         BCAS3          61392838               True   \n",
       "1                         ABCA8          68955392               True   \n",
       "2                        ORAOV1          69675416               True   \n",
       "3                        SHANK2          71252577               True   \n",
       "4                           MYC         127741434               True   \n",
       "\n",
       "  cnv.ncbi_build  cnv.start_position cnv.variant_status  \\\n",
       "0         GRCh38            60677453         Tumor only   \n",
       "1         GRCh38            68867292         Tumor only   \n",
       "2         GRCh38            69653076         Tumor only   \n",
       "3         GRCh38            70467856         Tumor only   \n",
       "4         GRCh38           127735434         Tumor only   \n",
       "\n",
       "                                     id  \n",
       "0  034993b7-98a2-57df-b741-761080debf14  \n",
       "1  309d1772-5c76-52d3-b384-32d00130c801  \n",
       "2  51a42266-c861-523b-92b6-313f5ad92b72  \n",
       "3  61d42790-c539-5f6d-867b-c24bd9bb6cd6  \n",
       "4  69cd805c-29ed-56dd-aa11-92f11956b814  "
      ],
      "text/html": "<div>\n<style scoped>\n    .dataframe tbody tr th:only-of-type {\n        vertical-align: middle;\n    }\n\n    .dataframe tbody tr th {\n        vertical-align: top;\n    }\n\n    .dataframe thead th {\n        text-align: right;\n    }\n</style>\n<table border=\"1\" class=\"dataframe\">\n  <thead>\n    <tr style=\"text-align: right;\">\n      <th></th>\n      <th>case.case_id</th>\n      <th>cnv.chromosome</th>\n      <th>cnv.cnv_change</th>\n      <th>cnv.cnv_id</th>\n      <th>cnv.consequence.0.consequence_id</th>\n      <th>cnv.consequence.0.gene.symbol</th>\n      <th>cnv.end_position</th>\n      <th>cnv.gene_level_cn</th>\n      <th>cnv.ncbi_build</th>\n      <th>cnv.start_position</th>\n      <th>cnv.variant_status</th>\n      <th>id</th>\n    </tr>\n  </thead>\n  <tbody>\n    <tr>\n      <th>0</th>\n      <td>c5891c7a-fd24-4891-8f51-373967e4a6dd</td>\n      <td>17</td>\n      <td>Loss</td>\n      <td>0e18bd24-e7dc-5e6e-a3ba-a23fd41ac529</td>\n      <td>99c68f83-9514-5628-9623-0ba6095dd90f</td>\n      <td>BCAS3</td>\n      <td>61392838</td>\n      <td>True</td>\n      <td>GRCh38</td>\n      <td>60677453</td>\n      <td>Tumor only</td>\n      <td>034993b7-98a2-57df-b741-761080debf14</td>\n    </tr>\n    <tr>\n      <th>1</th>\n      <td>d5f2b85a-94a9-4168-bbe8-149ec71342b0</td>\n      <td>17</td>\n      <td>Gain</td>\n      <td>73eb64c1-82ef-5f05-9946-a35b8a041148</td>\n      <td>a7e6f054-f5a1-5e7f-a0c0-8daa7373a434</td>\n      <td>ABCA8</td>\n      <td>68955392</td>\n      <td>True</td>\n      <td>GRCh38</td>\n      <td>68867292</td>\n      <td>Tumor only</td>\n      <td>309d1772-5c76-52d3-b384-32d00130c801</td>\n    </tr>\n    <tr>\n      <th>2</th>\n      <td>eafa45a4-2fd1-4fa3-860c-9d52ed382b7d</td>\n      <td>11</td>\n      <td>Gain</td>\n      <td>10bfced2-6df4-5613-96b3-a5d70afde19c</td>\n      <td>924c27ca-11cf-5b13-95b9-cf518abb142d</td>\n      <td>ORAOV1</td>\n      <td>69675416</td>\n      <td>True</td>\n      <td>GRCh38</td>\n      <td>69653076</td>\n      <td>Tumor only</td>\n      <td>51a42266-c861-523b-92b6-313f5ad92b72</td>\n    </tr>\n    <tr>\n      <th>3</th>\n      <td>dd0f8e5a-383d-4f03-bb71-0e115d4e442c</td>\n      <td>11</td>\n      <td>Gain</td>\n      <td>de0d6322-4040-570e-b9c3-94b6d565750f</td>\n      <td>00461981-a326-573d-a9a1-ad82872a1aea</td>\n      <td>SHANK2</td>\n      <td>71252577</td>\n      <td>True</td>\n      <td>GRCh38</td>\n      <td>70467856</td>\n      <td>Tumor only</td>\n      <td>61d42790-c539-5f6d-867b-c24bd9bb6cd6</td>\n    </tr>\n    <tr>\n      <th>4</th>\n      <td>233b02f3-c4f0-4a67-9db5-e68d5cdaccb6</td>\n      <td>8</td>\n      <td>Gain</td>\n      <td>f0d7c53c-76e0-590c-b0ac-1aa316fe5c50</td>\n      <td>c6208422-2c76-553a-b0eb-4472e816381f</td>\n      <td>MYC</td>\n      <td>127741434</td>\n      <td>True</td>\n      <td>GRCh38</td>\n      <td>127735434</td>\n      <td>Tumor only</td>\n      <td>69cd805c-29ed-56dd-aa11-92f11956b814</td>\n    </tr>\n  </tbody>\n</table>\n</div>"
     },
     "metadata": {},
     "execution_count": 41
    }
   ],
   "source": [
    "df_cnv.head()"
   ]
  },
  {
   "cell_type": "code",
   "execution_count": 40,
   "metadata": {},
   "outputs": [
    {
     "output_type": "execute_result",
     "data": {
      "text/plain": [
       "case.case_id                        object\n",
       "cnv.chromosome                       int64\n",
       "cnv.cnv_change                      object\n",
       "cnv.cnv_id                          object\n",
       "cnv.consequence.0.consequence_id    object\n",
       "cnv.consequence.0.gene.symbol       object\n",
       "cnv.end_position                     int64\n",
       "cnv.gene_level_cn                     bool\n",
       "cnv.ncbi_build                      object\n",
       "cnv.start_position                   int64\n",
       "cnv.variant_status                  object\n",
       "id                                  object\n",
       "dtype: object"
      ]
     },
     "metadata": {},
     "execution_count": 40
    }
   ],
   "source": [
    "df_cnv.dtypes"
   ]
  },
  {
   "cell_type": "code",
   "execution_count": 58,
   "metadata": {},
   "outputs": [
    {
     "output_type": "execute_result",
     "data": {
      "text/plain": [
       "case.case_id                        1.0\n",
       "cnv.chromosome                      1.0\n",
       "cnv.cnv_change                      1.0\n",
       "cnv.cnv_id                          1.0\n",
       "cnv.consequence.0.consequence_id    1.0\n",
       "cnv.consequence.0.gene.symbol       1.0\n",
       "cnv.end_position                    1.0\n",
       "cnv.gene_level_cn                   1.0\n",
       "cnv.ncbi_build                      1.0\n",
       "cnv.start_position                  1.0\n",
       "cnv.variant_status                  1.0\n",
       "id                                  1.0\n",
       "dtype: float64"
      ]
     },
     "metadata": {},
     "execution_count": 58
    }
   ],
   "source": [
    "df_cnv.notnull().mean()"
   ]
  },
  {
   "source": [
    "### Data Frame: gene\n",
    "\n",
    "Information on top 50 genes to studied. Most of the value are strings.\n",
    "\n",
    "2 columns and 50 rows.\n",
    "\n",
    "Possible key: 'symbol'\n",
    "\n",
    "What is 'score' ?"
   ],
   "cell_type": "markdown",
   "metadata": {}
  },
  {
   "cell_type": "code",
   "execution_count": 45,
   "metadata": {},
   "outputs": [
    {
     "output_type": "execute_result",
     "data": {
      "text/plain": [
       "   _score  symbol\n",
       "0   451.0  PIK3CA\n",
       "1   404.0    TP53\n",
       "2   322.0    MUC4\n",
       "3   320.0  SHANK2\n",
       "4   318.0    ANO1"
      ],
      "text/html": "<div>\n<style scoped>\n    .dataframe tbody tr th:only-of-type {\n        vertical-align: middle;\n    }\n\n    .dataframe tbody tr th {\n        vertical-align: top;\n    }\n\n    .dataframe thead th {\n        text-align: right;\n    }\n</style>\n<table border=\"1\" class=\"dataframe\">\n  <thead>\n    <tr style=\"text-align: right;\">\n      <th></th>\n      <th>_score</th>\n      <th>symbol</th>\n    </tr>\n  </thead>\n  <tbody>\n    <tr>\n      <th>0</th>\n      <td>451.0</td>\n      <td>PIK3CA</td>\n    </tr>\n    <tr>\n      <th>1</th>\n      <td>404.0</td>\n      <td>TP53</td>\n    </tr>\n    <tr>\n      <th>2</th>\n      <td>322.0</td>\n      <td>MUC4</td>\n    </tr>\n    <tr>\n      <th>3</th>\n      <td>320.0</td>\n      <td>SHANK2</td>\n    </tr>\n    <tr>\n      <th>4</th>\n      <td>318.0</td>\n      <td>ANO1</td>\n    </tr>\n  </tbody>\n</table>\n</div>"
     },
     "metadata": {},
     "execution_count": 45
    }
   ],
   "source": [
    "df_gene.head()"
   ]
  },
  {
   "cell_type": "code",
   "execution_count": 46,
   "metadata": {},
   "outputs": [
    {
     "output_type": "execute_result",
     "data": {
      "text/plain": [
       "_score    float64\n",
       "symbol     object\n",
       "dtype: object"
      ]
     },
     "metadata": {},
     "execution_count": 46
    }
   ],
   "source": [
    "df_gene.dtypes"
   ]
  },
  {
   "source": [
    "### Data Frame: ssm\n",
    "\n",
    "Information on \n",
    "\n",
    "74 columns and 1000 rows.\n",
    "\n",
    "Possible key: 'case.case_id', 'id', \n",
    "\n",
    "Most of the values are string."
   ],
   "cell_type": "markdown",
   "metadata": {}
  },
  {
   "cell_type": "code",
   "execution_count": 47,
   "metadata": {},
   "outputs": [
    {
     "output_type": "execute_result",
     "data": {
      "text/plain": [
       "                           case.case_id                                    id  \\\n",
       "0  d2694b09-7844-4496-865c-5d3d8cd03330  b3244051-86aa-5e7b-8ba0-f274c9727a15   \n",
       "1  17baef7c-d97d-4b98-ab53-503ef856523d  aba11501-070d-5cef-aae3-076a502489fb   \n",
       "2  d3d545b3-457f-4389-821f-704cb24aff7f  64231c12-2355-5bcb-a382-ca48e06d1006   \n",
       "3  55262fcb-1b01-4480-b322-36570430c917  7c07038d-df18-51b1-b2d7-7b35ffab50b1   \n",
       "4  91b09291-5944-4691-a0d8-7d1ccc649b9b  0b8d9e3c-248a-5813-949b-2b5b8787ef39   \n",
       "\n",
       "  ssm.chromosome      ssm.consequence.0.consequence_id  \\\n",
       "0           chr3  804da0aa-da6b-590e-8733-2ac736d42f9c   \n",
       "1           chr3  4a574530-38c9-5378-970c-68681c574704   \n",
       "2          chr17  641bea5c-640b-5d23-9cac-f4d17ae8b2f3   \n",
       "3          chr17  e9afc75e-121a-52c1-904f-151d7db55cbe   \n",
       "4           chr3  a1470875-9e4b-5ffb-b4b4-c30bd7148b8b   \n",
       "\n",
       "  ssm.consequence.0.transcript.gene.symbol  \\\n",
       "0                                     MUC4   \n",
       "1                                   PIK3CA   \n",
       "2                                     TP53   \n",
       "3                                    ABCA8   \n",
       "4                                     MUC4   \n",
       "\n",
       "       ssm.consequence.1.consequence_id  \\\n",
       "0  779d457a-eba8-5e2a-8952-1b69b5d8ac92   \n",
       "1  3e210ff4-1c08-5a79-be1c-de66ff811543   \n",
       "2  b9b12ef5-9e7e-5ddf-8bff-ee3a8c2a873c   \n",
       "3  1e5a9dce-edb4-5d01-b916-a9e957562414   \n",
       "4  48245c83-639e-567c-b150-a5d5135a3f36   \n",
       "\n",
       "  ssm.consequence.1.transcript.gene.symbol  \\\n",
       "0                                     MUC4   \n",
       "1                                   PIK3CA   \n",
       "2                                     TP53   \n",
       "3                                    ABCA8   \n",
       "4                                     MUC4   \n",
       "\n",
       "      ssm.consequence.10.consequence_id  \\\n",
       "0  c5e4b93b-d19b-5125-ada4-e35d12ff0eb3   \n",
       "1                                   NaN   \n",
       "2  6fd39f3b-dd6d-5e43-82c8-92ff6fdb445d   \n",
       "3                                   NaN   \n",
       "4  305073a2-9685-536a-b73a-7677c64729c9   \n",
       "\n",
       "  ssm.consequence.10.transcript.gene.symbol  \\\n",
       "0                                      MUC4   \n",
       "1                                       NaN   \n",
       "2                                      TP53   \n",
       "3                                       NaN   \n",
       "4                                      MUC4   \n",
       "\n",
       "      ssm.consequence.11.consequence_id  ... ssm.cosmic_id.7 ssm.end_position  \\\n",
       "0  5dbb4aab-8068-5bcb-9aa9-5b612667493a  ...             NaN        195780168   \n",
       "1                                   NaN  ...             NaN        179203764   \n",
       "2  65cd6ec8-5527-5940-ab71-0183769bf30b  ...             NaN          7676042   \n",
       "3                                   NaN  ...             NaN         68883820   \n",
       "4  e9c831f8-a79f-5258-a9df-f3d627dc3265  ...             NaN        195782578   \n",
       "\n",
       "         ssm.genomic_dna_change      ssm.mutation_subtype  \\\n",
       "0           chr3:g.195780168A>T  Single base substitution   \n",
       "1           chr3:g.179203764A>C  Single base substitution   \n",
       "2  chr17:g.7676041_7676042insGA           Small insertion   \n",
       "3           chr17:g.68883820C>G  Single base substitution   \n",
       "4           chr3:g.195782578G>A  Single base substitution   \n",
       "\n",
       "         ssm.mutation_type ssm.ncbi_build ssm.reference_allele  \\\n",
       "0  Simple Somatic Mutation         GRCh38                    A   \n",
       "1  Simple Somatic Mutation         GRCh38                    A   \n",
       "2  Simple Somatic Mutation         GRCh38                   '-   \n",
       "3  Simple Somatic Mutation         GRCh38                    C   \n",
       "4  Simple Somatic Mutation         GRCh38                    G   \n",
       "\n",
       "                             ssm.ssm_id ssm.start_position ssm.tumor_allele  \n",
       "0  92dded19-d0ce-5c34-9d99-169342f9bc37          195780168                T  \n",
       "1  7ea2ecba-9bbc-5d84-8a58-2ed20f13bdf3          179203764                C  \n",
       "2  1c4dad33-40cc-58d0-9d8c-4d808cb33401            7676041               GA  \n",
       "3  905a9d14-3a2e-5fb8-994e-48a2e5a1fa54           68883820                G  \n",
       "4  eb5acb6d-ebcc-50fc-9dc0-9a7ac5b85fc4          195782578                A  \n",
       "\n",
       "[5 rows x 74 columns]"
      ],
      "text/html": "<div>\n<style scoped>\n    .dataframe tbody tr th:only-of-type {\n        vertical-align: middle;\n    }\n\n    .dataframe tbody tr th {\n        vertical-align: top;\n    }\n\n    .dataframe thead th {\n        text-align: right;\n    }\n</style>\n<table border=\"1\" class=\"dataframe\">\n  <thead>\n    <tr style=\"text-align: right;\">\n      <th></th>\n      <th>case.case_id</th>\n      <th>id</th>\n      <th>ssm.chromosome</th>\n      <th>ssm.consequence.0.consequence_id</th>\n      <th>ssm.consequence.0.transcript.gene.symbol</th>\n      <th>ssm.consequence.1.consequence_id</th>\n      <th>ssm.consequence.1.transcript.gene.symbol</th>\n      <th>ssm.consequence.10.consequence_id</th>\n      <th>ssm.consequence.10.transcript.gene.symbol</th>\n      <th>ssm.consequence.11.consequence_id</th>\n      <th>...</th>\n      <th>ssm.cosmic_id.7</th>\n      <th>ssm.end_position</th>\n      <th>ssm.genomic_dna_change</th>\n      <th>ssm.mutation_subtype</th>\n      <th>ssm.mutation_type</th>\n      <th>ssm.ncbi_build</th>\n      <th>ssm.reference_allele</th>\n      <th>ssm.ssm_id</th>\n      <th>ssm.start_position</th>\n      <th>ssm.tumor_allele</th>\n    </tr>\n  </thead>\n  <tbody>\n    <tr>\n      <th>0</th>\n      <td>d2694b09-7844-4496-865c-5d3d8cd03330</td>\n      <td>b3244051-86aa-5e7b-8ba0-f274c9727a15</td>\n      <td>chr3</td>\n      <td>804da0aa-da6b-590e-8733-2ac736d42f9c</td>\n      <td>MUC4</td>\n      <td>779d457a-eba8-5e2a-8952-1b69b5d8ac92</td>\n      <td>MUC4</td>\n      <td>c5e4b93b-d19b-5125-ada4-e35d12ff0eb3</td>\n      <td>MUC4</td>\n      <td>5dbb4aab-8068-5bcb-9aa9-5b612667493a</td>\n      <td>...</td>\n      <td>NaN</td>\n      <td>195780168</td>\n      <td>chr3:g.195780168A&gt;T</td>\n      <td>Single base substitution</td>\n      <td>Simple Somatic Mutation</td>\n      <td>GRCh38</td>\n      <td>A</td>\n      <td>92dded19-d0ce-5c34-9d99-169342f9bc37</td>\n      <td>195780168</td>\n      <td>T</td>\n    </tr>\n    <tr>\n      <th>1</th>\n      <td>17baef7c-d97d-4b98-ab53-503ef856523d</td>\n      <td>aba11501-070d-5cef-aae3-076a502489fb</td>\n      <td>chr3</td>\n      <td>4a574530-38c9-5378-970c-68681c574704</td>\n      <td>PIK3CA</td>\n      <td>3e210ff4-1c08-5a79-be1c-de66ff811543</td>\n      <td>PIK3CA</td>\n      <td>NaN</td>\n      <td>NaN</td>\n      <td>NaN</td>\n      <td>...</td>\n      <td>NaN</td>\n      <td>179203764</td>\n      <td>chr3:g.179203764A&gt;C</td>\n      <td>Single base substitution</td>\n      <td>Simple Somatic Mutation</td>\n      <td>GRCh38</td>\n      <td>A</td>\n      <td>7ea2ecba-9bbc-5d84-8a58-2ed20f13bdf3</td>\n      <td>179203764</td>\n      <td>C</td>\n    </tr>\n    <tr>\n      <th>2</th>\n      <td>d3d545b3-457f-4389-821f-704cb24aff7f</td>\n      <td>64231c12-2355-5bcb-a382-ca48e06d1006</td>\n      <td>chr17</td>\n      <td>641bea5c-640b-5d23-9cac-f4d17ae8b2f3</td>\n      <td>TP53</td>\n      <td>b9b12ef5-9e7e-5ddf-8bff-ee3a8c2a873c</td>\n      <td>TP53</td>\n      <td>6fd39f3b-dd6d-5e43-82c8-92ff6fdb445d</td>\n      <td>TP53</td>\n      <td>65cd6ec8-5527-5940-ab71-0183769bf30b</td>\n      <td>...</td>\n      <td>NaN</td>\n      <td>7676042</td>\n      <td>chr17:g.7676041_7676042insGA</td>\n      <td>Small insertion</td>\n      <td>Simple Somatic Mutation</td>\n      <td>GRCh38</td>\n      <td>'-</td>\n      <td>1c4dad33-40cc-58d0-9d8c-4d808cb33401</td>\n      <td>7676041</td>\n      <td>GA</td>\n    </tr>\n    <tr>\n      <th>3</th>\n      <td>55262fcb-1b01-4480-b322-36570430c917</td>\n      <td>7c07038d-df18-51b1-b2d7-7b35ffab50b1</td>\n      <td>chr17</td>\n      <td>e9afc75e-121a-52c1-904f-151d7db55cbe</td>\n      <td>ABCA8</td>\n      <td>1e5a9dce-edb4-5d01-b916-a9e957562414</td>\n      <td>ABCA8</td>\n      <td>NaN</td>\n      <td>NaN</td>\n      <td>NaN</td>\n      <td>...</td>\n      <td>NaN</td>\n      <td>68883820</td>\n      <td>chr17:g.68883820C&gt;G</td>\n      <td>Single base substitution</td>\n      <td>Simple Somatic Mutation</td>\n      <td>GRCh38</td>\n      <td>C</td>\n      <td>905a9d14-3a2e-5fb8-994e-48a2e5a1fa54</td>\n      <td>68883820</td>\n      <td>G</td>\n    </tr>\n    <tr>\n      <th>4</th>\n      <td>91b09291-5944-4691-a0d8-7d1ccc649b9b</td>\n      <td>0b8d9e3c-248a-5813-949b-2b5b8787ef39</td>\n      <td>chr3</td>\n      <td>a1470875-9e4b-5ffb-b4b4-c30bd7148b8b</td>\n      <td>MUC4</td>\n      <td>48245c83-639e-567c-b150-a5d5135a3f36</td>\n      <td>MUC4</td>\n      <td>305073a2-9685-536a-b73a-7677c64729c9</td>\n      <td>MUC4</td>\n      <td>e9c831f8-a79f-5258-a9df-f3d627dc3265</td>\n      <td>...</td>\n      <td>NaN</td>\n      <td>195782578</td>\n      <td>chr3:g.195782578G&gt;A</td>\n      <td>Single base substitution</td>\n      <td>Simple Somatic Mutation</td>\n      <td>GRCh38</td>\n      <td>G</td>\n      <td>eb5acb6d-ebcc-50fc-9dc0-9a7ac5b85fc4</td>\n      <td>195782578</td>\n      <td>A</td>\n    </tr>\n  </tbody>\n</table>\n<p>5 rows × 74 columns</p>\n</div>"
     },
     "metadata": {},
     "execution_count": 47
    }
   ],
   "source": [
    "df_ssm.head()"
   ]
  },
  {
   "cell_type": "code",
   "execution_count": 48,
   "metadata": {},
   "outputs": [
    {
     "output_type": "execute_result",
     "data": {
      "text/plain": [
       "case.case_id                                object\n",
       "id                                          object\n",
       "ssm.chromosome                              object\n",
       "ssm.consequence.0.consequence_id            object\n",
       "ssm.consequence.0.transcript.gene.symbol    object\n",
       "                                             ...  \n",
       "ssm.ncbi_build                              object\n",
       "ssm.reference_allele                        object\n",
       "ssm.ssm_id                                  object\n",
       "ssm.start_position                           int64\n",
       "ssm.tumor_allele                            object\n",
       "Length: 74, dtype: object"
      ]
     },
     "metadata": {},
     "execution_count": 48
    }
   ],
   "source": [
    "df_ssm.dtypes"
   ]
  },
  {
   "cell_type": "code",
   "execution_count": 59,
   "metadata": {},
   "outputs": [
    {
     "output_type": "execute_result",
     "data": {
      "text/plain": [
       "case.case_id                                1.0\n",
       "id                                          1.0\n",
       "ssm.chromosome                              1.0\n",
       "ssm.consequence.0.consequence_id            1.0\n",
       "ssm.consequence.0.transcript.gene.symbol    1.0\n",
       "                                           ... \n",
       "ssm.ncbi_build                              1.0\n",
       "ssm.reference_allele                        1.0\n",
       "ssm.ssm_id                                  1.0\n",
       "ssm.start_position                          1.0\n",
       "ssm.tumor_allele                            1.0\n",
       "Length: 74, dtype: float64"
      ]
     },
     "metadata": {},
     "execution_count": 59
    }
   ],
   "source": [
    "df_ssm.notnull().mean()"
   ]
  },
  {
   "cell_type": "code",
   "execution_count": null,
   "metadata": {},
   "outputs": [],
   "source": []
  }
 ]
}
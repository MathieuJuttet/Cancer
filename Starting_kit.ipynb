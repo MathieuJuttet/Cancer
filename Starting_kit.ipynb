{
 "cells": [
  {
   "cell_type": "markdown",
   "metadata": {},
   "source": [
    "# Cancer prediction - starting_kit\n",
    "This notebook can be consulted as an HTML page following this link.\n",
    "\n",
    "\n",
    "This notebook aims at defining the theoretical understanding of cancer prediction and its correlation with genes. \n",
    "\n",
    "In addition to the medical knowldege, the data set which will be used will also be presented and illustrated. \n",
    "\n",
    "Last, an initial machine learning example will be provided in order to initiate your contribution to the challenge by proving you with an basic working solution.\n",
    "\n",
    "\n"
   ]
  },
  {
   "cell_type": "markdown",
   "metadata": {},
   "source": [
    "In 2018 there have been 18million new cases of cancer and 10 millions death. About 20% of men will have a cancer and 17% of the woman. 1 man over 8 will die of cancer and 1 woman over 11.\n",
    "Living with a cancer five year after its diagnosis is called prevalence. 50 million in the world are in this case.\n",
    "\n",
    "The rise of cancer in our societies has multiple origins : demographic growth, the ageing of the population, social and economical factors. The type of cancers shifts with the development of countries from cancers linked to poverty to cancers associated with industrialized way of life. \n",
    "\n",
    "Europe concentrates 23.4% of the cancers and 20.3% of the death due to cancer even though it only represents 9% of the worldwide population. United States and Canada together count for 21% of the cancer cases, 14% of the death with 13.3% of the population. \n",
    "\n",
    "\n",
    "A cancer is caused by a mutation of the DNA, thus, the cell’s reproduction becomes out of control. Many mutation can have the same effect, resulting in many different types of cancer. That is why cancer cannot can be cured as simply as other pathologies. \n",
    "\n",
    "One of the major aspects of treating a cancer is detecting is, knowing which mutation of the DNA it is, what are the specific consequences of those mutations on the cells which then gives the doctor an indication about how to treat it. \n"
   ]
  },
  {
   "cell_type": "code",
   "execution_count": 1,
   "metadata": {},
   "outputs": [],
   "source": [
    "import pandas as pd\n",
    "import numpy as np "
   ]
  },
  {
   "cell_type": "code",
   "execution_count": 2,
   "metadata": {},
   "outputs": [],
   "source": [
    "df_case = pd.read_csv('data/case.tsv', sep='\\t')\n",
    "df_cnv = pd.read_csv('data/cnv.tsv', sep='\\t')\n",
    "df_gene = pd.read_csv('data/gene.tsv', sep='\\t')\n",
    "df_ssm = pd.read_csv('data/ssm.tsv', sep='\\t')"
   ]
  },
  {
   "cell_type": "markdown",
   "metadata": {},
   "source": [
    "### Data Frame: case\n",
    "\n",
    "Information on each case such as age, alcohol, tobacco, BMI (Body Mass Index), most of the values are not availale (NaN)\n",
    "\n",
    "36 columns and 9115 rows.\n",
    "\n",
    "Possible key: 'case_id' or 'id'"
   ]
  },
  {
   "cell_type": "code",
   "execution_count": 13,
   "metadata": {
    "tags": []
   },
   "outputs": [
    {
     "output_type": "stream",
     "name": "stdout",
     "text": [
      "annotations.0.annotation_id \t 0.003181568842567197\nannotations.0.case_id \t 0.003181568842567197\nannotations.0.category \t 0.003181568842567197\nannotations.0.classification \t 0.003181568842567197\nannotations.0.created_datetime \t 0.003181568842567197\nannotations.0.entity_id \t 0.003181568842567197\nannotations.0.entity_submitter_id \t 0.003181568842567197\nannotations.0.entity_type \t 0.003181568842567197\nannotations.0.notes \t 0.003181568842567197\nannotations.0.state \t 0.003181568842567197\nannotations.0.status \t 0.003181568842567197\nannotations.0.submitter_id \t 0.003181568842567197\nannotations.0.updated_datetime \t 0.003181568842567197\nannotations.1.annotation_id \t 0.0006582556226001097\nannotations.1.case_id \t 0.0006582556226001097\nannotations.1.category \t 0.0006582556226001097\nannotations.1.classification \t 0.0006582556226001097\nannotations.1.created_datetime \t 0.0006582556226001097\nannotations.1.entity_id \t 0.0006582556226001097\nannotations.1.entity_submitter_id \t 0.0006582556226001097\nannotations.1.entity_type \t 0.0006582556226001097\nannotations.1.notes \t 0.0006582556226001097\nannotations.1.state \t 0.0006582556226001097\nannotations.1.status \t 0.0006582556226001097\nannotations.1.submitter_id \t 0.0006582556226001097\nannotations.1.updated_datetime \t 0.0006582556226001097\ncase_id \t 1.0\ndemographic.age_at_index \t 0.6760285244103127\ndemographic.age_is_obfuscated \t 0.00010970927043335162\ndemographic.cause_of_death \t 0.00010970927043335162\ndemographic.cause_of_death_source \t 0.0\ndemographic.country_of_residence_at_enrollment \t 0.0\ndemographic.created_datetime \t 0.8794295117937466\ndemographic.days_to_birth \t 0.6744925946242457\ndemographic.days_to_death \t 0.016675809105869445\ndemographic.demographic_id \t 0.9998902907295667\ndemographic.ethnicity \t 0.9998902907295667\ndemographic.gender \t 0.9998902907295667\ndemographic.occupation_duration_years \t 0.0\ndemographic.premature_at_birth \t 0.0\ndemographic.race \t 0.9998902907295667\ndemographic.state \t 0.9998902907295667\ndemographic.submitter_id \t 0.9998902907295667\ndemographic.updated_datetime \t 0.9998902907295667\ndemographic.vital_status \t 0.9998902907295667\ndemographic.weeks_gestation_at_birth \t 0.0\ndemographic.year_of_birth \t 0.12024136039495337\ndemographic.year_of_death \t 0.011409764125068568\ndiagnoses.0.age_at_diagnosis \t 0.4365331870543061\ndiagnoses.0.ajcc_clinical_m \t 0.0\ndiagnoses.0.ajcc_clinical_n \t 0.0\ndiagnoses.0.ajcc_clinical_stage \t 0.00010970927043335162\ndiagnoses.0.ajcc_clinical_t \t 0.0\ndiagnoses.0.ajcc_pathologic_m \t 0.12046077893582008\ndiagnoses.0.ajcc_pathologic_n \t 0.12046077893582008\ndiagnoses.0.ajcc_pathologic_stage \t 0.13395501919912234\ndiagnoses.0.ajcc_pathologic_t \t 0.12046077893582008\ndiagnoses.0.ajcc_staging_system_edition \t 0.1049917718047175\ndiagnoses.0.anaplasia_present \t 0.0\ndiagnoses.0.anaplasia_present_type \t 0.0\ndiagnoses.0.ann_arbor_b_symptoms \t 0.00010970927043335162\ndiagnoses.0.ann_arbor_clinical_stage \t 0.00010970927043335162\ndiagnoses.0.ann_arbor_extranodal_involvement \t 0.00010970927043335162\ndiagnoses.0.ann_arbor_pathologic_stage \t 0.0\ndiagnoses.0.best_overall_response \t 0.0\ndiagnoses.0.breslow_thickness \t 0.0\ndiagnoses.0.burkitt_lymphoma_clinical_variant \t 0.0\ndiagnoses.0.child_pugh_classification \t 0.0\ndiagnoses.0.circumferential_resection_margin \t 0.0\ndiagnoses.0.classification_of_tumor \t 0.4185408667032364\ndiagnoses.0.cog_liver_stage \t 0.0\ndiagnoses.0.cog_neuroblastoma_risk_group \t 0.0\ndiagnoses.0.cog_renal_stage \t 0.0\ndiagnoses.0.cog_rhabdomyosarcoma_risk_group \t 0.0\ndiagnoses.0.created_datetime \t 0.8794295117937466\ndiagnoses.0.days_to_best_overall_response \t 0.0\ndiagnoses.0.days_to_diagnosis \t 0.12057048820625343\ndiagnoses.0.days_to_last_follow_up \t 0.10905101481075151\ndiagnoses.0.days_to_last_known_disease_status \t 0.0\ndiagnoses.0.days_to_recurrence \t 0.0\ndiagnoses.0.diagnosis_id \t 0.9998902907295667\ndiagnoses.0.enneking_msts_grade \t 0.0\ndiagnoses.0.enneking_msts_metastasis \t 0.0\ndiagnoses.0.enneking_msts_stage \t 0.0\ndiagnoses.0.enneking_msts_tumor_site \t 0.0\ndiagnoses.0.esophageal_columnar_dysplasia_degree \t 0.0\ndiagnoses.0.esophageal_columnar_metaplasia_present \t 0.0\ndiagnoses.0.figo_stage \t 0.014701042238069117\ndiagnoses.0.figo_staging_edition_year \t 0.0\ndiagnoses.0.first_symptom_prior_to_diagnosis \t 0.0\ndiagnoses.0.gastric_esophageal_junction_involvement \t 0.0\ndiagnoses.0.gleason_grade_group \t 0.0\ndiagnoses.0.gleason_grade_tertiary \t 0.0\ndiagnoses.0.gleason_patterns_percent \t 0.0\ndiagnoses.0.goblet_cells_columnar_mucosa_present \t 0.0\ndiagnoses.0.greatest_tumor_dimension \t 0.0\ndiagnoses.0.gross_tumor_weight \t 0.0\ndiagnoses.0.icd_10_code \t 0.12057048820625343\ndiagnoses.0.igcccg_stage \t 0.0\ndiagnoses.0.inpc_grade \t 0.0\ndiagnoses.0.inpc_histologic_group \t 0.0\ndiagnoses.0.inrg_stage \t 0.0\ndiagnoses.0.inss_stage \t 0.0\ndiagnoses.0.international_prognostic_index \t 0.0\ndiagnoses.0.irs_group \t 0.0\ndiagnoses.0.irs_stage \t 0.0\ndiagnoses.0.ishak_fibrosis_score \t 0.0\ndiagnoses.0.iss_stage \t 0.0\ndiagnoses.0.largest_extrapelvic_peritoneal_focus \t 0.0\ndiagnoses.0.last_known_disease_status \t 0.975973669775096\ndiagnoses.0.laterality \t 0.0\ndiagnoses.0.lymph_node_involved_site \t 0.0\ndiagnoses.0.lymph_nodes_positive \t 0.0\ndiagnoses.0.lymph_nodes_tested \t 0.0\ndiagnoses.0.lymphatic_invasion_present \t 0.0\ndiagnoses.0.margin_distance \t 0.0\ndiagnoses.0.margins_involved_site \t 0.0\ndiagnoses.0.masaoka_stage \t 0.0\ndiagnoses.0.medulloblastoma_molecular_classification \t 0.0\ndiagnoses.0.metastasis_at_diagnosis \t 0.00010970927043335162\ndiagnoses.0.metastasis_at_diagnosis_site \t 0.0\ndiagnoses.0.method_of_diagnosis \t 0.0\ndiagnoses.0.micropapillary_features \t 0.0\ndiagnoses.0.mitosis_karyorrhexis_index \t 0.0\ndiagnoses.0.mitotic_count \t 0.0\ndiagnoses.0.morphology \t 0.9998902907295667\ndiagnoses.0.non_nodal_regional_disease \t 0.0\ndiagnoses.0.non_nodal_tumor_deposits \t 0.0\ndiagnoses.0.ovarian_specimen_status \t 0.0\ndiagnoses.0.ovarian_surface_involvement \t 0.0\ndiagnoses.0.papillary_renal_cell_type \t 0.0\ndiagnoses.0.percent_tumor_invasion \t 0.0\ndiagnoses.0.perineural_invasion_present \t 0.0\ndiagnoses.0.peripancreatic_lymph_nodes_positive \t 0.0\ndiagnoses.0.peripancreatic_lymph_nodes_tested \t 0.0\ndiagnoses.0.peritoneal_fluid_cytological_status \t 0.0\ndiagnoses.0.pregnant_at_diagnosis \t 0.0\ndiagnoses.0.primary_diagnosis \t 0.9998902907295667\ndiagnoses.0.primary_gleason_grade \t 0.0\ndiagnoses.0.prior_malignancy \t 0.13395501919912234\ndiagnoses.0.prior_treatment \t 0.12057048820625343\ndiagnoses.0.progression_or_recurrence \t 0.975973669775096\ndiagnoses.0.residual_disease \t 0.0\ndiagnoses.0.secondary_gleason_grade \t 0.0\ndiagnoses.0.site_of_resection_or_biopsy \t 0.9998902907295667\ndiagnoses.0.state \t 0.9998902907295667\ndiagnoses.0.submitter_id \t 0.9998902907295667\ndiagnoses.0.supratentorial_localization \t 0.0\ndiagnoses.0.synchronous_malignancy \t 0.12046077893582008\ndiagnoses.0.tissue_or_organ_of_origin \t 0.9998902907295667\ndiagnoses.0.transglottic_extension \t 0.0\ndiagnoses.0.tumor_confined_to_organ_of_origin \t 0.0\ndiagnoses.0.tumor_depth \t 0.0\ndiagnoses.0.tumor_focality \t 0.0\ndiagnoses.0.tumor_grade \t 0.9760833790455293\ndiagnoses.0.tumor_largest_dimension_diameter \t 0.0\ndiagnoses.0.tumor_regression_grade \t 0.0\ndiagnoses.0.tumor_stage \t 0.975973669775096\ndiagnoses.0.updated_datetime \t 0.9998902907295667\ndiagnoses.0.vascular_invasion_present \t 0.0\ndiagnoses.0.vascular_invasion_type \t 0.0\ndiagnoses.0.weiss_assessment_score \t 0.0\ndiagnoses.0.wilms_tumor_histologic_subtype \t 0.0\ndiagnoses.0.year_of_diagnosis \t 0.12024136039495337\nexposures.0.age_at_onset \t 0.0\nexposures.0.alcohol_days_per_week \t 0.0\nexposures.0.alcohol_drinks_per_day \t 0.0\nexposures.0.alcohol_history \t 0.12046077893582008\nexposures.0.alcohol_intensity \t 0.0\nexposures.0.asbestos_exposure \t 0.0\nexposures.0.bmi \t 0.00010970927043335162\nexposures.0.cigarettes_per_day \t 0.0\nexposures.0.coal_dust_exposure \t 0.0\nexposures.0.created_datetime \t 0.00010970927043335162\nexposures.0.environmental_tobacco_smoke_exposure \t 0.0\nexposures.0.exposure_duration \t 0.0\nexposures.0.exposure_id \t 0.12057048820625343\nexposures.0.exposure_type \t 0.0\nexposures.0.height \t 0.00010970927043335162\nexposures.0.marijuana_use_per_week \t 0.0\nexposures.0.pack_years_smoked \t 0.0\nexposures.0.radon_exposure \t 0.0\nexposures.0.respirable_crystalline_silica_exposure \t 0.0\nexposures.0.secondhand_smoke_as_child \t 0.0\nexposures.0.smoking_frequency \t 0.0\nexposures.0.state \t 0.12057048820625343\nexposures.0.submitter_id \t 0.12057048820625343\nexposures.0.time_between_waking_and_first_smoke \t 0.0\nexposures.0.tobacco_smoking_onset_year \t 0.0\nexposures.0.tobacco_smoking_quit_year \t 0.0\nexposures.0.tobacco_smoking_status \t 0.00010970927043335162\nexposures.0.tobacco_use_per_day \t 0.0\nexposures.0.type_of_smoke_exposure \t 0.0\nexposures.0.type_of_tobacco_used \t 0.0\nexposures.0.updated_datetime \t 0.12057048820625343\nexposures.0.weight \t 0.00010970927043335162\nexposures.0.years_smoked \t 0.0\nfamily_histories.0.created_datetime \t 0.00010970927043335162\nfamily_histories.0.family_history_id \t 0.00010970927043335162\nfamily_histories.0.relationship_age_at_diagnosis \t 0.0\nfamily_histories.0.relationship_gender \t 0.0\nfamily_histories.0.relationship_primary_diagnosis \t 0.00010970927043335162\nfamily_histories.0.relationship_type \t 0.0\nfamily_histories.0.relative_with_cancer_history \t 0.00010970927043335162\nfamily_histories.0.relatives_with_cancer_history_count \t 0.0\nfamily_histories.0.state \t 0.00010970927043335162\nfamily_histories.0.submitter_id \t 0.00010970927043335162\nfamily_histories.0.updated_datetime \t 0.00010970927043335162\nid \t 1.0\nsamples.0.biospecimen_anatomic_site \t 0.023806911684037303\nsamples.0.biospecimen_laterality \t 0.0\nsamples.0.catalog_reference \t 0.0\nsamples.0.composition \t 0.007021393307734504\nsamples.0.created_datetime \t 0.9190345584201866\nsamples.0.current_weight \t 0.0\nsamples.0.days_to_collection \t 0.08107515085024684\nsamples.0.days_to_sample_procurement \t 0.03982446516730664\nsamples.0.diagnosis_pathologically_confirmed \t 0.0\nsamples.0.distance_normal_to_tumor \t 0.0\nsamples.0.distributor_reference \t 0.0\nsamples.0.freezing_method \t 0.0\nsamples.0.growth_rate \t 0.0\nsamples.0.initial_weight \t 0.04256719692814043\nsamples.0.intermediate_dimension \t 0.0\nsamples.0.is_ffpe \t 0.14448710916072408\nsamples.0.longest_dimension \t 0.0\nsamples.0.method_of_sample_procurement \t 0.0\nsamples.0.oct_embedded \t 0.12068019747668678\nsamples.0.passage_count \t 0.0\nsamples.0.pathology_report_uuid \t 0.03817882611080636\nsamples.0.preservation_method \t 0.03982446516730664\nsamples.0.sample_id \t 1.0\nsamples.0.sample_type \t 1.0\nsamples.0.sample_type_id \t 0.1353812397147559\nsamples.0.shortest_dimension \t 0.0\nsamples.0.state \t 1.0\nsamples.0.submitter_id \t 1.0\nsamples.0.time_between_clamping_and_freezing \t 0.0\nsamples.0.time_between_excision_and_freezing \t 0.0\nsamples.0.tissue_collection_type \t 0.0\nsamples.0.tissue_type \t 1.0\nsamples.0.tumor_code \t 0.0\nsamples.0.tumor_code_id \t 0.0\nsamples.0.tumor_descriptor \t 0.28337904552934723\nsamples.0.updated_datetime \t 1.0\nsamples.1.biospecimen_anatomic_site \t 0.022270981897970377\nsamples.1.biospecimen_laterality \t 0.0\nsamples.1.catalog_reference \t 0.0\nsamples.1.composition \t 0.007679648930334613\nsamples.1.created_datetime \t 0.07383433900164564\nsamples.1.current_weight \t 0.0\nsamples.1.days_to_collection \t 0.08381788261108064\nsamples.1.days_to_sample_procurement \t 0.03664289632473944\nsamples.1.diagnosis_pathologically_confirmed \t 0.0\nsamples.1.distance_normal_to_tumor \t 0.0\nsamples.1.distributor_reference \t 0.0\nsamples.1.freezing_method \t 0.0\nsamples.1.growth_rate \t 0.0\nsamples.1.initial_weight \t 0.05013713658804169\nsamples.1.intermediate_dimension \t 0.0\nsamples.1.is_ffpe \t 0.1428414701042238\nsamples.1.longest_dimension \t 0.0\nsamples.1.method_of_sample_procurement \t 0.0\nsamples.1.oct_embedded \t 0.12057048820625343\nsamples.1.passage_count \t 0.0\nsamples.1.pathology_report_uuid \t 0.04509051014810751\nsamples.1.preservation_method \t 0.03664289632473944\nsamples.1.sample_id \t 0.15765222161272627\nsamples.1.sample_type \t 0.15765222161272627\nsamples.1.sample_type_id \t 0.1353812397147559\nsamples.1.shortest_dimension \t 0.0\nsamples.1.state \t 0.15765222161272627\nsamples.1.submitter_id \t 0.15765222161272627\nsamples.1.time_between_clamping_and_freezing \t 0.0\nsamples.1.time_between_excision_and_freezing \t 0.0\nsamples.1.tissue_collection_type \t 0.0\nsamples.1.tissue_type \t 0.15765222161272627\nsamples.1.tumor_code \t 0.0\nsamples.1.tumor_code_id \t 0.0\nsamples.1.tumor_descriptor \t 0.0\nsamples.1.updated_datetime \t 0.15765222161272627\nsamples.2.biospecimen_anatomic_site \t 0.01634668129456939\nsamples.2.biospecimen_laterality \t 0.0\nsamples.2.catalog_reference \t 0.0\nsamples.2.composition \t 0.004388370817334065\nsamples.2.created_datetime \t 0.05573230938014262\nsamples.2.current_weight \t 0.0\nsamples.2.days_to_collection \t 0.07931980252331322\nsamples.2.days_to_sample_procurement \t 0.036752605595172794\nsamples.2.diagnosis_pathologically_confirmed \t 0.0\nsamples.2.distance_normal_to_tumor \t 0.0\nsamples.2.distributor_reference \t 0.0\nsamples.2.freezing_method \t 0.0\nsamples.2.growth_rate \t 0.0\nsamples.2.initial_weight \t 0.04201865057597367\nsamples.2.intermediate_dimension \t 0.0\nsamples.2.is_ffpe \t 0.13274821722435545\nsamples.2.longest_dimension \t 0.0\nsamples.2.method_of_sample_procurement \t 0.0\nsamples.2.oct_embedded \t 0.11640153592978607\nsamples.2.passage_count \t 0.0\nsamples.2.pathology_report_uuid \t 0.03708173340647285\nsamples.2.preservation_method \t 0.036752605595172794\nsamples.2.sample_id \t 0.13527153044432255\nsamples.2.sample_type \t 0.13527153044432255\nsamples.2.sample_type_id \t 0.11892484914975315\nsamples.2.shortest_dimension \t 0.0\nsamples.2.state \t 0.13527153044432255\nsamples.2.submitter_id \t 0.13527153044432255\nsamples.2.time_between_clamping_and_freezing \t 0.0\nsamples.2.time_between_excision_and_freezing \t 0.0\nsamples.2.tissue_collection_type \t 0.0\nsamples.2.tissue_type \t 0.13527153044432255\nsamples.2.tumor_code \t 0.0\nsamples.2.tumor_code_id \t 0.0\nsamples.2.tumor_descriptor \t 0.0\nsamples.2.updated_datetime \t 0.13527153044432255\nsamples.3.biospecimen_anatomic_site \t 0.006253428414701042\nsamples.3.biospecimen_laterality \t 0.0\nsamples.3.catalog_reference \t 0.0\nsamples.3.composition \t 0.0012068019747668679\nsamples.3.created_datetime \t 0.009654415798134943\nsamples.3.current_weight \t 0.0\nsamples.3.days_to_collection \t 0.0072408118486012064\nsamples.3.days_to_sample_procurement \t 0.0034009873834339004\nsamples.3.diagnosis_pathologically_confirmed \t 0.0\nsamples.3.distance_normal_to_tumor \t 0.0\nsamples.3.distributor_reference \t 0.0\nsamples.3.freezing_method \t 0.0\nsamples.3.growth_rate \t 0.0\nsamples.3.initial_weight \t 0.004388370817334065\nsamples.3.intermediate_dimension \t 0.0\nsamples.3.is_ffpe \t 0.01689522764673615\nsamples.3.longest_dimension \t 0.0\nsamples.3.method_of_sample_procurement \t 0.0\nsamples.3.oct_embedded \t 0.010641799232035107\nsamples.3.passage_count \t 0.0\nsamples.3.pathology_report_uuid \t 0.002523313219967087\nsamples.3.preservation_method \t 0.0034009873834339004\nsamples.3.sample_id \t 0.01689522764673615\nsamples.3.sample_type \t 0.01689522764673615\nsamples.3.sample_type_id \t 0.010641799232035107\nsamples.3.shortest_dimension \t 0.0\nsamples.3.state \t 0.01689522764673615\nsamples.3.submitter_id \t 0.01689522764673615\nsamples.3.time_between_clamping_and_freezing \t 0.0\nsamples.3.time_between_excision_and_freezing \t 0.0\nsamples.3.tissue_collection_type \t 0.0\nsamples.3.tissue_type \t 0.01689522764673615\nsamples.3.tumor_code \t 0.0\nsamples.3.tumor_code_id \t 0.0\nsamples.3.tumor_descriptor \t 0.0\nsamples.3.updated_datetime \t 0.01689522764673615\nsamples.4.biospecimen_anatomic_site \t 0.004168952276467361\nsamples.4.biospecimen_laterality \t 0.0\nsamples.4.catalog_reference \t 0.0\nsamples.4.composition \t 0.0007679648930334613\nsamples.4.created_datetime \t 0.004168952276467361\nsamples.4.current_weight \t 0.0\nsamples.4.days_to_collection \t 0.0004388370817334065\nsamples.4.days_to_sample_procurement \t 0.0\nsamples.4.diagnosis_pathologically_confirmed \t 0.0\nsamples.4.distance_normal_to_tumor \t 0.0\nsamples.4.distributor_reference \t 0.0\nsamples.4.freezing_method \t 0.0\nsamples.4.growth_rate \t 0.0\nsamples.4.initial_weight \t 0.00021941854086670324\nsamples.4.intermediate_dimension \t 0.0\nsamples.4.is_ffpe \t 0.004607789358200768\nsamples.4.longest_dimension \t 0.0\nsamples.4.method_of_sample_procurement \t 0.0\nsamples.4.oct_embedded \t 0.0004388370817334065\nsamples.4.passage_count \t 0.0\nsamples.4.pathology_report_uuid \t 0.00021941854086670324\nsamples.4.preservation_method \t 0.0\nsamples.4.sample_id \t 0.004607789358200768\nsamples.4.sample_type \t 0.004607789358200768\nsamples.4.sample_type_id \t 0.0004388370817334065\nsamples.4.shortest_dimension \t 0.0\nsamples.4.state \t 0.004607789358200768\nsamples.4.submitter_id \t 0.004607789358200768\nsamples.4.time_between_clamping_and_freezing \t 0.0\nsamples.4.time_between_excision_and_freezing \t 0.0\nsamples.4.tissue_collection_type \t 0.0\nsamples.4.tissue_type \t 0.004607789358200768\nsamples.4.tumor_code \t 0.0\nsamples.4.tumor_code_id \t 0.0\nsamples.4.tumor_descriptor \t 0.0\nsamples.4.updated_datetime \t 0.004607789358200768\nsamples.5.biospecimen_anatomic_site \t 0.0015359297860669226\nsamples.5.biospecimen_laterality \t 0.0\nsamples.5.catalog_reference \t 0.0\nsamples.5.composition \t 0.0006582556226001097\nsamples.5.created_datetime \t 0.0015359297860669226\nsamples.5.current_weight \t 0.0\nsamples.5.days_to_collection \t 0.0\nsamples.5.days_to_sample_procurement \t 0.0\nsamples.5.diagnosis_pathologically_confirmed \t 0.0\nsamples.5.distance_normal_to_tumor \t 0.0\nsamples.5.distributor_reference \t 0.0\nsamples.5.freezing_method \t 0.0\nsamples.5.growth_rate \t 0.0\nsamples.5.initial_weight \t 0.0\nsamples.5.intermediate_dimension \t 0.0\nsamples.5.is_ffpe \t 0.0015359297860669226\nsamples.5.longest_dimension \t 0.0\nsamples.5.method_of_sample_procurement \t 0.0\nsamples.5.oct_embedded \t 0.0\nsamples.5.passage_count \t 0.0\nsamples.5.pathology_report_uuid \t 0.0\nsamples.5.preservation_method \t 0.0\nsamples.5.sample_id \t 0.0015359297860669226\nsamples.5.sample_type \t 0.0015359297860669226\nsamples.5.sample_type_id \t 0.0\nsamples.5.shortest_dimension \t 0.0\nsamples.5.state \t 0.0015359297860669226\nsamples.5.submitter_id \t 0.0015359297860669226\nsamples.5.time_between_clamping_and_freezing \t 0.0\nsamples.5.time_between_excision_and_freezing \t 0.0\nsamples.5.tissue_collection_type \t 0.0\nsamples.5.tissue_type \t 0.0015359297860669226\nsamples.5.tumor_code \t 0.0\nsamples.5.tumor_code_id \t 0.0\nsamples.5.tumor_descriptor \t 0.0\nsamples.5.updated_datetime \t 0.0015359297860669226\nsamples.6.biospecimen_anatomic_site \t 0.0009873834339001646\nsamples.6.biospecimen_laterality \t 0.0\nsamples.6.catalog_reference \t 0.0\nsamples.6.composition \t 0.0\nsamples.6.created_datetime \t 0.0009873834339001646\nsamples.6.current_weight \t 0.0\nsamples.6.days_to_collection \t 0.0\nsamples.6.days_to_sample_procurement \t 0.0\nsamples.6.diagnosis_pathologically_confirmed \t 0.0\nsamples.6.distance_normal_to_tumor \t 0.0\nsamples.6.distributor_reference \t 0.0\nsamples.6.freezing_method \t 0.0\nsamples.6.growth_rate \t 0.0\nsamples.6.initial_weight \t 0.0\nsamples.6.intermediate_dimension \t 0.0\nsamples.6.is_ffpe \t 0.0009873834339001646\nsamples.6.longest_dimension \t 0.0\nsamples.6.method_of_sample_procurement \t 0.0\nsamples.6.oct_embedded \t 0.0\nsamples.6.passage_count \t 0.0\nsamples.6.pathology_report_uuid \t 0.0\nsamples.6.preservation_method \t 0.0\nsamples.6.sample_id \t 0.0009873834339001646\nsamples.6.sample_type \t 0.0009873834339001646\nsamples.6.sample_type_id \t 0.0\nsamples.6.shortest_dimension \t 0.0\nsamples.6.state \t 0.0009873834339001646\nsamples.6.submitter_id \t 0.0009873834339001646\nsamples.6.time_between_clamping_and_freezing \t 0.0\nsamples.6.time_between_excision_and_freezing \t 0.0\nsamples.6.tissue_collection_type \t 0.0\nsamples.6.tissue_type \t 0.0009873834339001646\nsamples.6.tumor_code \t 0.0\nsamples.6.tumor_code_id \t 0.0\nsamples.6.tumor_descriptor \t 0.0\nsamples.6.updated_datetime \t 0.0009873834339001646\nsamples.7.biospecimen_anatomic_site \t 0.00032912781130005483\nsamples.7.biospecimen_laterality \t 0.0\nsamples.7.catalog_reference \t 0.0\nsamples.7.composition \t 0.00010970927043335162\nsamples.7.created_datetime \t 0.00032912781130005483\nsamples.7.current_weight \t 0.0\nsamples.7.days_to_collection \t 0.0\nsamples.7.days_to_sample_procurement \t 0.0\nsamples.7.diagnosis_pathologically_confirmed \t 0.0\nsamples.7.distance_normal_to_tumor \t 0.0\nsamples.7.distributor_reference \t 0.0\nsamples.7.freezing_method \t 0.0\nsamples.7.growth_rate \t 0.0\nsamples.7.initial_weight \t 0.0\nsamples.7.intermediate_dimension \t 0.0\nsamples.7.is_ffpe \t 0.00032912781130005483\nsamples.7.longest_dimension \t 0.0\nsamples.7.method_of_sample_procurement \t 0.0\nsamples.7.oct_embedded \t 0.0\nsamples.7.passage_count \t 0.0\nsamples.7.pathology_report_uuid \t 0.0\nsamples.7.preservation_method \t 0.0\nsamples.7.sample_id \t 0.00032912781130005483\nsamples.7.sample_type \t 0.00032912781130005483\nsamples.7.sample_type_id \t 0.0\nsamples.7.shortest_dimension \t 0.0\nsamples.7.state \t 0.00032912781130005483\nsamples.7.submitter_id \t 0.00032912781130005483\nsamples.7.time_between_clamping_and_freezing \t 0.0\nsamples.7.time_between_excision_and_freezing \t 0.0\nsamples.7.tissue_collection_type \t 0.0\nsamples.7.tissue_type \t 0.00032912781130005483\nsamples.7.tumor_code \t 0.0\nsamples.7.tumor_code_id \t 0.0\nsamples.7.tumor_descriptor \t 0.0\nsamples.7.updated_datetime \t 0.00032912781130005483\nsamples.8.biospecimen_anatomic_site \t 0.00010970927043335162\nsamples.8.biospecimen_laterality \t 0.0\nsamples.8.catalog_reference \t 0.0\nsamples.8.composition \t 0.00010970927043335162\nsamples.8.created_datetime \t 0.00010970927043335162\nsamples.8.current_weight \t 0.0\nsamples.8.days_to_collection \t 0.0\nsamples.8.days_to_sample_procurement \t 0.0\nsamples.8.diagnosis_pathologically_confirmed \t 0.0\nsamples.8.distance_normal_to_tumor \t 0.0\nsamples.8.distributor_reference \t 0.0\nsamples.8.freezing_method \t 0.0\nsamples.8.growth_rate \t 0.0\nsamples.8.initial_weight \t 0.0\nsamples.8.intermediate_dimension \t 0.0\nsamples.8.is_ffpe \t 0.00010970927043335162\nsamples.8.longest_dimension \t 0.0\nsamples.8.method_of_sample_procurement \t 0.0\nsamples.8.oct_embedded \t 0.0\nsamples.8.passage_count \t 0.0\nsamples.8.pathology_report_uuid \t 0.0\nsamples.8.preservation_method \t 0.0\nsamples.8.sample_id \t 0.00010970927043335162\nsamples.8.sample_type \t 0.00010970927043335162\nsamples.8.sample_type_id \t 0.0\nsamples.8.shortest_dimension \t 0.0\nsamples.8.state \t 0.00010970927043335162\nsamples.8.submitter_id \t 0.00010970927043335162\nsamples.8.time_between_clamping_and_freezing \t 0.0\nsamples.8.time_between_excision_and_freezing \t 0.0\nsamples.8.tissue_collection_type \t 0.0\nsamples.8.tissue_type \t 0.00010970927043335162\nsamples.8.tumor_code \t 0.0\nsamples.8.tumor_code_id \t 0.0\nsamples.8.tumor_descriptor \t 0.0\nsamples.8.updated_datetime \t 0.00010970927043335162\nsubmitter_id \t 1.0\ntissue_source_site.bcr_id \t 0.12057048820625343\ntissue_source_site.code \t 0.12057048820625343\ntissue_source_site.name \t 0.12057048820625343\ntissue_source_site.project \t 0.12057048820625343\ntissue_source_site.tissue_source_site_id \t 0.12057048820625343\n"
     ]
    }
   ],
   "source": [
    "# The value on the right is the percentage of non null value par column.\n",
    "# As a consequence, this dataframe presents no real interest.\n",
    "serie = df_case.notnull().mean()\n",
    "\n",
    "for name,val in zip(serie.index,serie): \n",
    "    print(name,'\\t',val)"
   ]
  },
  {
   "cell_type": "code",
   "execution_count": 16,
   "metadata": {
    "scrolled": true
   },
   "outputs": [
    {
     "output_type": "stream",
     "name": "stdout",
     "text": [
      "case_id \t 1.0\ndemographic.age_at_index \t 0.6760285244103127\ndemographic.days_to_birth \t 0.6744925946242457\ndemographic.ethnicity \t 0.9998902907295667\ndemographic.gender \t 0.9998902907295667\ndemographic.race \t 0.9998902907295667\ndemographic.vital_status \t 0.9998902907295667\ndemographic.year_of_birth \t 0.12024136039495337\ndiagnoses.0.age_at_diagnosis \t 0.4365331870543061\ndiagnoses.0.ajcc_pathologic_m \t 0.12046077893582008\ndiagnoses.0.ajcc_pathologic_n \t 0.12046077893582008\ndiagnoses.0.ajcc_pathologic_stage \t 0.13395501919912234\ndiagnoses.0.ajcc_pathologic_t \t 0.12046077893582008\ndiagnoses.0.ajcc_staging_system_edition \t 0.1049917718047175\ndiagnoses.0.classification_of_tumor \t 0.4185408667032364\ndiagnoses.0.days_to_diagnosis \t 0.12057048820625343\ndiagnoses.0.days_to_last_follow_up \t 0.10905101481075151\ndiagnoses.0.last_known_disease_status \t 0.975973669775096\ndiagnoses.0.morphology \t 0.9998902907295667\ndiagnoses.0.primary_diagnosis \t 0.9998902907295667\ndiagnoses.0.prior_malignancy \t 0.13395501919912234\ndiagnoses.0.prior_treatment \t 0.12057048820625343\ndiagnoses.0.progression_or_recurrence \t 0.975973669775096\ndiagnoses.0.site_of_resection_or_biopsy \t 0.9998902907295667\ndiagnoses.0.synchronous_malignancy \t 0.12046077893582008\ndiagnoses.0.tissue_or_organ_of_origin \t 0.9998902907295667\ndiagnoses.0.tumor_grade \t 0.9760833790455293\ndiagnoses.0.tumor_stage \t 0.975973669775096\ndiagnoses.0.year_of_diagnosis \t 0.12024136039495337\nexposures.0.alcohol_history \t 0.12046077893582008\nid \t 1.0\nsamples.0.is_ffpe \t 0.14448710916072408\nsamples.0.oct_embedded \t 0.12068019747668678\nsamples.0.sample_type \t 1.0\nsamples.0.tissue_type \t 1.0\nsamples.0.tumor_descriptor \t 0.28337904552934723\nsamples.1.is_ffpe \t 0.1428414701042238\nsamples.1.oct_embedded \t 0.12057048820625343\nsamples.1.sample_type \t 0.15765222161272627\nsamples.1.tissue_type \t 0.15765222161272627\nsamples.2.is_ffpe \t 0.13274821722435545\nsamples.2.oct_embedded \t 0.11640153592978607\nsamples.2.sample_type \t 0.13527153044432255\nsamples.2.tissue_type \t 0.13527153044432255\n"
     ]
    }
   ],
   "source": [
    "new_df_case = df_case.drop(df_case.columns[df_case.notnull().mean()<0.1], axis=1)\n",
    "\n",
    "columns_to_drop = ['tissue_source_site.code', \n",
    "                   'tissue_source_site.project',\n",
    "                   'tissue_source_site.name', \n",
    "                   #'diagnoses.0.treatments.1.state', \n",
    "                   'diagnoses.0.state', \n",
    "                   #'diagnoses.0.treatments.0.state', \n",
    "                   'exposures.0.state', \n",
    "                   'samples.0.state', \n",
    "                   'samples.1.state', \n",
    "                   'samples.2.state', \n",
    "                   'demographic.demographic_id', \n",
    "                   'demographic.state', \n",
    "                   'demographic.submitter_id', \n",
    "                   'demographic.updated_datetime', \n",
    "                   'diagnoses.0.diagnosis_id', \n",
    "                   'diagnoses.0.icd_10_code', \n",
    "                   'diagnoses.0.submitter_id', \n",
    "                   #'diagnoses.0.treatments.1.updated_datetime', \n",
    "                   #'diagnoses.0.treatments.1.submitter_id', \n",
    "                   #'diagnoses.0.treatments.0.updated_datetime', \n",
    "                   'diagnoses.0.updated_datetime', \n",
    "                   'exposures.0.exposure_id', \n",
    "                   'exposures.0.submitter_id', \n",
    "                   'exposures.0.updated_datetime', \n",
    "                   'samples.0.created_datetime', \n",
    "                   'samples.0.sample_id', \n",
    "                   'samples.0.sample_type_id', \n",
    "                   'samples.0.submitter_id', \n",
    "                   'samples.0.updated_datetime', \n",
    "                   'samples.1.sample_id', \n",
    "                   'samples.1.sample_type_id', \n",
    "                   'samples.1.submitter_id', \n",
    "                   'samples.2.sample_id', \n",
    "                   'samples.2.sample_type_id', \n",
    "                   'samples.2.submitter_id', \n",
    "                   'tissue_source_site.bcr_id', \n",
    "                   'submitter_id', \n",
    "                   #'diagnoses.0.treatments.0.submitter_id', \n",
    "                   #'diagnoses.0.treatments.1.treatment_id', \n",
    "                   'samples.2.updated_datetime', \n",
    "                   'samples.1.updated_datetime', \n",
    "                   #'diagnoses.0.treatments.0.treatment_id', \n",
    "                   'demographic.created_datetime', \n",
    "                   'diagnoses.0.created_datetime', \n",
    "                   'tissue_source_site.tissue_source_site_id']\n",
    "\n",
    "new_df_case = new_df_case.drop(columns_to_drop, axis=1)\n",
    "\n",
    "#diagnoses.0.created_datetime\n",
    "#diagnoses.0.treatments.0.submitter_id\n",
    "\n",
    "serie = new_df_case.notnull().mean()\n",
    "\n",
    "for name,val in zip(serie.index,serie): \n",
    "    print(name,'\\t',val)"
   ]
  },
  {
   "cell_type": "code",
   "execution_count": 17,
   "metadata": {},
   "outputs": [],
   "source": [
    "#df = df_case[df_case[\"samples.1.sample_type\"].notnull()]\n",
    "#df = df.filter(regex=(\"samples.*.sample_type\"))\n",
    "#df = df_case.filter(regex=(\"samples.*.pathology_report_uuid\"))\n",
    "#‡df = df[df[\"samples.0.pathology_report_uuid\"].notnull()]\n",
    "#df.head()"
   ]
  },
  {
   "cell_type": "markdown",
   "metadata": {},
   "source": [
    "### Data Frame: cnv\n",
    "Information on the nature of the gene mutation. Most of the value are strings.\n",
    "\n",
    "12 columns and 1000 rows.\n",
    "\n",
    "Possible key: 'case.case_id' \n",
    "\n",
    "Possible link with other dataframe: 'cnv.consequence.0.gene.symbol' "
   ]
  },
  {
   "cell_type": "code",
   "execution_count": 18,
   "metadata": {},
   "outputs": [
    {
     "output_type": "execute_result",
     "data": {
      "text/plain": [
       "case.case_id                        1.0\n",
       "cnv.chromosome                      1.0\n",
       "cnv.cnv_change                      1.0\n",
       "cnv.cnv_id                          1.0\n",
       "cnv.consequence.0.consequence_id    1.0\n",
       "cnv.consequence.0.gene.symbol       1.0\n",
       "cnv.end_position                    1.0\n",
       "cnv.gene_level_cn                   1.0\n",
       "cnv.ncbi_build                      1.0\n",
       "cnv.start_position                  1.0\n",
       "cnv.variant_status                  1.0\n",
       "id                                  1.0\n",
       "dtype: float64"
      ]
     },
     "metadata": {},
     "execution_count": 18
    }
   ],
   "source": [
    "df_cnv.notnull().mean()"
   ]
  },
  {
   "cell_type": "markdown",
   "metadata": {},
   "source": [
    "### Data Frame: gene\n",
    "\n",
    "Information on top 50 genes to studied. Most of the value are strings.\n",
    "\n",
    "2 columns and 50 rows.\n",
    "\n",
    "Possible key: 'symbol'\n",
    "\n",
    "What is 'score' ?"
   ]
  },
  {
   "cell_type": "code",
   "execution_count": 19,
   "metadata": {},
   "outputs": [
    {
     "output_type": "execute_result",
     "data": {
      "text/plain": [
       "   _score      symbol\n",
       "0   451.0      PIK3CA\n",
       "1   404.0        TP53\n",
       "2   322.0        MUC4\n",
       "3   320.0      SHANK2\n",
       "4   318.0        ANO1\n",
       "5   316.0      ORAOV1\n",
       "6   314.0       CCND1\n",
       "7   314.0  AP001888.1\n",
       "8   310.0       FGF19\n",
       "9   310.0      PPFIA1"
      ],
      "text/html": "<div>\n<style scoped>\n    .dataframe tbody tr th:only-of-type {\n        vertical-align: middle;\n    }\n\n    .dataframe tbody tr th {\n        vertical-align: top;\n    }\n\n    .dataframe thead th {\n        text-align: right;\n    }\n</style>\n<table border=\"1\" class=\"dataframe\">\n  <thead>\n    <tr style=\"text-align: right;\">\n      <th></th>\n      <th>_score</th>\n      <th>symbol</th>\n    </tr>\n  </thead>\n  <tbody>\n    <tr>\n      <th>0</th>\n      <td>451.0</td>\n      <td>PIK3CA</td>\n    </tr>\n    <tr>\n      <th>1</th>\n      <td>404.0</td>\n      <td>TP53</td>\n    </tr>\n    <tr>\n      <th>2</th>\n      <td>322.0</td>\n      <td>MUC4</td>\n    </tr>\n    <tr>\n      <th>3</th>\n      <td>320.0</td>\n      <td>SHANK2</td>\n    </tr>\n    <tr>\n      <th>4</th>\n      <td>318.0</td>\n      <td>ANO1</td>\n    </tr>\n    <tr>\n      <th>5</th>\n      <td>316.0</td>\n      <td>ORAOV1</td>\n    </tr>\n    <tr>\n      <th>6</th>\n      <td>314.0</td>\n      <td>CCND1</td>\n    </tr>\n    <tr>\n      <th>7</th>\n      <td>314.0</td>\n      <td>AP001888.1</td>\n    </tr>\n    <tr>\n      <th>8</th>\n      <td>310.0</td>\n      <td>FGF19</td>\n    </tr>\n    <tr>\n      <th>9</th>\n      <td>310.0</td>\n      <td>PPFIA1</td>\n    </tr>\n  </tbody>\n</table>\n</div>"
     },
     "metadata": {},
     "execution_count": 19
    }
   ],
   "source": [
    "df_gene.head(10)"
   ]
  },
  {
   "cell_type": "code",
   "execution_count": 20,
   "metadata": {},
   "outputs": [
    {
     "output_type": "execute_result",
     "data": {
      "text/plain": [
       "_score    1.0\n",
       "symbol    1.0\n",
       "dtype: float64"
      ]
     },
     "metadata": {},
     "execution_count": 20
    }
   ],
   "source": [
    "df_gene.dtypes\n",
    "df_gene.notnull().mean()"
   ]
  },
  {
   "cell_type": "markdown",
   "metadata": {},
   "source": [
    "### Data Frame: ssm\n",
    "\n",
    "Information on \n",
    "\n",
    "74 columns and 1000 rows.\n",
    "\n",
    "Possible key: 'case.case_id', 'id', \n",
    "\n",
    "Most of the values are string."
   ]
  },
  {
   "cell_type": "code",
   "execution_count": 28,
   "metadata": {},
   "outputs": [
    {
     "output_type": "execute_result",
     "data": {
      "text/plain": [
       "(2347, 13)"
      ]
     },
     "metadata": {},
     "execution_count": 28
    }
   ],
   "source": [
    "df_ssm.head()\n",
    "df_ssm.shape"
   ]
  },
  {
   "cell_type": "code",
   "execution_count": 29,
   "metadata": {
    "scrolled": true
   },
   "outputs": [
    {
     "output_type": "stream",
     "name": "stdout",
     "text": [
      "case.case_id\nssm.chromosome\nssm.consequence.0.transcript.gene.symbol\nssm.cosmic_id.0\nssm.end_position\nssm.genomic_dna_change\nssm.mutation_subtype\nssm.mutation_type\nssm.ncbi_build\nssm.reference_allele\nssm.ssm_id\nssm.start_position\nssm.tumor_allele\n"
     ]
    }
   ],
   "source": [
    "df_ssm.dtypes\n",
    "for col in df_ssm.columns: \n",
    "    print(col)"
   ]
  },
  {
   "cell_type": "code",
   "execution_count": 30,
   "metadata": {},
   "outputs": [
    {
     "output_type": "execute_result",
     "data": {
      "text/plain": [
       "case.case_id                                object\n",
       "ssm.chromosome                              object\n",
       "ssm.consequence.0.transcript.gene.symbol    object\n",
       "ssm.cosmic_id.0                             object\n",
       "ssm.end_position                             int64\n",
       "ssm.genomic_dna_change                      object\n",
       "ssm.mutation_subtype                        object\n",
       "ssm.mutation_type                           object\n",
       "ssm.ncbi_build                              object\n",
       "ssm.reference_allele                        object\n",
       "ssm.ssm_id                                  object\n",
       "ssm.start_position                           int64\n",
       "ssm.tumor_allele                            object\n",
       "dtype: object"
      ]
     },
     "metadata": {},
     "execution_count": 30
    }
   ],
   "source": [
    "df_ssm.drop(df_ssm.columns[df_ssm.columns.str.contains('ce_id')], axis=1, inplace=True)\n",
    "df_ssm.drop(df_ssm.columns[df_ssm.columns.str.contains('[0-2][1-9]')], axis=1, inplace=True)\n",
    "df_ssm.drop(df_ssm.columns[df_ssm.columns.str.contains('[1-9]')], axis=1, inplace=True)\n",
    "columns_to_drop = [\"id\"]\n",
    "#df_ssm.drop(\"id\", axis=1,inplace=True)\n",
    "\n",
    "df_ssm.dtypes\n",
    "\n",
    "#for col in df_ssm.columns: \n",
    "#    print(col)"
   ]
  },
  {
   "cell_type": "code",
   "execution_count": 31,
   "metadata": {},
   "outputs": [
    {
     "output_type": "stream",
     "name": "stdout",
     "text": [
      "case.case_id \t 1.0\nssm.chromosome \t 1.0\nssm.consequence.0.transcript.gene.symbol \t 1.0\nssm.cosmic_id.0 \t 0.7064337452066468\nssm.end_position \t 1.0\nssm.genomic_dna_change \t 1.0\nssm.mutation_subtype \t 1.0\nssm.mutation_type \t 1.0\nssm.ncbi_build \t 1.0\nssm.reference_allele \t 1.0\nssm.ssm_id \t 1.0\nssm.start_position \t 1.0\nssm.tumor_allele \t 1.0\n"
     ]
    }
   ],
   "source": [
    "serie = df_ssm.notnull().mean()\n",
    "\n",
    "for name,val in zip(serie.index,serie): \n",
    "    print(name,'\\t',val)"
   ]
  },
  {
   "cell_type": "code",
   "execution_count": 32,
   "metadata": {},
   "outputs": [
    {
     "output_type": "stream",
     "name": "stdout",
     "text": [
      "(21203, 54)\n"
     ]
    }
   ],
   "source": [
    "df = new_df_case.set_index('case_id').join(df_cnv.set_index('case.case_id'), lsuffix='_caller', rsuffix='_other', )\n",
    "print(df.shape)\n",
    "df = df.set_index('id_caller').join(df_ssm.set_index('case.case_id'), lsuffix='', rsuffix='_other')\n",
    "\n",
    "columns_to_drop = [\"ssm.ssm_id\", \n",
    "                   \"id_other\", \n",
    "                   \"cnv.cnv_id\", \n",
    "                   \"ssm.cosmic_id.0\", \n",
    "                   \"ssm.cosmic_id.0\",\n",
    "                   \"cnv.chromosome\",\n",
    "                   \"ssm.end_position\", \n",
    "                   \"cnv.gene_level_cn\", \n",
    "                   \"ssm.ncbi_build\", \n",
    "                   \"cnv.ncbi_build\", \n",
    "                   \"cnv.start_position\",\n",
    "                   \"cnv.variant_status\"]\n",
    "\n",
    "df = df.drop(columns_to_drop, axis=1)"
   ]
  },
  {
   "cell_type": "code",
   "execution_count": 33,
   "metadata": {},
   "outputs": [
    {
     "output_type": "execute_result",
     "data": {
      "text/plain": [
       "                           case.case_id  cnv.chromosome cnv.cnv_change  \\\n",
       "0  c5891c7a-fd24-4891-8f51-373967e4a6dd              17           Loss   \n",
       "1  d5f2b85a-94a9-4168-bbe8-149ec71342b0              17           Gain   \n",
       "2  eafa45a4-2fd1-4fa3-860c-9d52ed382b7d              11           Gain   \n",
       "3  dd0f8e5a-383d-4f03-bb71-0e115d4e442c              11           Gain   \n",
       "4  233b02f3-c4f0-4a67-9db5-e68d5cdaccb6               8           Gain   \n",
       "\n",
       "                             cnv.cnv_id      cnv.consequence.0.consequence_id  \\\n",
       "0  0e18bd24-e7dc-5e6e-a3ba-a23fd41ac529  99c68f83-9514-5628-9623-0ba6095dd90f   \n",
       "1  73eb64c1-82ef-5f05-9946-a35b8a041148  a7e6f054-f5a1-5e7f-a0c0-8daa7373a434   \n",
       "2  10bfced2-6df4-5613-96b3-a5d70afde19c  924c27ca-11cf-5b13-95b9-cf518abb142d   \n",
       "3  de0d6322-4040-570e-b9c3-94b6d565750f  00461981-a326-573d-a9a1-ad82872a1aea   \n",
       "4  f0d7c53c-76e0-590c-b0ac-1aa316fe5c50  c6208422-2c76-553a-b0eb-4472e816381f   \n",
       "\n",
       "  cnv.consequence.0.gene.symbol  cnv.end_position  cnv.gene_level_cn  \\\n",
       "0                         BCAS3          61392838               True   \n",
       "1                         ABCA8          68955392               True   \n",
       "2                        ORAOV1          69675416               True   \n",
       "3                        SHANK2          71252577               True   \n",
       "4                           MYC         127741434               True   \n",
       "\n",
       "  cnv.ncbi_build  cnv.start_position cnv.variant_status  \\\n",
       "0         GRCh38            60677453         Tumor only   \n",
       "1         GRCh38            68867292         Tumor only   \n",
       "2         GRCh38            69653076         Tumor only   \n",
       "3         GRCh38            70467856         Tumor only   \n",
       "4         GRCh38           127735434         Tumor only   \n",
       "\n",
       "                                     id  \n",
       "0  034993b7-98a2-57df-b741-761080debf14  \n",
       "1  309d1772-5c76-52d3-b384-32d00130c801  \n",
       "2  51a42266-c861-523b-92b6-313f5ad92b72  \n",
       "3  61d42790-c539-5f6d-867b-c24bd9bb6cd6  \n",
       "4  69cd805c-29ed-56dd-aa11-92f11956b814  "
      ],
      "text/html": "<div>\n<style scoped>\n    .dataframe tbody tr th:only-of-type {\n        vertical-align: middle;\n    }\n\n    .dataframe tbody tr th {\n        vertical-align: top;\n    }\n\n    .dataframe thead th {\n        text-align: right;\n    }\n</style>\n<table border=\"1\" class=\"dataframe\">\n  <thead>\n    <tr style=\"text-align: right;\">\n      <th></th>\n      <th>case.case_id</th>\n      <th>cnv.chromosome</th>\n      <th>cnv.cnv_change</th>\n      <th>cnv.cnv_id</th>\n      <th>cnv.consequence.0.consequence_id</th>\n      <th>cnv.consequence.0.gene.symbol</th>\n      <th>cnv.end_position</th>\n      <th>cnv.gene_level_cn</th>\n      <th>cnv.ncbi_build</th>\n      <th>cnv.start_position</th>\n      <th>cnv.variant_status</th>\n      <th>id</th>\n    </tr>\n  </thead>\n  <tbody>\n    <tr>\n      <th>0</th>\n      <td>c5891c7a-fd24-4891-8f51-373967e4a6dd</td>\n      <td>17</td>\n      <td>Loss</td>\n      <td>0e18bd24-e7dc-5e6e-a3ba-a23fd41ac529</td>\n      <td>99c68f83-9514-5628-9623-0ba6095dd90f</td>\n      <td>BCAS3</td>\n      <td>61392838</td>\n      <td>True</td>\n      <td>GRCh38</td>\n      <td>60677453</td>\n      <td>Tumor only</td>\n      <td>034993b7-98a2-57df-b741-761080debf14</td>\n    </tr>\n    <tr>\n      <th>1</th>\n      <td>d5f2b85a-94a9-4168-bbe8-149ec71342b0</td>\n      <td>17</td>\n      <td>Gain</td>\n      <td>73eb64c1-82ef-5f05-9946-a35b8a041148</td>\n      <td>a7e6f054-f5a1-5e7f-a0c0-8daa7373a434</td>\n      <td>ABCA8</td>\n      <td>68955392</td>\n      <td>True</td>\n      <td>GRCh38</td>\n      <td>68867292</td>\n      <td>Tumor only</td>\n      <td>309d1772-5c76-52d3-b384-32d00130c801</td>\n    </tr>\n    <tr>\n      <th>2</th>\n      <td>eafa45a4-2fd1-4fa3-860c-9d52ed382b7d</td>\n      <td>11</td>\n      <td>Gain</td>\n      <td>10bfced2-6df4-5613-96b3-a5d70afde19c</td>\n      <td>924c27ca-11cf-5b13-95b9-cf518abb142d</td>\n      <td>ORAOV1</td>\n      <td>69675416</td>\n      <td>True</td>\n      <td>GRCh38</td>\n      <td>69653076</td>\n      <td>Tumor only</td>\n      <td>51a42266-c861-523b-92b6-313f5ad92b72</td>\n    </tr>\n    <tr>\n      <th>3</th>\n      <td>dd0f8e5a-383d-4f03-bb71-0e115d4e442c</td>\n      <td>11</td>\n      <td>Gain</td>\n      <td>de0d6322-4040-570e-b9c3-94b6d565750f</td>\n      <td>00461981-a326-573d-a9a1-ad82872a1aea</td>\n      <td>SHANK2</td>\n      <td>71252577</td>\n      <td>True</td>\n      <td>GRCh38</td>\n      <td>70467856</td>\n      <td>Tumor only</td>\n      <td>61d42790-c539-5f6d-867b-c24bd9bb6cd6</td>\n    </tr>\n    <tr>\n      <th>4</th>\n      <td>233b02f3-c4f0-4a67-9db5-e68d5cdaccb6</td>\n      <td>8</td>\n      <td>Gain</td>\n      <td>f0d7c53c-76e0-590c-b0ac-1aa316fe5c50</td>\n      <td>c6208422-2c76-553a-b0eb-4472e816381f</td>\n      <td>MYC</td>\n      <td>127741434</td>\n      <td>True</td>\n      <td>GRCh38</td>\n      <td>127735434</td>\n      <td>Tumor only</td>\n      <td>69cd805c-29ed-56dd-aa11-92f11956b814</td>\n    </tr>\n  </tbody>\n</table>\n</div>"
     },
     "metadata": {},
     "execution_count": 33
    }
   ],
   "source": [
    "df_cnv = df_cnv.rename({'case.case_id':'case_id'})\n",
    "new_df_case.head(5)\n",
    "df_cnv.head(5)"
   ]
  },
  {
   "cell_type": "code",
   "execution_count": 34,
   "metadata": {},
   "outputs": [
    {
     "output_type": "stream",
     "name": "stdout",
     "text": [
      "(9115, 44)\n(798,)\n(2347, 57)\n"
     ]
    }
   ],
   "source": [
    "print(new_df_case.shape)\n",
    "#print(df_cnv.shape)\n",
    "\n",
    "#pd.merge(left, right, on=[\"key1\", \"key2\"])\n",
    "print(df_cnv['case.case_id'].unique().shape)\n",
    "\n",
    "df = pd.merge(new_df_case,df_cnv, how='right', left_on='case_id', right_on='case.case_id')\n",
    "#print(df['case_id'].unique().shape)\n",
    "df = pd.merge(new_df_case,df_ssm, how='right', left_on='case_id', right_on='case.case_id')\n",
    "\n",
    "\n",
    "#new_df_case.set_index('case_id').join(df_cnv.set_index('case.case_id'), lsuffix='_caller', rsuffix='_other', )\n",
    "\n",
    "print(df.shape)"
   ]
  },
  {
   "cell_type": "code",
   "execution_count": 35,
   "metadata": {
    "scrolled": true
   },
   "outputs": [
    {
     "output_type": "stream",
     "name": "stdout",
     "text": [
      "case_id\ndemographic.age_at_index\ndemographic.days_to_birth\ndemographic.ethnicity\ndemographic.gender\ndemographic.race\ndemographic.vital_status\ndemographic.year_of_birth\ndiagnoses.0.age_at_diagnosis\ndiagnoses.0.ajcc_pathologic_m\ndiagnoses.0.ajcc_pathologic_n\ndiagnoses.0.ajcc_pathologic_stage\ndiagnoses.0.ajcc_pathologic_t\ndiagnoses.0.ajcc_staging_system_edition\ndiagnoses.0.classification_of_tumor\ndiagnoses.0.days_to_diagnosis\ndiagnoses.0.days_to_last_follow_up\ndiagnoses.0.last_known_disease_status\ndiagnoses.0.morphology\ndiagnoses.0.primary_diagnosis\ndiagnoses.0.prior_malignancy\ndiagnoses.0.prior_treatment\ndiagnoses.0.progression_or_recurrence\ndiagnoses.0.site_of_resection_or_biopsy\ndiagnoses.0.synchronous_malignancy\ndiagnoses.0.tissue_or_organ_of_origin\ndiagnoses.0.tumor_grade\ndiagnoses.0.tumor_stage\ndiagnoses.0.year_of_diagnosis\nexposures.0.alcohol_history\nid\nsamples.0.is_ffpe\nsamples.0.oct_embedded\nsamples.0.sample_type\nsamples.0.tissue_type\nsamples.0.tumor_descriptor\nsamples.1.is_ffpe\nsamples.1.oct_embedded\nsamples.1.sample_type\nsamples.1.tissue_type\nsamples.2.is_ffpe\nsamples.2.oct_embedded\nsamples.2.sample_type\nsamples.2.tissue_type\ncase.case_id\nssm.chromosome\nssm.consequence.0.transcript.gene.symbol\nssm.cosmic_id.0\nssm.end_position\nssm.genomic_dna_change\nssm.mutation_subtype\nssm.mutation_type\nssm.ncbi_build\nssm.reference_allele\nssm.ssm_id\nssm.start_position\nssm.tumor_allele\n"
     ]
    }
   ],
   "source": [
    "df.dtypes\n",
    "for col in df.columns: \n",
    "    print(col)"
   ]
  },
  {
   "cell_type": "code",
   "execution_count": 45,
   "metadata": {},
   "outputs": [
    {
     "output_type": "stream",
     "name": "stdout",
     "text": [
      "--------------------------------------------\ndiagnoses.0.ajcc_pathologic_m\n--------------------------------------------\n['M0' 'MX' 'M1' 'cM0 (i+)' nan]\n\n\n--------------------------------------------\ndiagnoses.0.ajcc_pathologic_n\n--------------------------------------------\n['N1a' 'N0 (i-)' 'N0' 'NX' 'N2a' 'N1' 'N3' 'N2' 'N3a' 'N1b' 'N0 (i+)'\n 'N1mi' 'N3c' 'N3b' nan 'N1c']\n\n\n--------------------------------------------\ndiagnoses.0.ajcc_pathologic_stage\n--------------------------------------------\n['Stage IIB' 'Stage IIA' 'Stage IIIA' 'Stage IA' 'Stage IIIC' 'Stage IIIB'\n nan 'Stage I' 'Stage X' 'Stage IV' 'Stage II' 'Stage IB' 'Stage III']\n\n\n--------------------------------------------\ndiagnoses.0.ajcc_pathologic_t\n--------------------------------------------\n['T2' 'T1c' 'T1' 'T3' 'T4b' 'TX' 'T1b' 'T4' 'T4d' nan 'T1a']\n\n\n--------------------------------------------\ndiagnoses.0.tumor_grade\n--------------------------------------------\n['not reported']\n\n\n--------------------------------------------\ndiagnoses.0.tumor_stage\n--------------------------------------------\n['stage iib' 'stage iia' 'stage iiia' 'stage ia' 'stage iiic' 'stage iiib'\n 'not reported' 'stage i' 'stage x' 'stage iv' 'stage ii' 'stage ib'\n 'stage iii']\n\n\n--------------------------------------------\nsamples.0.is_ffpe\n--------------------------------------------\n[True False]\n\n\n--------------------------------------------\nsamples.1.oct_embedded\n--------------------------------------------\n['false' 'true' 'No']\n\n\n--------------------------------------------\nssm.consequence.0.transcript.gene.symbol\n--------------------------------------------\n['MUC4' 'PIK3CA' 'TP53' 'TTN' 'TPCN2' 'ABCA6' 'ABCA8' 'CTTN' 'SHANK2'\n 'RYR2' 'CSMD3' 'BPTF' 'NOTCH2' 'RNF213' 'PPFIA1' 'CPT1A' 'TANC2' 'AMZ2'\n 'PITPNC1' 'SDK2' 'DNAH17' 'TG' 'ANO1' 'HELZ' 'MYEOV' 'MRGPRF' 'PRKAR1A'\n 'ARSG' 'ABCA10' 'MRGPRD' 'NOL11' 'CEP112' 'SLC16A6' 'BCAS3' 'KPNA2'\n 'TRPS1' 'PRKCA' 'ABCA9' 'CCND1' 'POU5F1B' 'FNTA' 'IGHMBP2' 'MYC' 'FGF4'\n 'FGF3' 'ORAOV1']\n\n\n--------------------------------------------\nssm.end_position\n--------------------------------------------\n[195780168 179199149 179203764 ... 179203763 178558008 112552672]\n\n\n--------------------------------------------\nssm.ncbi_build\n--------------------------------------------\n['GRCh38']\n\n\n"
     ]
    }
   ],
   "source": [
    "list_col_unique = [\"diagnoses.0.ajcc_pathologic_m\",\n",
    "                   'diagnoses.0.ajcc_pathologic_n',\n",
    "                   \"diagnoses.0.ajcc_pathologic_stage\",\n",
    "                   \"diagnoses.0.ajcc_pathologic_t\",\n",
    "                   \"diagnoses.0.tumor_grade\",\n",
    "                   \"diagnoses.0.tumor_stage\",\n",
    "                   \"samples.0.is_ffpe\",\n",
    "                   \"samples.1.oct_embedded\",\n",
    "                   #\"cnv.chromosome\",\n",
    "                   #\"cnv.cnv_change\",\n",
    "                   \"ssm.consequence.0.transcript.gene.symbol\",\n",
    "                   \"ssm.end_position\",\n",
    "                   \"ssm.ncbi_build\",\n",
    "                   #\"cnv.gene_level_cn\",\n",
    "                   #\"cnv.start_position\",\n",
    "                   #\"cnv.variant_status\"\n",
    "                   ]\n",
    "\n",
    "for column in list_col_unique:\n",
    "    print( '--------------------------------------------')\n",
    "    print(column)\n",
    "    print( '--------------------------------------------')\n",
    "    print(df[column].unique())\n",
    "    print('\\n')"
   ]
  },
  {
   "cell_type": "code",
   "execution_count": 37,
   "metadata": {},
   "outputs": [
    {
     "output_type": "execute_result",
     "data": {
      "text/plain": [
       "0    2\n",
       "1    2\n",
       "2    2\n",
       "3    2\n",
       "4    2\n",
       "5    3\n",
       "6    2\n",
       "7    2\n",
       "8    2\n",
       "9    2\n",
       "Name: count, dtype: int64"
      ]
     },
     "metadata": {},
     "execution_count": 37
    }
   ],
   "source": [
    "df[\"count_na\"] = df.isnull().sum(axis=1).values\n",
    "df_new = pd.DataFrame({'case_id':df[\"count_na\"].index, 'count':df[\"count_na\"].values})\n",
    "\n",
    "df_new[\"count\"].head(10)"
   ]
  },
  {
   "cell_type": "code",
   "execution_count": 38,
   "metadata": {},
   "outputs": [],
   "source": [
    "df.dropna(axis=0, thresh=20, inplace=True)"
   ]
  },
  {
   "cell_type": "code",
   "execution_count": 39,
   "metadata": {},
   "outputs": [
    {
     "output_type": "execute_result",
     "data": {
      "text/plain": [
       "(809,)"
      ]
     },
     "metadata": {},
     "execution_count": 39
    }
   ],
   "source": [
    "df['case_id'].unique().shape\n"
   ]
  }
 ],
 "metadata": {
  "kernelspec": {
   "display_name": "Python 3",
   "language": "python",
   "name": "python3"
  },
  "language_info": {
   "codemirror_mode": {
    "name": "ipython",
    "version": 3
   },
   "file_extension": ".py",
   "mimetype": "text/x-python",
   "name": "python",
   "nbconvert_exporter": "python",
   "pygments_lexer": "ipython3",
   "version": "3.8.5-final"
  }
 },
 "nbformat": 4,
 "nbformat_minor": 2
}
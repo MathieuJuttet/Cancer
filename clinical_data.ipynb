{
 "cells": [
  {
   "cell_type": "code",
   "execution_count": 20,
   "metadata": {},
   "outputs": [],
   "source": [
    "import requests\n",
    "import json\n",
    "import pandas as pd\n",
    "import numpy as np\n",
    "import os.path"
   ]
  },
  {
   "cell_type": "markdown",
   "metadata": {},
   "source": [
    "# Step 1: downloading the data\n",
    "To get the data, we use the [GDC API](https://docs.gdc.cancer.gov/API/Users_Guide/). Please refer to the link for additional information."
   ]
  },
  {
   "cell_type": "code",
   "execution_count": 21,
   "metadata": {},
   "outputs": [],
   "source": [
    "##### Folders\n",
    "pload_p = \"payload/\"\n",
    "data_p = \"data/\"\n",
    "\n",
    "headers = {'Content-Type': 'application/json',}\n",
    "root = 'https://api.gdc.cancer.gov/'\n",
    "endpt_l = {\"case\":\"cases\",\n",
    "           \"ssm\":\"ssm_occurrences\",\n",
    "           \"cnv\":\"cnv_occurrences\",\n",
    "           \"gene\":\"analysis/top_mutated_genes_by_project\"}\n",
    "\n",
    "pload_l = [\"case\", \"ssm\", \"cnv\", \"gene\"]\n",
    "\n",
    "def dl(endpt, data):\n",
    "    \"\"\" simple wrapper around request.post with correct arguments filled in.\n",
    "    \"\"\"\n",
    "    response = requests.post(root + endpt, timeout=5, headers=headers, data=data)\n",
    "    return response.text"
   ]
  },
  {
   "cell_type": "code",
   "execution_count": 28,
   "metadata": {},
   "outputs": [],
   "source": [
    "def fill_filter_gene():\n",
    "    \"\"\" Builds the filter for cvn/ssm to ensure only motation on top genes are reported.\n",
    "    \"\"\"\n",
    "    top_genes = pd.read_csv(data_p + \"gene.tsv\", \"\\t\")[\"symbol\"].to_numpy()\n",
    "    for req in (\"ssm\", \"cnv\"):\n",
    "        with open(pload_p + req, \"r+\") as f:\n",
    "            payload = json.load(f)\n",
    "            payload[\"filters\"][\"content\"][0][\"content\"][\"value\"] = list(top_genes)\n",
    "            f.seek(0)\n",
    "            json.dump(payload, f, separators=(\",\",\":\"))\n",
    "            f.truncate()"
   ]
  },
  {
   "cell_type": "code",
   "execution_count": 23,
   "metadata": {},
   "outputs": [],
   "source": [
    "def load(fname, force_dl=False):\n",
    "    \"\"\" wrapper utility to avoid re-downloading data.\n",
    "    \"\"\"\n",
    "    fp = data_p + fname + \".tsv\"\n",
    "    if not force_dl and os.path.exists(fp):\n",
    "        return pd.read_csv(fp, sep=\"\\t\", low_memory=False)\n",
    "    #load request params\n",
    "    print(f\"file {fp} not found... Downloading...\")\n",
    "    data = open(pload_p + fname)\n",
    "    text = dl(endpt_l[fname], data)\n",
    "    with open(fp, \"w\") as f:\n",
    "        f.write(text)\n",
    "        \n",
    "    return pd.read_csv(fp, sep=\"\\t\", low_memory=False)       "
   ]
  },
  {
   "cell_type": "code",
   "execution_count": 29,
   "metadata": {},
   "outputs": [
    {
     "output_type": "stream",
     "name": "stdout",
     "text": [
      "file data/case.tsv not found... Downloading...\n",
      "file data/gene.tsv not found... Downloading...\n",
      "file data/ssm.tsv not found... Downloading...\n",
      "file data/cnv.tsv not found... Downloading...\n"
     ]
    }
   ],
   "source": [
    "casedf = load(\"case\")\n",
    "genedf = load(\"gene\")\n",
    "fill_filter_gene() #update filters to only cater top 50genes\n",
    "ssmdf = load(\"ssm\")\n",
    "cnvdf = load(\"cnv\")"
   ]
  },
  {
   "cell_type": "code",
   "execution_count": null,
   "metadata": {},
   "outputs": [],
   "source": []
  }
 ],
 "metadata": {
  "kernelspec": {
   "display_name": "Python 3",
   "language": "python",
   "name": "python3"
  },
  "language_info": {
   "codemirror_mode": {
    "name": "ipython",
    "version": 3
   },
   "file_extension": ".py",
   "mimetype": "text/x-python",
   "name": "python",
   "nbconvert_exporter": "python",
   "pygments_lexer": "ipython3",
   "version": "3.7.6-final"
  }
 },
 "nbformat": 4,
 "nbformat_minor": 4
}